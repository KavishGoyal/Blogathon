{
 "cells": [
  {
   "cell_type": "code",
   "execution_count": 1,
   "id": "d73758df",
   "metadata": {},
   "outputs": [],
   "source": [
    "import pandas as pd\n",
    "import numpy as np\n",
    "import matplotlib.pyplot as plt\n",
    "import seaborn as sns\n",
    "import sklearn\n",
    "from sklearn.preprocessing import LabelEncoder\n",
    "from sklearn.linear_model import LogisticRegression"
   ]
  },
  {
   "cell_type": "code",
   "execution_count": 2,
   "id": "e3eb853e",
   "metadata": {},
   "outputs": [
    {
     "data": {
      "text/html": [
       "<div>\n",
       "<style scoped>\n",
       "    .dataframe tbody tr th:only-of-type {\n",
       "        vertical-align: middle;\n",
       "    }\n",
       "\n",
       "    .dataframe tbody tr th {\n",
       "        vertical-align: top;\n",
       "    }\n",
       "\n",
       "    .dataframe thead th {\n",
       "        text-align: right;\n",
       "    }\n",
       "</style>\n",
       "<table border=\"1\" class=\"dataframe\">\n",
       "  <thead>\n",
       "    <tr style=\"text-align: right;\">\n",
       "      <th></th>\n",
       "      <th>Loan_ID</th>\n",
       "      <th>Gender</th>\n",
       "      <th>Married</th>\n",
       "      <th>Dependents</th>\n",
       "      <th>Graduate</th>\n",
       "      <th>Self_Employed</th>\n",
       "      <th>ApplicantIncome</th>\n",
       "      <th>CoapplicantIncome</th>\n",
       "      <th>LoanAmount</th>\n",
       "      <th>Loan_Amount_Term</th>\n",
       "      <th>Credit_History</th>\n",
       "      <th>Property_Area</th>\n",
       "      <th>Loan_Status</th>\n",
       "    </tr>\n",
       "  </thead>\n",
       "  <tbody>\n",
       "    <tr>\n",
       "      <th>0</th>\n",
       "      <td>1002</td>\n",
       "      <td>1</td>\n",
       "      <td>0</td>\n",
       "      <td>0</td>\n",
       "      <td>1</td>\n",
       "      <td>0</td>\n",
       "      <td>5849</td>\n",
       "      <td>0.0</td>\n",
       "      <td>128</td>\n",
       "      <td>360</td>\n",
       "      <td>1</td>\n",
       "      <td>1</td>\n",
       "      <td>Y</td>\n",
       "    </tr>\n",
       "    <tr>\n",
       "      <th>1</th>\n",
       "      <td>1003</td>\n",
       "      <td>1</td>\n",
       "      <td>1</td>\n",
       "      <td>1</td>\n",
       "      <td>1</td>\n",
       "      <td>0</td>\n",
       "      <td>4583</td>\n",
       "      <td>1508.0</td>\n",
       "      <td>128</td>\n",
       "      <td>360</td>\n",
       "      <td>1</td>\n",
       "      <td>3</td>\n",
       "      <td>N</td>\n",
       "    </tr>\n",
       "    <tr>\n",
       "      <th>2</th>\n",
       "      <td>1005</td>\n",
       "      <td>1</td>\n",
       "      <td>1</td>\n",
       "      <td>0</td>\n",
       "      <td>1</td>\n",
       "      <td>1</td>\n",
       "      <td>3000</td>\n",
       "      <td>0.0</td>\n",
       "      <td>66</td>\n",
       "      <td>360</td>\n",
       "      <td>1</td>\n",
       "      <td>1</td>\n",
       "      <td>Y</td>\n",
       "    </tr>\n",
       "    <tr>\n",
       "      <th>3</th>\n",
       "      <td>1006</td>\n",
       "      <td>1</td>\n",
       "      <td>1</td>\n",
       "      <td>0</td>\n",
       "      <td>0</td>\n",
       "      <td>0</td>\n",
       "      <td>2583</td>\n",
       "      <td>2358.0</td>\n",
       "      <td>120</td>\n",
       "      <td>360</td>\n",
       "      <td>1</td>\n",
       "      <td>1</td>\n",
       "      <td>Y</td>\n",
       "    </tr>\n",
       "    <tr>\n",
       "      <th>4</th>\n",
       "      <td>1008</td>\n",
       "      <td>1</td>\n",
       "      <td>0</td>\n",
       "      <td>0</td>\n",
       "      <td>1</td>\n",
       "      <td>0</td>\n",
       "      <td>6000</td>\n",
       "      <td>0.0</td>\n",
       "      <td>141</td>\n",
       "      <td>360</td>\n",
       "      <td>1</td>\n",
       "      <td>1</td>\n",
       "      <td>Y</td>\n",
       "    </tr>\n",
       "  </tbody>\n",
       "</table>\n",
       "</div>"
      ],
      "text/plain": [
       "   Loan_ID  Gender  Married  Dependents  Graduate  Self_Employed  \\\n",
       "0     1002       1        0           0         1              0   \n",
       "1     1003       1        1           1         1              0   \n",
       "2     1005       1        1           0         1              1   \n",
       "3     1006       1        1           0         0              0   \n",
       "4     1008       1        0           0         1              0   \n",
       "\n",
       "   ApplicantIncome  CoapplicantIncome  LoanAmount  Loan_Amount_Term  \\\n",
       "0             5849                0.0         128               360   \n",
       "1             4583             1508.0         128               360   \n",
       "2             3000                0.0          66               360   \n",
       "3             2583             2358.0         120               360   \n",
       "4             6000                0.0         141               360   \n",
       "\n",
       "   Credit_History  Property_Area Loan_Status  \n",
       "0               1              1           Y  \n",
       "1               1              3           N  \n",
       "2               1              1           Y  \n",
       "3               1              1           Y  \n",
       "4               1              1           Y  "
      ]
     },
     "execution_count": 2,
     "metadata": {},
     "output_type": "execute_result"
    }
   ],
   "source": [
    "loan_df = pd.read_csv('loan_data.csv')\n",
    "loan_df.head()"
   ]
  },
  {
   "cell_type": "code",
   "execution_count": 3,
   "id": "c98cec43",
   "metadata": {},
   "outputs": [
    {
     "data": {
      "text/plain": [
       "Loan_ID              0\n",
       "Gender               0\n",
       "Married              0\n",
       "Dependents           0\n",
       "Graduate             0\n",
       "Self_Employed        0\n",
       "ApplicantIncome      0\n",
       "CoapplicantIncome    0\n",
       "LoanAmount           0\n",
       "Loan_Amount_Term     0\n",
       "Credit_History       0\n",
       "Property_Area        0\n",
       "Loan_Status          0\n",
       "dtype: int64"
      ]
     },
     "execution_count": 3,
     "metadata": {},
     "output_type": "execute_result"
    }
   ],
   "source": [
    "loan_df.isna().sum()"
   ]
  },
  {
   "cell_type": "code",
   "execution_count": 4,
   "id": "c71a6a1d",
   "metadata": {},
   "outputs": [
    {
     "data": {
      "text/html": [
       "<div>\n",
       "<style scoped>\n",
       "    .dataframe tbody tr th:only-of-type {\n",
       "        vertical-align: middle;\n",
       "    }\n",
       "\n",
       "    .dataframe tbody tr th {\n",
       "        vertical-align: top;\n",
       "    }\n",
       "\n",
       "    .dataframe thead th {\n",
       "        text-align: right;\n",
       "    }\n",
       "</style>\n",
       "<table border=\"1\" class=\"dataframe\">\n",
       "  <thead>\n",
       "    <tr style=\"text-align: right;\">\n",
       "      <th></th>\n",
       "      <th>count</th>\n",
       "      <th>mean</th>\n",
       "      <th>std</th>\n",
       "      <th>min</th>\n",
       "      <th>25%</th>\n",
       "      <th>50%</th>\n",
       "      <th>75%</th>\n",
       "      <th>max</th>\n",
       "    </tr>\n",
       "  </thead>\n",
       "  <tbody>\n",
       "    <tr>\n",
       "      <th>Loan_ID</th>\n",
       "      <td>398.0</td>\n",
       "      <td>1657.125628</td>\n",
       "      <td>371.764584</td>\n",
       "      <td>1002.0</td>\n",
       "      <td>1343.5</td>\n",
       "      <td>1672.0</td>\n",
       "      <td>1954.75</td>\n",
       "      <td>2281.0</td>\n",
       "    </tr>\n",
       "    <tr>\n",
       "      <th>Gender</th>\n",
       "      <td>398.0</td>\n",
       "      <td>1.178392</td>\n",
       "      <td>0.383324</td>\n",
       "      <td>1.0</td>\n",
       "      <td>1.0</td>\n",
       "      <td>1.0</td>\n",
       "      <td>1.00</td>\n",
       "      <td>2.0</td>\n",
       "    </tr>\n",
       "    <tr>\n",
       "      <th>Married</th>\n",
       "      <td>398.0</td>\n",
       "      <td>0.650754</td>\n",
       "      <td>0.477332</td>\n",
       "      <td>0.0</td>\n",
       "      <td>0.0</td>\n",
       "      <td>1.0</td>\n",
       "      <td>1.00</td>\n",
       "      <td>1.0</td>\n",
       "    </tr>\n",
       "    <tr>\n",
       "      <th>Dependents</th>\n",
       "      <td>398.0</td>\n",
       "      <td>0.721106</td>\n",
       "      <td>1.011325</td>\n",
       "      <td>0.0</td>\n",
       "      <td>0.0</td>\n",
       "      <td>0.0</td>\n",
       "      <td>1.00</td>\n",
       "      <td>3.0</td>\n",
       "    </tr>\n",
       "    <tr>\n",
       "      <th>Graduate</th>\n",
       "      <td>398.0</td>\n",
       "      <td>0.809045</td>\n",
       "      <td>0.393548</td>\n",
       "      <td>0.0</td>\n",
       "      <td>1.0</td>\n",
       "      <td>1.0</td>\n",
       "      <td>1.00</td>\n",
       "      <td>1.0</td>\n",
       "    </tr>\n",
       "    <tr>\n",
       "      <th>Self_Employed</th>\n",
       "      <td>398.0</td>\n",
       "      <td>0.123116</td>\n",
       "      <td>0.328983</td>\n",
       "      <td>0.0</td>\n",
       "      <td>0.0</td>\n",
       "      <td>0.0</td>\n",
       "      <td>0.00</td>\n",
       "      <td>1.0</td>\n",
       "    </tr>\n",
       "    <tr>\n",
       "      <th>ApplicantIncome</th>\n",
       "      <td>398.0</td>\n",
       "      <td>5341.944724</td>\n",
       "      <td>5723.445768</td>\n",
       "      <td>150.0</td>\n",
       "      <td>2940.5</td>\n",
       "      <td>3861.5</td>\n",
       "      <td>5688.00</td>\n",
       "      <td>63337.0</td>\n",
       "    </tr>\n",
       "    <tr>\n",
       "      <th>CoapplicantIncome</th>\n",
       "      <td>398.0</td>\n",
       "      <td>1504.077387</td>\n",
       "      <td>1850.253352</td>\n",
       "      <td>0.0</td>\n",
       "      <td>0.0</td>\n",
       "      <td>1221.0</td>\n",
       "      <td>2332.25</td>\n",
       "      <td>11300.0</td>\n",
       "    </tr>\n",
       "    <tr>\n",
       "      <th>LoanAmount</th>\n",
       "      <td>398.0</td>\n",
       "      <td>145.371859</td>\n",
       "      <td>83.941460</td>\n",
       "      <td>17.0</td>\n",
       "      <td>102.5</td>\n",
       "      <td>128.0</td>\n",
       "      <td>163.00</td>\n",
       "      <td>700.0</td>\n",
       "    </tr>\n",
       "    <tr>\n",
       "      <th>Loan_Amount_Term</th>\n",
       "      <td>398.0</td>\n",
       "      <td>344.020101</td>\n",
       "      <td>63.458665</td>\n",
       "      <td>36.0</td>\n",
       "      <td>360.0</td>\n",
       "      <td>360.0</td>\n",
       "      <td>360.00</td>\n",
       "      <td>480.0</td>\n",
       "    </tr>\n",
       "    <tr>\n",
       "      <th>Credit_History</th>\n",
       "      <td>398.0</td>\n",
       "      <td>0.791457</td>\n",
       "      <td>0.406778</td>\n",
       "      <td>0.0</td>\n",
       "      <td>1.0</td>\n",
       "      <td>1.0</td>\n",
       "      <td>1.00</td>\n",
       "      <td>1.0</td>\n",
       "    </tr>\n",
       "    <tr>\n",
       "      <th>Property_Area</th>\n",
       "      <td>398.0</td>\n",
       "      <td>1.894472</td>\n",
       "      <td>0.786485</td>\n",
       "      <td>1.0</td>\n",
       "      <td>1.0</td>\n",
       "      <td>2.0</td>\n",
       "      <td>3.00</td>\n",
       "      <td>3.0</td>\n",
       "    </tr>\n",
       "  </tbody>\n",
       "</table>\n",
       "</div>"
      ],
      "text/plain": [
       "                   count         mean          std     min     25%     50%  \\\n",
       "Loan_ID            398.0  1657.125628   371.764584  1002.0  1343.5  1672.0   \n",
       "Gender             398.0     1.178392     0.383324     1.0     1.0     1.0   \n",
       "Married            398.0     0.650754     0.477332     0.0     0.0     1.0   \n",
       "Dependents         398.0     0.721106     1.011325     0.0     0.0     0.0   \n",
       "Graduate           398.0     0.809045     0.393548     0.0     1.0     1.0   \n",
       "Self_Employed      398.0     0.123116     0.328983     0.0     0.0     0.0   \n",
       "ApplicantIncome    398.0  5341.944724  5723.445768   150.0  2940.5  3861.5   \n",
       "CoapplicantIncome  398.0  1504.077387  1850.253352     0.0     0.0  1221.0   \n",
       "LoanAmount         398.0   145.371859    83.941460    17.0   102.5   128.0   \n",
       "Loan_Amount_Term   398.0   344.020101    63.458665    36.0   360.0   360.0   \n",
       "Credit_History     398.0     0.791457     0.406778     0.0     1.0     1.0   \n",
       "Property_Area      398.0     1.894472     0.786485     1.0     1.0     2.0   \n",
       "\n",
       "                       75%      max  \n",
       "Loan_ID            1954.75   2281.0  \n",
       "Gender                1.00      2.0  \n",
       "Married               1.00      1.0  \n",
       "Dependents            1.00      3.0  \n",
       "Graduate              1.00      1.0  \n",
       "Self_Employed         0.00      1.0  \n",
       "ApplicantIncome    5688.00  63337.0  \n",
       "CoapplicantIncome  2332.25  11300.0  \n",
       "LoanAmount          163.00    700.0  \n",
       "Loan_Amount_Term    360.00    480.0  \n",
       "Credit_History        1.00      1.0  \n",
       "Property_Area         3.00      3.0  "
      ]
     },
     "execution_count": 4,
     "metadata": {},
     "output_type": "execute_result"
    }
   ],
   "source": [
    "loan_df.describe().T"
   ]
  },
  {
   "cell_type": "code",
   "execution_count": 6,
   "id": "86a8afa9",
   "metadata": {},
   "outputs": [
    {
     "name": "stdout",
     "output_type": "stream",
     "text": [
      "<class 'pandas.core.frame.DataFrame'>\n",
      "RangeIndex: 398 entries, 0 to 397\n",
      "Data columns (total 13 columns):\n",
      " #   Column             Non-Null Count  Dtype  \n",
      "---  ------             --------------  -----  \n",
      " 0   Loan_ID            398 non-null    int64  \n",
      " 1   Gender             398 non-null    int64  \n",
      " 2   Married            398 non-null    int64  \n",
      " 3   Dependents         398 non-null    int64  \n",
      " 4   Graduate           398 non-null    int64  \n",
      " 5   Self_Employed      398 non-null    int64  \n",
      " 6   ApplicantIncome    398 non-null    int64  \n",
      " 7   CoapplicantIncome  398 non-null    float64\n",
      " 8   LoanAmount         398 non-null    int64  \n",
      " 9   Loan_Amount_Term   398 non-null    int64  \n",
      " 10  Credit_History     398 non-null    int64  \n",
      " 11  Property_Area      398 non-null    int64  \n",
      " 12  Loan_Status        398 non-null    object \n",
      "dtypes: float64(1), int64(11), object(1)\n",
      "memory usage: 40.5+ KB\n"
     ]
    }
   ],
   "source": [
    "loan_df.info()"
   ]
  },
  {
   "cell_type": "code",
   "execution_count": 5,
   "id": "6158eac6",
   "metadata": {},
   "outputs": [],
   "source": [
    "y = loan_df['Loan_Status']\n",
    "X = loan_df.drop(['Loan_ID', 'Loan_Status'], axis = 1)"
   ]
  },
  {
   "cell_type": "code",
   "execution_count": 6,
   "id": "d0d8dfdb",
   "metadata": {},
   "outputs": [],
   "source": [
    "lbe = LabelEncoder()\n",
    "y_labeled = lbe.fit_transform(y)"
   ]
  },
  {
   "cell_type": "code",
   "execution_count": 7,
   "id": "fba827b3",
   "metadata": {},
   "outputs": [],
   "source": [
    "from sklearn.model_selection import train_test_split as tst\n",
    "\n",
    "X_train, X_valid, y_train, y_valid = tst(X, y_labeled, test_size = 0.25, stratify = y_labeled)\n"
   ]
  },
  {
   "cell_type": "code",
   "execution_count": 8,
   "id": "dd5e3b10",
   "metadata": {},
   "outputs": [
    {
     "name": "stderr",
     "output_type": "stream",
     "text": [
      "C:\\ProgramData\\Anaconda3\\lib\\site-packages\\sklearn\\linear_model\\_logistic.py:814: ConvergenceWarning: lbfgs failed to converge (status=1):\n",
      "STOP: TOTAL NO. of ITERATIONS REACHED LIMIT.\n",
      "\n",
      "Increase the number of iterations (max_iter) or scale the data as shown in:\n",
      "    https://scikit-learn.org/stable/modules/preprocessing.html\n",
      "Please also refer to the documentation for alternative solver options:\n",
      "    https://scikit-learn.org/stable/modules/linear_model.html#logistic-regression\n",
      "  n_iter_i = _check_optimize_result(\n"
     ]
    },
    {
     "data": {
      "text/plain": [
       "LogisticRegression()"
      ]
     },
     "execution_count": 8,
     "metadata": {},
     "output_type": "execute_result"
    }
   ],
   "source": [
    "model = LogisticRegression()\n",
    "model.fit(X_train, y_train)"
   ]
  },
  {
   "cell_type": "code",
   "execution_count": 14,
   "id": "1c28113f",
   "metadata": {},
   "outputs": [],
   "source": [
    "y_preds = model.predict_proba(X_valid)"
   ]
  },
  {
   "cell_type": "code",
   "execution_count": 15,
   "id": "f6a8c6d2",
   "metadata": {},
   "outputs": [
    {
     "data": {
      "image/png": "[encoded data removed]",
      "text/plain": [
       "<Figure size 432x288 with 1 Axes>"
      ]
     },
     "metadata": {
      "needs_background": "light"
     },
     "output_type": "display_data"
    }
   ],
   "source": [
    "from sklearn.metrics import roc_curve\n",
    "\n",
    "# retrieving just the probabilities for the positive class\n",
    "pos_probs = y_preds[:, 1] \n",
    "\n",
    "# plotting no skill roc curve\n",
    "plt.plot([0, 1], [0, 1], linestyle='--', label='No Skill')\n",
    "\n",
    "# calculating roc curve for model\n",
    "fpr, tpr, _ = roc_curve(y_valid, pos_probs)\n",
    "\n",
    "# plotting model roc curve\n",
    "plt.plot(fpr, tpr, marker='.', label='Logistic')\n",
    "\n",
    "# assigning axis labels\n",
    "plt.xlabel('False Positive Rate')\n",
    "plt.ylabel('True Positive Rate')\n",
    "\n",
    "# show the legend\n",
    "plt.legend()\n",
    "\n",
    "# show the plot\n",
    "plt.show()"
   ]
  },
  {
   "cell_type": "code",
   "execution_count": 16,
   "id": "a8cb0b8c",
   "metadata": {},
   "outputs": [
    {
     "name": "stdout",
     "output_type": "stream",
     "text": [
      "Logistic ROC AUC 0.634\n"
     ]
    }
   ],
   "source": [
    "from sklearn.metrics import roc_auc_score\n",
    "\n",
    "# calculate roc auc\n",
    "roc_auc = roc_auc_score(y_valid, pos_probs)\n",
    "print('Logistic ROC AUC %.3f' % roc_auc)"
   ]
  },
  {
   "cell_type": "code",
   "execution_count": 17,
   "id": "40b83844",
   "metadata": {},
   "outputs": [],
   "source": [
    "# !pip install scikit_optimize xgboost"
   ]
  },
  {
   "cell_type": "code",
   "execution_count": 18,
   "id": "4b034401",
   "metadata": {},
   "outputs": [
    {
     "data": {
      "text/plain": [
       "RandomForestClassifier()"
      ]
     },
     "execution_count": 18,
     "metadata": {},
     "output_type": "execute_result"
    }
   ],
   "source": [
    "from sklearn.ensemble import RandomForestClassifier\n",
    "\n",
    "classifier = RandomForestClassifier()\n",
    "classifier.fit(X_train, y_train)"
   ]
  },
  {
   "cell_type": "code",
   "execution_count": 19,
   "id": "f70d397a",
   "metadata": {},
   "outputs": [],
   "source": [
    "y_pred = classifier.predict(X_valid)"
   ]
  },
  {
   "cell_type": "code",
   "execution_count": 20,
   "id": "a3a6109e",
   "metadata": {},
   "outputs": [],
   "source": [
    "roc_auc = roc_auc_score(y_valid, y_pred)"
   ]
  },
  {
   "cell_type": "code",
   "execution_count": 21,
   "id": "6cf097d1",
   "metadata": {},
   "outputs": [
    {
     "data": {
      "text/plain": [
       "0.6000000000000001"
      ]
     },
     "execution_count": 21,
     "metadata": {},
     "output_type": "execute_result"
    }
   ],
   "source": [
    "roc_auc"
   ]
  },
  {
   "cell_type": "code",
   "execution_count": 22,
   "id": "be71f491",
   "metadata": {},
   "outputs": [
    {
     "name": "stdout",
     "output_type": "stream",
     "text": [
      "              precision    recall  f1-score   support\n",
      "\n",
      "           0       0.46      0.40      0.43        30\n",
      "           1       0.76      0.80      0.78        70\n",
      "\n",
      "    accuracy                           0.68       100\n",
      "   macro avg       0.61      0.60      0.60       100\n",
      "weighted avg       0.67      0.68      0.67       100\n",
      "\n"
     ]
    }
   ],
   "source": [
    "from sklearn.metrics import classification_report\n",
    "print(classification_report(y_valid, y_pred))"
   ]
  },
  {
   "cell_type": "code",
   "execution_count": 53,
   "id": "d76f6f83",
   "metadata": {},
   "outputs": [
    {
     "name": "stderr",
     "output_type": "stream",
     "text": [
      "C:\\ProgramData\\Anaconda3\\lib\\site-packages\\seaborn\\_decorators.py:36: FutureWarning: Pass the following variables as keyword args: x, y. From version 0.12, the only valid positional argument will be `data`, and passing other arguments without an explicit keyword will result in an error or misinterpretation.\n",
      "  warnings.warn(\n"
     ]
    },
    {
     "data": {
      "text/plain": [
       "<AxesSubplot:>"
      ]
     },
     "execution_count": 53,
     "metadata": {},
     "output_type": "execute_result"
    },
    {
     "data": {
      "image/png": "[encoded data removed]",
      "text/plain": [
       "<Figure size 1296x576 with 1 Axes>"
      ]
     },
     "metadata": {
      "needs_background": "light"
     },
     "output_type": "display_data"
    }
   ],
   "source": [
    "plt.figure(figsize = (18,8))\n",
    "sns.barplot(X_train.columns, classifier.feature_importances_)"
   ]
  },
  {
   "cell_type": "markdown",
   "id": "dd6ef1c0",
   "metadata": {},
   "source": [
    "## Hyperparameter Tuning with XGBOOST"
   ]
  },
  {
   "cell_type": "code",
   "execution_count": 37,
   "id": "c10916b6",
   "metadata": {},
   "outputs": [],
   "source": [
    "from xgboost import XGBClassifier\n",
    "from sklearn.model_selection import GridSearchCV, RandomizedSearchCV, StratifiedShuffleSplit\n",
    "from scipy.stats import randint, uniform\n",
    "from skopt import BayesSearchCV\n",
    "from skopt.space import Real, Categorical, Integer"
   ]
  },
  {
   "cell_type": "markdown",
   "id": "13ba6679",
   "metadata": {},
   "source": [
    "### Grid with Xgboost"
   ]
  },
  {
   "cell_type": "code",
   "execution_count": 39,
   "id": "de3b9e6a",
   "metadata": {},
   "outputs": [
    {
     "name": "stdout",
     "output_type": "stream",
     "text": [
      "best score of Grid Search over 120 iterations: 0.6959823801929065\n",
      "CPU times: total: 906 ms\n",
      "Wall time: 6.39 s\n"
     ]
    }
   ],
   "source": [
    "%%time\n",
    "param = {\n",
    "    'learning_rate': [.1]\n",
    "    , 'subsample': [.2, .3 ,.4, .5]\n",
    "    , 'n_estimators': [25, 50]\n",
    "    , 'min_child_weight': [25]\n",
    "    , 'reg_alpha': [.3, .4, .5]\n",
    "    , 'reg_lambda': [.1, .2, .3, .4, .5]\n",
    "    , 'colsample_bytree': [.66]\n",
    "    , 'max_depth': [5]\n",
    "}\n",
    "#iter - 4x2x3x5 = 120\n",
    "model = XGBClassifier(random_state=42, n_jobs=-1) #input hyperparameters without tuning\n",
    "gridsearch = GridSearchCV(model, param_grid=param, cv=3, n_jobs=-1, scoring='accuracy', return_train_score=True)\n",
    "gridsearch.fit(X, y_labeled)\n",
    "print('best score of Grid Search over 120 iterations:', gridsearch.best_score_)"
   ]
  },
  {
   "cell_type": "code",
   "execution_count": 56,
   "id": "3df33f0e",
   "metadata": {},
   "outputs": [
    {
     "data": {
      "text/plain": [
       "0.5"
      ]
     },
     "execution_count": 56,
     "metadata": {},
     "output_type": "execute_result"
    }
   ],
   "source": [
    "pred = gridsearch.best_estimator_.predict(X_valid)\n",
    "roc_auc_score(y_valid, pred)"
   ]
  },
  {
   "cell_type": "markdown",
   "id": "7a42f502",
   "metadata": {},
   "source": [
    "### Randomized with Xgboost"
   ]
  },
  {
   "cell_type": "code",
   "execution_count": 40,
   "id": "0273ff7b",
   "metadata": {},
   "outputs": [
    {
     "name": "stdout",
     "output_type": "stream",
     "text": [
      "best score of Randomized Search over 120 iterations: 0.6959823801929065\n",
      "CPU times: total: 1.27 s\n",
      "Wall time: 7.46 s\n"
     ]
    }
   ],
   "source": [
    "%%time\n",
    "param = {\n",
    "    'learning_rate': uniform(.05, .1) #actual value: (loc, loc + scale)\n",
    "    , 'subsample': uniform(.2, .3)\n",
    "    , 'n_estimators': randint(20, 70)\n",
    "    , 'min_child_weight': randint(20, 40)\n",
    "    , 'reg_alpha': uniform(0, .7)\n",
    "    , 'reg_lambda': uniform(0, .7)\n",
    "    , 'colsample_bytree': uniform(.1, .7)\n",
    "    , 'max_depth': randint(2, 6)\n",
    "}\n",
    "randomsearch = RandomizedSearchCV(model, param_distributions=param, n_iter=120 # specify how many iterations\n",
    "                                  , cv=3, n_jobs=-1, scoring='accuracy', return_train_score=True)\n",
    "randomsearch.fit(X, y_labeled)\n",
    "print('best score of Randomized Search over 120 iterations:', randomsearch.best_score_)"
   ]
  },
  {
   "cell_type": "code",
   "execution_count": 57,
   "id": "61aec414",
   "metadata": {},
   "outputs": [
    {
     "data": {
      "text/plain": [
       "0.5"
      ]
     },
     "execution_count": 57,
     "metadata": {},
     "output_type": "execute_result"
    }
   ],
   "source": [
    "pred = randomsearch.best_estimator_.predict(X_valid)\n",
    "roc_auc_score(y_valid, pred)"
   ]
  },
  {
   "cell_type": "markdown",
   "id": "f24bb4ed",
   "metadata": {},
   "source": [
    "### Bayesian with Xgboost"
   ]
  },
  {
   "cell_type": "code",
   "execution_count": 42,
   "id": "de028b48",
   "metadata": {},
   "outputs": [
    {
     "name": "stdout",
     "output_type": "stream",
     "text": [
      "best score of Bayes Search over 60 iterations: 0.6959823801929065\n",
      "CPU times: total: 4min 29s\n",
      "Wall time: 2min 45s\n"
     ]
    }
   ],
   "source": [
    "\n",
    "%%time\n",
    "param = {\n",
    "    'learning_rate': Real(.05, .1+.05) #lower bound and upper bound\n",
    "    , 'subsample': Real(.2, .5)\n",
    "    , 'n_estimators': Integer(20, 70)\n",
    "    , 'min_child_weight': Integer(20, 40)\n",
    "    , 'reg_alpha': Real(0, 0+.7)\n",
    "    , 'reg_lambda': Real(0, 0+.7)\n",
    "    , 'colsample_bytree': Real(.1, .1+.7)\n",
    "    , 'max_depth': Integer(2, 6)\n",
    "}\n",
    "bayessearch = BayesSearchCV(model, param, n_iter=60, # specify how many iterations\n",
    "                                    scoring='accuracy', n_jobs=-1, cv=3)\n",
    "bayessearch.fit(X, y_labeled)\n",
    "print('best score of Bayes Search over 60 iterations:', bayessearch.best_score_)"
   ]
  },
  {
   "cell_type": "code",
   "execution_count": 58,
   "id": "d9186121",
   "metadata": {},
   "outputs": [
    {
     "data": {
      "text/plain": [
       "0.5"
      ]
     },
     "execution_count": 58,
     "metadata": {},
     "output_type": "execute_result"
    }
   ],
   "source": [
    "pred = bayessearch.best_estimator_.predict(X_valid)\n",
    "roc_auc_score(y_valid, pred)"
   ]
  },
  {
   "cell_type": "markdown",
   "id": "583d58ea",
   "metadata": {},
   "source": [
    "## Hyperparameter Tuning with Random Forest\n",
    "\n",
    "### Grid with Random Forest"
   ]
  },
  {
   "cell_type": "code",
   "execution_count": 88,
   "id": "9d6b12d7",
   "metadata": {},
   "outputs": [
    {
     "data": {
      "text/plain": [
       "GridSearchCV(cv=5, estimator=RandomForestClassifier(random_state=42),\n",
       "             param_grid={'criterion': ['gini', 'entropy'],\n",
       "                         'max_depth': [2, 3, 4, 5, 6, 7, 8],\n",
       "                         'max_features': ['auto', 'sqrt', 'log2'],\n",
       "                         'n_estimators': [100, 200, 500]})"
      ]
     },
     "execution_count": 88,
     "metadata": {},
     "output_type": "execute_result"
    }
   ],
   "source": [
    "param_grid = { \n",
    "    'n_estimators': [100, 200, 500],\n",
    "    'max_features': ['auto', 'sqrt', 'log2'],\n",
    "    'max_depth' : [2,3,4,5,6,7,8],\n",
    "    'criterion' :['gini', 'entropy']\n",
    "}\n",
    "\n",
    "rfc=RandomForestClassifier(random_state=42)\n",
    "\n",
    "CV_rfc = GridSearchCV(estimator=rfc, param_grid=param_grid, cv= 5)\n",
    "CV_rfc.fit(X_train, y_train)"
   ]
  },
  {
   "cell_type": "code",
   "execution_count": 90,
   "id": "8c0b2101",
   "metadata": {},
   "outputs": [
    {
     "data": {
      "text/plain": [
       "RandomForestClassifier(max_depth=4, n_estimators=200, random_state=42)"
      ]
     },
     "execution_count": 90,
     "metadata": {},
     "output_type": "execute_result"
    }
   ],
   "source": [
    "CV_rfc.best_estimator_.fit(X_train, y_train)"
   ]
  },
  {
   "cell_type": "code",
   "execution_count": 93,
   "id": "2a0b5a03",
   "metadata": {},
   "outputs": [],
   "source": [
    "preds = CV_rfc.best_estimator_.predict(X_valid)"
   ]
  },
  {
   "cell_type": "code",
   "execution_count": 94,
   "id": "751f6f22",
   "metadata": {},
   "outputs": [
    {
     "data": {
      "text/plain": [
       "0.6142857142857143"
      ]
     },
     "execution_count": 94,
     "metadata": {},
     "output_type": "execute_result"
    }
   ],
   "source": [
    "roc_auc_score(y_valid, preds)"
   ]
  },
  {
   "cell_type": "markdown",
   "id": "8beee151",
   "metadata": {},
   "source": [
    "### Randomized with ramdom Forest"
   ]
  },
  {
   "cell_type": "code",
   "execution_count": 65,
   "id": "f96ecf22",
   "metadata": {},
   "outputs": [
    {
     "data": {
      "text/plain": [
       "RandomizedSearchCV(cv=5, estimator=RandomForestClassifier(random_state=42),\n",
       "                   n_iter=120, n_jobs=-1,\n",
       "                   param_distributions={'criterion': ['gini', 'entropy'],\n",
       "                                        'max_depth': <scipy.stats._distn_infrastructure.rv_frozen object at 0x000001E629F2EEB0>,\n",
       "                                        'max_features': ['auto', 'sqrt',\n",
       "                                                         'log2'],\n",
       "                                        'n_estimators': <scipy.stats._distn_infrastructure.rv_frozen object at 0x000001E62A350CD0>},\n",
       "                   scoring='accuracy')"
      ]
     },
     "execution_count": 65,
     "metadata": {},
     "output_type": "execute_result"
    }
   ],
   "source": [
    "param_grid = { \n",
    "    'n_estimators': randint(100, 500),\n",
    "    'max_features': ['auto', 'sqrt', 'log2'],\n",
    "    'max_depth' :randint(2, 7),\n",
    "    'criterion' :['gini', 'entropy']\n",
    "}\n",
    "\n",
    "rfc=RandomForestClassifier(random_state=42)\n",
    "\n",
    "CV_rfc = RandomizedSearchCV(estimator=rfc, param_distributions=param_grid,  n_iter=120 # specify how many iterations\n",
    "                                  , cv=5, n_jobs=-1, scoring='accuracy')\n",
    "CV_rfc.fit(X_train, y_train)"
   ]
  },
  {
   "cell_type": "code",
   "execution_count": 67,
   "id": "cbc66d33",
   "metadata": {},
   "outputs": [
    {
     "data": {
      "text/plain": [
       "RandomForestClassifier(max_depth=4, n_estimators=106, random_state=42)"
      ]
     },
     "execution_count": 67,
     "metadata": {},
     "output_type": "execute_result"
    }
   ],
   "source": [
    "CV_rfc.best_estimator_.fit(X_train, y_train)"
   ]
  },
  {
   "cell_type": "code",
   "execution_count": 69,
   "id": "de2b2453",
   "metadata": {},
   "outputs": [],
   "source": [
    "preds = CV_rfc.best_estimator_.predict(X_valid)"
   ]
  },
  {
   "cell_type": "code",
   "execution_count": 70,
   "id": "577be238",
   "metadata": {},
   "outputs": [
    {
     "data": {
      "text/plain": [
       "0.6142857142857143"
      ]
     },
     "execution_count": 70,
     "metadata": {},
     "output_type": "execute_result"
    }
   ],
   "source": [
    "roc_auc_score(y_valid, preds)"
   ]
  },
  {
   "cell_type": "markdown",
   "id": "e7e8c17f",
   "metadata": {},
   "source": [
    "### Bayesian with Random Forest"
   ]
  },
  {
   "cell_type": "code",
   "execution_count": 81,
   "id": "549cb018",
   "metadata": {},
   "outputs": [
    {
     "name": "stdout",
     "output_type": "stream",
     "text": [
      "CPU times: total: 0 ns\n",
      "Wall time: 0 ns\n"
     ]
    },
    {
     "name": "stderr",
     "output_type": "stream",
     "text": [
      "C:\\Users\\lenovo\\AppData\\Roaming\\Python\\Python39\\site-packages\\skopt\\optimizer\\optimizer.py:449: UserWarning: The objective has been evaluated at this point before.\n",
      "  warnings.warn(\"The objective has been evaluated \"\n",
      "C:\\Users\\lenovo\\AppData\\Roaming\\Python\\Python39\\site-packages\\skopt\\optimizer\\optimizer.py:449: UserWarning: The objective has been evaluated at this point before.\n",
      "  warnings.warn(\"The objective has been evaluated \"\n",
      "C:\\Users\\lenovo\\AppData\\Roaming\\Python\\Python39\\site-packages\\skopt\\optimizer\\optimizer.py:449: UserWarning: The objective has been evaluated at this point before.\n",
      "  warnings.warn(\"The objective has been evaluated \"\n",
      "C:\\Users\\lenovo\\AppData\\Roaming\\Python\\Python39\\site-packages\\skopt\\optimizer\\optimizer.py:449: UserWarning: The objective has been evaluated at this point before.\n",
      "  warnings.warn(\"The objective has been evaluated \"\n",
      "C:\\Users\\lenovo\\AppData\\Roaming\\Python\\Python39\\site-packages\\skopt\\optimizer\\optimizer.py:449: UserWarning: The objective has been evaluated at this point before.\n",
      "  warnings.warn(\"The objective has been evaluated \"\n",
      "C:\\Users\\lenovo\\AppData\\Roaming\\Python\\Python39\\site-packages\\skopt\\optimizer\\optimizer.py:449: UserWarning: The objective has been evaluated at this point before.\n",
      "  warnings.warn(\"The objective has been evaluated \"\n",
      "C:\\Users\\lenovo\\AppData\\Roaming\\Python\\Python39\\site-packages\\skopt\\optimizer\\optimizer.py:449: UserWarning: The objective has been evaluated at this point before.\n",
      "  warnings.warn(\"The objective has been evaluated \"\n",
      "C:\\Users\\lenovo\\AppData\\Roaming\\Python\\Python39\\site-packages\\skopt\\optimizer\\optimizer.py:449: UserWarning: The objective has been evaluated at this point before.\n",
      "  warnings.warn(\"The objective has been evaluated \"\n",
      "C:\\Users\\lenovo\\AppData\\Roaming\\Python\\Python39\\site-packages\\skopt\\optimizer\\optimizer.py:449: UserWarning: The objective has been evaluated at this point before.\n",
      "  warnings.warn(\"The objective has been evaluated \"\n",
      "C:\\Users\\lenovo\\AppData\\Roaming\\Python\\Python39\\site-packages\\skopt\\optimizer\\optimizer.py:449: UserWarning: The objective has been evaluated at this point before.\n",
      "  warnings.warn(\"The objective has been evaluated \"\n",
      "C:\\Users\\lenovo\\AppData\\Roaming\\Python\\Python39\\site-packages\\skopt\\optimizer\\optimizer.py:449: UserWarning: The objective has been evaluated at this point before.\n",
      "  warnings.warn(\"The objective has been evaluated \"\n",
      "C:\\Users\\lenovo\\AppData\\Roaming\\Python\\Python39\\site-packages\\skopt\\optimizer\\optimizer.py:449: UserWarning: The objective has been evaluated at this point before.\n",
      "  warnings.warn(\"The objective has been evaluated \"\n",
      "C:\\Users\\lenovo\\AppData\\Roaming\\Python\\Python39\\site-packages\\skopt\\optimizer\\optimizer.py:449: UserWarning: The objective has been evaluated at this point before.\n",
      "  warnings.warn(\"The objective has been evaluated \"\n",
      "C:\\Users\\lenovo\\AppData\\Roaming\\Python\\Python39\\site-packages\\skopt\\optimizer\\optimizer.py:449: UserWarning: The objective has been evaluated at this point before.\n",
      "  warnings.warn(\"The objective has been evaluated \"\n",
      "C:\\Users\\lenovo\\AppData\\Roaming\\Python\\Python39\\site-packages\\skopt\\optimizer\\optimizer.py:449: UserWarning: The objective has been evaluated at this point before.\n",
      "  warnings.warn(\"The objective has been evaluated \"\n",
      "C:\\Users\\lenovo\\AppData\\Roaming\\Python\\Python39\\site-packages\\skopt\\optimizer\\optimizer.py:449: UserWarning: The objective has been evaluated at this point before.\n",
      "  warnings.warn(\"The objective has been evaluated \"\n",
      "C:\\Users\\lenovo\\AppData\\Roaming\\Python\\Python39\\site-packages\\skopt\\optimizer\\optimizer.py:449: UserWarning: The objective has been evaluated at this point before.\n",
      "  warnings.warn(\"The objective has been evaluated \"\n",
      "C:\\Users\\lenovo\\AppData\\Roaming\\Python\\Python39\\site-packages\\skopt\\optimizer\\optimizer.py:449: UserWarning: The objective has been evaluated at this point before.\n",
      "  warnings.warn(\"The objective has been evaluated \"\n",
      "C:\\Users\\lenovo\\AppData\\Roaming\\Python\\Python39\\site-packages\\skopt\\optimizer\\optimizer.py:449: UserWarning: The objective has been evaluated at this point before.\n",
      "  warnings.warn(\"The objective has been evaluated \"\n"
     ]
    },
    {
     "data": {
      "text/plain": [
       "BayesSearchCV(cv=5, estimator=RandomForestClassifier(random_state=42),\n",
       "              n_iter=120, n_jobs=-1, scoring='accuracy',\n",
       "              search_spaces={'criterion': ('gini', 'entropy'),\n",
       "                             'max_depth': Integer(low=2, high=8, prior='uniform', transform='normalize'),\n",
       "                             'max_features': ('auto', 'sqrt', 'log2'),\n",
       "                             'n_estimators': Integer(low=100, high=500, prior='uniform', transform='normalize')})"
      ]
     },
     "execution_count": 81,
     "metadata": {},
     "output_type": "execute_result"
    }
   ],
   "source": [
    "%time\n",
    "params = { \n",
    "    'n_estimators':Integer(100, 500),\n",
    "    'max_features': ('auto', 'sqrt', 'log2'),\n",
    "    'max_depth' : Integer(2,8),\n",
    "    'criterion' :('gini', 'entropy')\n",
    "}\n",
    "\n",
    "rfc=RandomForestClassifier(random_state=42)\n",
    "\n",
    "BSC_rfc = BayesSearchCV(rfc, params,  n_iter=120, scoring='accuracy', n_jobs=-1, cv=5)\n",
    "\n",
    "BSC_rfc.fit(X_train, y_train)"
   ]
  },
  {
   "cell_type": "code",
   "execution_count": 84,
   "id": "1efc736b",
   "metadata": {},
   "outputs": [
    {
     "data": {
      "text/plain": [
       "RandomForestClassifier(max_depth=7, max_features='sqrt', n_estimators=288,\n",
       "                       random_state=42)"
      ]
     },
     "execution_count": 84,
     "metadata": {},
     "output_type": "execute_result"
    }
   ],
   "source": [
    "BSC_rfc.best_estimator_.fit(X_train, y_train)"
   ]
  },
  {
   "cell_type": "code",
   "execution_count": 86,
   "id": "b960668b",
   "metadata": {},
   "outputs": [],
   "source": [
    "preds = BSC_rfc.best_estimator_.predict(X_valid)"
   ]
  },
  {
   "cell_type": "code",
   "execution_count": 87,
   "id": "a7040bdc",
   "metadata": {},
   "outputs": [
    {
     "data": {
      "text/plain": [
       "0.6333333333333333"
      ]
     },
     "execution_count": 87,
     "metadata": {},
     "output_type": "execute_result"
    }
   ],
   "source": [
    "roc_auc_score(y_valid, preds)"
   ]
  },
  {
   "cell_type": "code",
   "execution_count": 23,
   "id": "1b3a9580",
   "metadata": {},
   "outputs": [
    {
     "name": "stdout",
     "output_type": "stream",
     "text": [
      "Downloading data from https://storage.googleapis.com/tensorflow/tf-keras-datasets/mnist.npz\n",
      "11490434/11490434 [==============================] - 2s 0us/step\n"
     ]
    },
    {
     "name": "stderr",
     "output_type": "stream",
     "text": [
      "C:\\Users\\lenovo\\AppData\\Roaming\\Python\\Python39\\site-packages\\keras\\preprocessing\\image.py:1290: UserWarning: This ImageDataGenerator specifies `zca_whitening` which overrides setting of`featurewise_std_normalization`.\n",
      "  warnings.warn('This ImageDataGenerator specifies '\n"
     ]
    },
    {
     "name": "stdout",
     "output_type": "stream",
     "text": [
      "-12.41118 0.003185823 17.104136\n"
     ]
    },
    {
     "data": {
      "image/png": "[encoded data removed]",
      "text/plain": [
       "<Figure size 288x288 with 9 Axes>"
      ]
     },
     "metadata": {
      "needs_background": "light"
     },
     "output_type": "display_data"
    }
   ],
   "source": [
    "# ZCA Whitening\n",
    "from tensorflow.keras.datasets import mnist\n",
    "from tensorflow.keras.preprocessing.image import ImageDataGenerator\n",
    "import matplotlib.pyplot as plt\n",
    "# load data\n",
    "(X_train, y_train), (X_test, y_test) = mnist.load_data()\n",
    "# reshape to be [samples][width][height][channels]\n",
    "X_train = X_train.reshape((X_train.shape[0], 28, 28, 1))\n",
    "X_test = X_test.reshape((X_test.shape[0], 28, 28, 1))\n",
    "# convert from int to float\n",
    "X_train = X_train.astype('float32')\n",
    "X_test = X_test.astype('float32')\n",
    "# define data preparation\n",
    "datagen = ImageDataGenerator(featurewise_center=True, featurewise_std_normalization=True, zca_whitening=True)\n",
    "# fit parameters from data\n",
    "X_mean = X_train.mean(axis=0)\n",
    "datagen.fit(X_train - X_mean)\n",
    "# configure batch size and retrieve one batch of images\n",
    "for X_batch, y_batch in datagen.flow(X_train - X_mean, y_train, batch_size=9, shuffle=False):\n",
    "    print(X_batch.min(), X_batch.mean(), X_batch.max())\n",
    "    # create a grid of 3x3 images\n",
    "    fig, ax = plt.subplots(3, 3, sharex=True, sharey=True, figsize=(4,4))\n",
    "    for i in range(3):\n",
    "        for j in range(3):\n",
    "            ax[i][j].imshow(X_batch[i*3+j].reshape(28,28), cmap=plt.get_cmap(\"gray\"))\n",
    "    # show the plot\n",
    "    plt.show()\n",
    "    break"
   ]
  },
  {
   "cell_type": "code",
   "execution_count": null,
   "id": "7011d1a1",
   "metadata": {},
   "outputs": [],
   "source": []
  }
 ],
 "metadata": {
  "kernelspec": {
   "display_name": "Python 3 (ipykernel)",
   "language": "python",
   "name": "python3"
  },
  "language_info": {
   "codemirror_mode": {
    "name": "ipython",
    "version": 3
   },
   "file_extension": ".py",
   "mimetype": "text/x-python",
   "name": "python",
   "nbconvert_exporter": "python",
   "pygments_lexer": "ipython3",
   "version": "3.9.12"
  }
 },
 "nbformat": 4,
 "nbformat_minor": 5
}
