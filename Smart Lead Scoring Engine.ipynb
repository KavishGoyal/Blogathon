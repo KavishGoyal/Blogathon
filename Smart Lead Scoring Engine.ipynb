{
 "cells": [
  {
   "cell_type": "code",
   "execution_count": 1,
   "id": "325f1582",
   "metadata": {},
   "outputs": [],
   "source": [
    "import pandas as pd\n",
    "import numpy as np\n",
    "import matplotlib.pyplot as plt\n",
    "import seaborn as sns\n",
    "import sklearn.preprocessing as sp"
   ]
  },
  {
   "cell_type": "code",
   "execution_count": 215,
   "id": "090fc85a",
   "metadata": {},
   "outputs": [],
   "source": [
    "import warnings\n",
    "warnings.filterwarnings(\"ignore\")"
   ]
  },
  {
   "cell_type": "code",
   "execution_count": 2,
   "id": "8ca101ee",
   "metadata": {},
   "outputs": [
    {
     "data": {
      "text/html": [
       "<div>\n",
       "<style scoped>\n",
       "    .dataframe tbody tr th:only-of-type {\n",
       "        vertical-align: middle;\n",
       "    }\n",
       "\n",
       "    .dataframe tbody tr th {\n",
       "        vertical-align: top;\n",
       "    }\n",
       "\n",
       "    .dataframe thead th {\n",
       "        text-align: right;\n",
       "    }\n",
       "</style>\n",
       "<table border=\"1\" class=\"dataframe\">\n",
       "  <thead>\n",
       "    <tr style=\"text-align: right;\">\n",
       "      <th></th>\n",
       "      <th>id</th>\n",
       "      <th>created_at</th>\n",
       "      <th>campaign_var_1</th>\n",
       "      <th>campaign_var_2</th>\n",
       "      <th>products_purchased</th>\n",
       "      <th>signup_date</th>\n",
       "      <th>user_activity_var_1</th>\n",
       "      <th>user_activity_var_2</th>\n",
       "      <th>user_activity_var_3</th>\n",
       "      <th>user_activity_var_4</th>\n",
       "      <th>user_activity_var_5</th>\n",
       "      <th>user_activity_var_6</th>\n",
       "      <th>user_activity_var_7</th>\n",
       "      <th>user_activity_var_8</th>\n",
       "      <th>user_activity_var_9</th>\n",
       "      <th>user_activity_var_10</th>\n",
       "      <th>user_activity_var_11</th>\n",
       "      <th>user_activity_var_12</th>\n",
       "      <th>buy</th>\n",
       "    </tr>\n",
       "  </thead>\n",
       "  <tbody>\n",
       "    <tr>\n",
       "      <th>0</th>\n",
       "      <td>1</td>\n",
       "      <td>2021-01-01</td>\n",
       "      <td>1</td>\n",
       "      <td>2</td>\n",
       "      <td>2.0</td>\n",
       "      <td>2020-09-24</td>\n",
       "      <td>0</td>\n",
       "      <td>0</td>\n",
       "      <td>0</td>\n",
       "      <td>0</td>\n",
       "      <td>0</td>\n",
       "      <td>0</td>\n",
       "      <td>1</td>\n",
       "      <td>1</td>\n",
       "      <td>0</td>\n",
       "      <td>0</td>\n",
       "      <td>0</td>\n",
       "      <td>0</td>\n",
       "      <td>0</td>\n",
       "    </tr>\n",
       "    <tr>\n",
       "      <th>1</th>\n",
       "      <td>2</td>\n",
       "      <td>2021-01-01</td>\n",
       "      <td>2</td>\n",
       "      <td>1</td>\n",
       "      <td>2.0</td>\n",
       "      <td>2020-09-19</td>\n",
       "      <td>1</td>\n",
       "      <td>0</td>\n",
       "      <td>1</td>\n",
       "      <td>0</td>\n",
       "      <td>0</td>\n",
       "      <td>0</td>\n",
       "      <td>1</td>\n",
       "      <td>0</td>\n",
       "      <td>0</td>\n",
       "      <td>0</td>\n",
       "      <td>0</td>\n",
       "      <td>0</td>\n",
       "      <td>0</td>\n",
       "    </tr>\n",
       "    <tr>\n",
       "      <th>2</th>\n",
       "      <td>3</td>\n",
       "      <td>2021-01-01</td>\n",
       "      <td>9</td>\n",
       "      <td>3</td>\n",
       "      <td>3.0</td>\n",
       "      <td>2021-08-11</td>\n",
       "      <td>1</td>\n",
       "      <td>0</td>\n",
       "      <td>0</td>\n",
       "      <td>0</td>\n",
       "      <td>0</td>\n",
       "      <td>0</td>\n",
       "      <td>0</td>\n",
       "      <td>0</td>\n",
       "      <td>0</td>\n",
       "      <td>0</td>\n",
       "      <td>0</td>\n",
       "      <td>0</td>\n",
       "      <td>0</td>\n",
       "    </tr>\n",
       "    <tr>\n",
       "      <th>3</th>\n",
       "      <td>4</td>\n",
       "      <td>2021-01-01</td>\n",
       "      <td>6</td>\n",
       "      <td>7</td>\n",
       "      <td>2.0</td>\n",
       "      <td>2017-10-04</td>\n",
       "      <td>0</td>\n",
       "      <td>0</td>\n",
       "      <td>0</td>\n",
       "      <td>0</td>\n",
       "      <td>0</td>\n",
       "      <td>0</td>\n",
       "      <td>0</td>\n",
       "      <td>0</td>\n",
       "      <td>0</td>\n",
       "      <td>0</td>\n",
       "      <td>0</td>\n",
       "      <td>0</td>\n",
       "      <td>0</td>\n",
       "    </tr>\n",
       "    <tr>\n",
       "      <th>4</th>\n",
       "      <td>5</td>\n",
       "      <td>2021-01-01</td>\n",
       "      <td>4</td>\n",
       "      <td>6</td>\n",
       "      <td>NaN</td>\n",
       "      <td>2020-06-08</td>\n",
       "      <td>0</td>\n",
       "      <td>0</td>\n",
       "      <td>0</td>\n",
       "      <td>0</td>\n",
       "      <td>0</td>\n",
       "      <td>0</td>\n",
       "      <td>1</td>\n",
       "      <td>0</td>\n",
       "      <td>0</td>\n",
       "      <td>0</td>\n",
       "      <td>1</td>\n",
       "      <td>0</td>\n",
       "      <td>0</td>\n",
       "    </tr>\n",
       "  </tbody>\n",
       "</table>\n",
       "</div>"
      ],
      "text/plain": [
       "   id  created_at  campaign_var_1  campaign_var_2  products_purchased  \\\n",
       "0   1  2021-01-01               1               2                 2.0   \n",
       "1   2  2021-01-01               2               1                 2.0   \n",
       "2   3  2021-01-01               9               3                 3.0   \n",
       "3   4  2021-01-01               6               7                 2.0   \n",
       "4   5  2021-01-01               4               6                 NaN   \n",
       "\n",
       "  signup_date  user_activity_var_1  user_activity_var_2  user_activity_var_3  \\\n",
       "0  2020-09-24                    0                    0                    0   \n",
       "1  2020-09-19                    1                    0                    1   \n",
       "2  2021-08-11                    1                    0                    0   \n",
       "3  2017-10-04                    0                    0                    0   \n",
       "4  2020-06-08                    0                    0                    0   \n",
       "\n",
       "   user_activity_var_4  user_activity_var_5  user_activity_var_6  \\\n",
       "0                    0                    0                    0   \n",
       "1                    0                    0                    0   \n",
       "2                    0                    0                    0   \n",
       "3                    0                    0                    0   \n",
       "4                    0                    0                    0   \n",
       "\n",
       "   user_activity_var_7  user_activity_var_8  user_activity_var_9  \\\n",
       "0                    1                    1                    0   \n",
       "1                    1                    0                    0   \n",
       "2                    0                    0                    0   \n",
       "3                    0                    0                    0   \n",
       "4                    1                    0                    0   \n",
       "\n",
       "   user_activity_var_10  user_activity_var_11  user_activity_var_12  buy  \n",
       "0                     0                     0                     0    0  \n",
       "1                     0                     0                     0    0  \n",
       "2                     0                     0                     0    0  \n",
       "3                     0                     0                     0    0  \n",
       "4                     0                     1                     0    0  "
      ]
     },
     "execution_count": 2,
     "metadata": {},
     "output_type": "execute_result"
    }
   ],
   "source": [
    "train_df = pd.read_csv('train_wn75k28.csv')\n",
    "train_df.head()"
   ]
  },
  {
   "cell_type": "code",
   "execution_count": 5,
   "id": "dd4da4aa",
   "metadata": {},
   "outputs": [
    {
     "data": {
      "text/plain": [
       "(39161, 19)"
      ]
     },
     "execution_count": 5,
     "metadata": {},
     "output_type": "execute_result"
    }
   ],
   "source": [
    "train_df.shape"
   ]
  },
  {
   "cell_type": "code",
   "execution_count": 3,
   "id": "fc45c290",
   "metadata": {},
   "outputs": [
    {
     "name": "stdout",
     "output_type": "stream",
     "text": [
      "<class 'pandas.core.frame.DataFrame'>\n",
      "RangeIndex: 39161 entries, 0 to 39160\n",
      "Data columns (total 19 columns):\n",
      " #   Column                Non-Null Count  Dtype  \n",
      "---  ------                --------------  -----  \n",
      " 0   id                    39161 non-null  int64  \n",
      " 1   created_at            39161 non-null  object \n",
      " 2   campaign_var_1        39161 non-null  int64  \n",
      " 3   campaign_var_2        39161 non-null  int64  \n",
      " 4   products_purchased    18250 non-null  float64\n",
      " 5   signup_date           24048 non-null  object \n",
      " 6   user_activity_var_1   39161 non-null  int64  \n",
      " 7   user_activity_var_2   39161 non-null  int64  \n",
      " 8   user_activity_var_3   39161 non-null  int64  \n",
      " 9   user_activity_var_4   39161 non-null  int64  \n",
      " 10  user_activity_var_5   39161 non-null  int64  \n",
      " 11  user_activity_var_6   39161 non-null  int64  \n",
      " 12  user_activity_var_7   39161 non-null  int64  \n",
      " 13  user_activity_var_8   39161 non-null  int64  \n",
      " 14  user_activity_var_9   39161 non-null  int64  \n",
      " 15  user_activity_var_10  39161 non-null  int64  \n",
      " 16  user_activity_var_11  39161 non-null  int64  \n",
      " 17  user_activity_var_12  39161 non-null  int64  \n",
      " 18  buy                   39161 non-null  int64  \n",
      "dtypes: float64(1), int64(16), object(2)\n",
      "memory usage: 5.7+ MB\n"
     ]
    }
   ],
   "source": [
    "train_df.info()"
   ]
  },
  {
   "cell_type": "code",
   "execution_count": 4,
   "id": "c0314a2e",
   "metadata": {},
   "outputs": [
    {
     "data": {
      "text/plain": [
       "id                          0\n",
       "created_at                  0\n",
       "campaign_var_1              0\n",
       "campaign_var_2              0\n",
       "products_purchased      20911\n",
       "signup_date             15113\n",
       "user_activity_var_1         0\n",
       "user_activity_var_2         0\n",
       "user_activity_var_3         0\n",
       "user_activity_var_4         0\n",
       "user_activity_var_5         0\n",
       "user_activity_var_6         0\n",
       "user_activity_var_7         0\n",
       "user_activity_var_8         0\n",
       "user_activity_var_9         0\n",
       "user_activity_var_10        0\n",
       "user_activity_var_11        0\n",
       "user_activity_var_12        0\n",
       "buy                         0\n",
       "dtype: int64"
      ]
     },
     "execution_count": 4,
     "metadata": {},
     "output_type": "execute_result"
    }
   ],
   "source": [
    "train_df.isna().sum()"
   ]
  },
  {
   "cell_type": "code",
   "execution_count": 8,
   "id": "5f5e9f35",
   "metadata": {},
   "outputs": [
    {
     "data": {
      "text/plain": [
       "0    37163\n",
       "1     1998\n",
       "Name: buy, dtype: int64"
      ]
     },
     "execution_count": 8,
     "metadata": {},
     "output_type": "execute_result"
    }
   ],
   "source": [
    "train_df['buy'].value_counts()"
   ]
  },
  {
   "cell_type": "code",
   "execution_count": 9,
   "id": "11a88279",
   "metadata": {},
   "outputs": [],
   "source": [
    "not_purchased = train_df[train_df['buy']==0]\n",
    "purchased = train_df[train_df['buy']==1]\n",
    "\n",
    "ratio =  len(not_purchased)/len(purchased)"
   ]
  },
  {
   "cell_type": "code",
   "execution_count": 10,
   "id": "b5ecd759",
   "metadata": {},
   "outputs": [
    {
     "data": {
      "text/plain": [
       "18.6001001001001"
      ]
     },
     "execution_count": 10,
     "metadata": {},
     "output_type": "execute_result"
    }
   ],
   "source": [
    "ratio"
   ]
  },
  {
   "cell_type": "code",
   "execution_count": 14,
   "id": "355bdee8",
   "metadata": {},
   "outputs": [
    {
     "data": {
      "text/plain": [
       "20911"
      ]
     },
     "execution_count": 14,
     "metadata": {},
     "output_type": "execute_result"
    }
   ],
   "source": [
    "zero_purchased = train_df[train_df['products_purchased'].isna()]\n",
    "len(zero_purchased)"
   ]
  },
  {
   "cell_type": "code",
   "execution_count": 15,
   "id": "56ae43e6",
   "metadata": {},
   "outputs": [
    {
     "data": {
      "text/plain": [
       "0    19866\n",
       "1     1045\n",
       "Name: buy, dtype: int64"
      ]
     },
     "execution_count": 15,
     "metadata": {},
     "output_type": "execute_result"
    }
   ],
   "source": [
    "zero_purchased['buy'].value_counts()"
   ]
  },
  {
   "cell_type": "code",
   "execution_count": 16,
   "id": "976bc5c7",
   "metadata": {},
   "outputs": [
    {
     "data": {
      "text/plain": [
       "6     2161\n",
       "7     2080\n",
       "5     2044\n",
       "4     1983\n",
       "8     1884\n",
       "3     1849\n",
       "9     1678\n",
       "2     1568\n",
       "10    1412\n",
       "11    1155\n",
       "12     906\n",
       "13     660\n",
       "1      618\n",
       "14     474\n",
       "15     310\n",
       "16     129\n",
       "Name: campaign_var_1, dtype: int64"
      ]
     },
     "execution_count": 16,
     "metadata": {},
     "output_type": "execute_result"
    }
   ],
   "source": [
    "zero_purchased['campaign_var_1'].value_counts()"
   ]
  },
  {
   "cell_type": "code",
   "execution_count": 20,
   "id": "e710acf9",
   "metadata": {},
   "outputs": [
    {
     "data": {
      "text/plain": [
       "3     135\n",
       "4     135\n",
       "5     133\n",
       "6     127\n",
       "7     122\n",
       "2     119\n",
       "8      91\n",
       "9      53\n",
       "10     42\n",
       "1      41\n",
       "11     27\n",
       "12     14\n",
       "13      2\n",
       "14      2\n",
       "15      2\n",
       "Name: campaign_var_1, dtype: int64"
      ]
     },
     "execution_count": 20,
     "metadata": {},
     "output_type": "execute_result"
    }
   ],
   "source": [
    "zero_purchased['campaign_var_1'][zero_purchased['buy']==1].value_counts()"
   ]
  },
  {
   "cell_type": "code",
   "execution_count": 21,
   "id": "e5429c65",
   "metadata": {},
   "outputs": [
    {
     "data": {
      "text/plain": [
       "(15113, 19)"
      ]
     },
     "execution_count": 21,
     "metadata": {},
     "output_type": "execute_result"
    }
   ],
   "source": [
    "not_signedup = train_df[train_df['signup_date'].isna()]\n",
    "not_signedup.shape"
   ]
  },
  {
   "cell_type": "code",
   "execution_count": 23,
   "id": "9ce5e76f",
   "metadata": {},
   "outputs": [
    {
     "data": {
      "text/plain": [
       "25"
      ]
     },
     "execution_count": 23,
     "metadata": {},
     "output_type": "execute_result"
    }
   ],
   "source": [
    "len(not_signedup[not_signedup['buy']==1])"
   ]
  },
  {
   "cell_type": "code",
   "execution_count": 24,
   "id": "203ccc96",
   "metadata": {},
   "outputs": [
    {
     "data": {
      "text/plain": [
       "(25, 19)"
      ]
     },
     "execution_count": 24,
     "metadata": {},
     "output_type": "execute_result"
    }
   ],
   "source": [
    "guests=not_signedup[not_signedup['buy']==1]\n",
    "guests.shape"
   ]
  },
  {
   "cell_type": "code",
   "execution_count": 26,
   "id": "bee3f545",
   "metadata": {},
   "outputs": [
    {
     "data": {
      "text/plain": [
       "17"
      ]
     },
     "execution_count": 26,
     "metadata": {},
     "output_type": "execute_result"
    }
   ],
   "source": [
    "len(guests[guests['products_purchased'].isna()])"
   ]
  },
  {
   "cell_type": "code",
   "execution_count": 27,
   "id": "37fe2055",
   "metadata": {},
   "outputs": [],
   "source": [
    "uninteretsted = not_signedup[not_signedup['buy']==0]"
   ]
  },
  {
   "cell_type": "code",
   "execution_count": 28,
   "id": "e9d66d16",
   "metadata": {},
   "outputs": [
    {
     "data": {
      "text/plain": [
       "11244"
      ]
     },
     "execution_count": 28,
     "metadata": {},
     "output_type": "execute_result"
    }
   ],
   "source": [
    "len(uninteretsted[uninteretsted['products_purchased'].isna()])"
   ]
  },
  {
   "cell_type": "code",
   "execution_count": 30,
   "id": "d39c1e62",
   "metadata": {},
   "outputs": [
    {
     "data": {
      "text/plain": [
       "3844"
      ]
     },
     "execution_count": 30,
     "metadata": {},
     "output_type": "execute_result"
    }
   ],
   "source": [
    "uninteretsted.shape[0]-len(uninteretsted[uninteretsted['products_purchased'].isna()])"
   ]
  },
  {
   "cell_type": "markdown",
   "id": "2ec88311",
   "metadata": {},
   "source": [
    "This result shows that there are 3844 persons who has neither signed up nor bought any product but still the products purchase for them is not none."
   ]
  },
  {
   "cell_type": "markdown",
   "id": "2308860f",
   "metadata": {},
   "source": [
    "We are making an assumption that not signed up people can not buy the product and they can not be considered as potential leads. Hence, reoving these entiries from the data.\n"
   ]
  },
  {
   "cell_type": "code",
   "execution_count": 32,
   "id": "b8d7949f",
   "metadata": {},
   "outputs": [],
   "source": [
    "to_remove = uninteretsted[uninteretsted['products_purchased']>0]"
   ]
  },
  {
   "cell_type": "code",
   "execution_count": 33,
   "id": "9205d4a1",
   "metadata": {},
   "outputs": [
    {
     "data": {
      "text/plain": [
       "(3844, 19)"
      ]
     },
     "execution_count": 33,
     "metadata": {},
     "output_type": "execute_result"
    }
   ],
   "source": [
    "to_remove.shape"
   ]
  },
  {
   "cell_type": "code",
   "execution_count": 34,
   "id": "de0a121f",
   "metadata": {},
   "outputs": [],
   "source": [
    "train = train_df.copy()"
   ]
  },
  {
   "cell_type": "code",
   "execution_count": 42,
   "id": "77d8baf9",
   "metadata": {},
   "outputs": [],
   "source": [
    "train.drop(guests.index, inplace = True)"
   ]
  },
  {
   "cell_type": "code",
   "execution_count": 43,
   "id": "7ac82874",
   "metadata": {},
   "outputs": [],
   "source": [
    "train.drop(to_remove.index, inplace = True)"
   ]
  },
  {
   "cell_type": "code",
   "execution_count": 44,
   "id": "6627d8fc",
   "metadata": {},
   "outputs": [
    {
     "data": {
      "text/plain": [
       "id                          0\n",
       "created_at                  0\n",
       "campaign_var_1              0\n",
       "campaign_var_2              0\n",
       "products_purchased      20894\n",
       "signup_date             11244\n",
       "user_activity_var_1         0\n",
       "user_activity_var_2         0\n",
       "user_activity_var_3         0\n",
       "user_activity_var_4         0\n",
       "user_activity_var_5         0\n",
       "user_activity_var_6         0\n",
       "user_activity_var_7         0\n",
       "user_activity_var_8         0\n",
       "user_activity_var_9         0\n",
       "user_activity_var_10        0\n",
       "user_activity_var_11        0\n",
       "user_activity_var_12        0\n",
       "buy                         0\n",
       "dtype: int64"
      ]
     },
     "execution_count": 44,
     "metadata": {},
     "output_type": "execute_result"
    }
   ],
   "source": [
    "train.isna().sum()"
   ]
  },
  {
   "cell_type": "code",
   "execution_count": 46,
   "id": "a4094b8b",
   "metadata": {},
   "outputs": [],
   "source": [
    "# train.drop(not_signedup.index)"
   ]
  },
  {
   "cell_type": "code",
   "execution_count": 48,
   "id": "fca9a7e9",
   "metadata": {},
   "outputs": [],
   "source": [
    "df = train.drop(train[train['signup_date'].isna()].index)"
   ]
  },
  {
   "cell_type": "code",
   "execution_count": 49,
   "id": "867811ea",
   "metadata": {},
   "outputs": [
    {
     "data": {
      "text/plain": [
       "(24048, 19)"
      ]
     },
     "execution_count": 49,
     "metadata": {},
     "output_type": "execute_result"
    }
   ],
   "source": [
    "df.shape"
   ]
  },
  {
   "cell_type": "code",
   "execution_count": 50,
   "id": "eb710e18",
   "metadata": {},
   "outputs": [
    {
     "data": {
      "text/plain": [
       "id                         0\n",
       "created_at                 0\n",
       "campaign_var_1             0\n",
       "campaign_var_2             0\n",
       "products_purchased      9650\n",
       "signup_date                0\n",
       "user_activity_var_1        0\n",
       "user_activity_var_2        0\n",
       "user_activity_var_3        0\n",
       "user_activity_var_4        0\n",
       "user_activity_var_5        0\n",
       "user_activity_var_6        0\n",
       "user_activity_var_7        0\n",
       "user_activity_var_8        0\n",
       "user_activity_var_9        0\n",
       "user_activity_var_10       0\n",
       "user_activity_var_11       0\n",
       "user_activity_var_12       0\n",
       "buy                        0\n",
       "dtype: int64"
      ]
     },
     "execution_count": 50,
     "metadata": {},
     "output_type": "execute_result"
    }
   ],
   "source": [
    "df.isna().sum()"
   ]
  },
  {
   "cell_type": "code",
   "execution_count": 51,
   "id": "2b39f584",
   "metadata": {},
   "outputs": [],
   "source": [
    "kanjus = df[df['products_purchased'].isna()]"
   ]
  },
  {
   "cell_type": "code",
   "execution_count": 52,
   "id": "6179560f",
   "metadata": {},
   "outputs": [
    {
     "data": {
      "text/plain": [
       "0    8622\n",
       "1    1028\n",
       "Name: buy, dtype: int64"
      ]
     },
     "execution_count": 52,
     "metadata": {},
     "output_type": "execute_result"
    }
   ],
   "source": [
    "kanjus['buy'].value_counts()"
   ]
  },
  {
   "cell_type": "code",
   "execution_count": 57,
   "id": "e0b11d92",
   "metadata": {},
   "outputs": [],
   "source": [
    "# for i in range(len(df)):\n",
    "#     if df['products_purchased'][i] == 'NaN' and df['buy'][i]==0:\n",
    "#         df['products_purchased'][i]=0\n",
    "#     elif df['products_purchased'][i]=='NaN' and df['buy'][i]==1:\n",
    "#         df['products_purchased'][i] = df['products_purchased'].mean()"
   ]
  },
  {
   "cell_type": "code",
   "execution_count": 63,
   "id": "eed6c0a5",
   "metadata": {},
   "outputs": [],
   "source": [
    "# df.iloc[df[kanjus]]=0"
   ]
  },
  {
   "cell_type": "code",
   "execution_count": 65,
   "id": "aae644fc",
   "metadata": {},
   "outputs": [
    {
     "data": {
      "text/plain": [
       "0    22075\n",
       "1     1973\n",
       "Name: buy, dtype: int64"
      ]
     },
     "execution_count": 65,
     "metadata": {},
     "output_type": "execute_result"
    }
   ],
   "source": [
    "df['buy'].value_counts()"
   ]
  },
  {
   "cell_type": "code",
   "execution_count": 68,
   "id": "1cff4951",
   "metadata": {},
   "outputs": [],
   "source": [
    "df.fillna(0, inplace = True)"
   ]
  },
  {
   "cell_type": "code",
   "execution_count": 69,
   "id": "7cf3929b",
   "metadata": {},
   "outputs": [
    {
     "data": {
      "text/plain": [
       "id                      0\n",
       "created_at              0\n",
       "campaign_var_1          0\n",
       "campaign_var_2          0\n",
       "products_purchased      0\n",
       "signup_date             0\n",
       "user_activity_var_1     0\n",
       "user_activity_var_2     0\n",
       "user_activity_var_3     0\n",
       "user_activity_var_4     0\n",
       "user_activity_var_5     0\n",
       "user_activity_var_6     0\n",
       "user_activity_var_7     0\n",
       "user_activity_var_8     0\n",
       "user_activity_var_9     0\n",
       "user_activity_var_10    0\n",
       "user_activity_var_11    0\n",
       "user_activity_var_12    0\n",
       "buy                     0\n",
       "dtype: int64"
      ]
     },
     "execution_count": 69,
     "metadata": {},
     "output_type": "execute_result"
    }
   ],
   "source": [
    "df.isna().sum()"
   ]
  },
  {
   "cell_type": "code",
   "execution_count": 77,
   "id": "50526b57",
   "metadata": {},
   "outputs": [],
   "source": [
    "median = df['products_purchased'].mean()\n",
    "# for i in range(len(df)):\n",
    "if df['products_purchased'].any() == 0 and df['buy'].any()==1:\n",
    "    df['products_purchased'] = median"
   ]
  },
  {
   "cell_type": "code",
   "execution_count": 80,
   "id": "9215df82",
   "metadata": {},
   "outputs": [
    {
     "data": {
      "text/plain": [
       "9650"
      ]
     },
     "execution_count": 80,
     "metadata": {},
     "output_type": "execute_result"
    }
   ],
   "source": [
    "len(df[df['products_purchased']==0])"
   ]
  },
  {
   "cell_type": "markdown",
   "id": "f97a017b",
   "metadata": {},
   "source": [
    "## EDA"
   ]
  },
  {
   "cell_type": "code",
   "execution_count": 81,
   "id": "76831bbf",
   "metadata": {},
   "outputs": [
    {
     "name": "stderr",
     "output_type": "stream",
     "text": [
      "C:\\Users\\kavis\\anaconda3\\lib\\site-packages\\seaborn\\_decorators.py:36: FutureWarning: Pass the following variables as keyword args: x, y. From version 0.12, the only valid positional argument will be `data`, and passing other arguments without an explicit keyword will result in an error or misinterpretation.\n",
      "  warnings.warn(\n"
     ]
    },
    {
     "data": {
      "text/plain": [
       "<AxesSubplot:xlabel='campaign_var_1', ylabel='buy'>"
      ]
     },
     "execution_count": 81,
     "metadata": {},
     "output_type": "execute_result"
    },
    {
     "data": {
      "image/png": "[encoded data removed]",
      "text/plain": [
       "<Figure size 432x288 with 1 Axes>"
      ]
     },
     "metadata": {
      "needs_background": "light"
     },
     "output_type": "display_data"
    }
   ],
   "source": [
    "sns.barplot(df['campaign_var_1'],df['buy'])"
   ]
  },
  {
   "cell_type": "code",
   "execution_count": 82,
   "id": "3ee757d5",
   "metadata": {},
   "outputs": [
    {
     "name": "stderr",
     "output_type": "stream",
     "text": [
      "C:\\Users\\kavis\\anaconda3\\lib\\site-packages\\seaborn\\_decorators.py:36: FutureWarning: Pass the following variables as keyword args: x, y. From version 0.12, the only valid positional argument will be `data`, and passing other arguments without an explicit keyword will result in an error or misinterpretation.\n",
      "  warnings.warn(\n"
     ]
    },
    {
     "data": {
      "text/plain": [
       "<AxesSubplot:xlabel='campaign_var_2', ylabel='buy'>"
      ]
     },
     "execution_count": 82,
     "metadata": {},
     "output_type": "execute_result"
    },
    {
     "data": {
      "image/png": "[encoded data removed]",
      "text/plain": [
       "<Figure size 432x288 with 1 Axes>"
      ]
     },
     "metadata": {
      "needs_background": "light"
     },
     "output_type": "display_data"
    }
   ],
   "source": [
    "sns.barplot(df['campaign_var_2'],df['buy'])"
   ]
  },
  {
   "cell_type": "code",
   "execution_count": 83,
   "id": "669dad96",
   "metadata": {},
   "outputs": [],
   "source": [
    "df['created_at'] = pd.to_datetime(df['created_at'])\n",
    "df['signup_date'] = pd.to_datetime(df['signup_date'])"
   ]
  },
  {
   "cell_type": "code",
   "execution_count": 92,
   "id": "51011dda",
   "metadata": {},
   "outputs": [],
   "source": [
    "df['delay'] = abs(df['created_at']-df['signup_date'])"
   ]
  },
  {
   "cell_type": "code",
   "execution_count": 93,
   "id": "95bf228e",
   "metadata": {},
   "outputs": [
    {
     "data": {
      "text/plain": [
       "0     99 days\n",
       "1    104 days\n",
       "2    222 days\n",
       "3   1185 days\n",
       "4    207 days\n",
       "Name: delay, dtype: timedelta64[ns]"
      ]
     },
     "execution_count": 93,
     "metadata": {},
     "output_type": "execute_result"
    }
   ],
   "source": [
    "df['delay'].head()"
   ]
  },
  {
   "cell_type": "code",
   "execution_count": 94,
   "id": "ed003911",
   "metadata": {},
   "outputs": [
    {
     "data": {
      "text/html": [
       "<div>\n",
       "<style scoped>\n",
       "    .dataframe tbody tr th:only-of-type {\n",
       "        vertical-align: middle;\n",
       "    }\n",
       "\n",
       "    .dataframe tbody tr th {\n",
       "        vertical-align: top;\n",
       "    }\n",
       "\n",
       "    .dataframe thead th {\n",
       "        text-align: right;\n",
       "    }\n",
       "</style>\n",
       "<table border=\"1\" class=\"dataframe\">\n",
       "  <thead>\n",
       "    <tr style=\"text-align: right;\">\n",
       "      <th></th>\n",
       "      <th>id</th>\n",
       "      <th>created_at</th>\n",
       "      <th>campaign_var_1</th>\n",
       "      <th>campaign_var_2</th>\n",
       "      <th>products_purchased</th>\n",
       "      <th>signup_date</th>\n",
       "      <th>user_activity_var_1</th>\n",
       "      <th>user_activity_var_2</th>\n",
       "      <th>user_activity_var_3</th>\n",
       "      <th>user_activity_var_4</th>\n",
       "      <th>user_activity_var_5</th>\n",
       "      <th>user_activity_var_6</th>\n",
       "      <th>user_activity_var_7</th>\n",
       "      <th>user_activity_var_8</th>\n",
       "      <th>user_activity_var_9</th>\n",
       "      <th>user_activity_var_10</th>\n",
       "      <th>user_activity_var_11</th>\n",
       "      <th>user_activity_var_12</th>\n",
       "      <th>buy</th>\n",
       "      <th>delay</th>\n",
       "    </tr>\n",
       "  </thead>\n",
       "  <tbody>\n",
       "    <tr>\n",
       "      <th>0</th>\n",
       "      <td>1</td>\n",
       "      <td>2021-01-01</td>\n",
       "      <td>1</td>\n",
       "      <td>2</td>\n",
       "      <td>2.0</td>\n",
       "      <td>2020-09-24</td>\n",
       "      <td>0</td>\n",
       "      <td>0</td>\n",
       "      <td>0</td>\n",
       "      <td>0</td>\n",
       "      <td>0</td>\n",
       "      <td>0</td>\n",
       "      <td>1</td>\n",
       "      <td>1</td>\n",
       "      <td>0</td>\n",
       "      <td>0</td>\n",
       "      <td>0</td>\n",
       "      <td>0</td>\n",
       "      <td>0</td>\n",
       "      <td>99 days</td>\n",
       "    </tr>\n",
       "    <tr>\n",
       "      <th>1</th>\n",
       "      <td>2</td>\n",
       "      <td>2021-01-01</td>\n",
       "      <td>2</td>\n",
       "      <td>1</td>\n",
       "      <td>2.0</td>\n",
       "      <td>2020-09-19</td>\n",
       "      <td>1</td>\n",
       "      <td>0</td>\n",
       "      <td>1</td>\n",
       "      <td>0</td>\n",
       "      <td>0</td>\n",
       "      <td>0</td>\n",
       "      <td>1</td>\n",
       "      <td>0</td>\n",
       "      <td>0</td>\n",
       "      <td>0</td>\n",
       "      <td>0</td>\n",
       "      <td>0</td>\n",
       "      <td>0</td>\n",
       "      <td>104 days</td>\n",
       "    </tr>\n",
       "    <tr>\n",
       "      <th>2</th>\n",
       "      <td>3</td>\n",
       "      <td>2021-01-01</td>\n",
       "      <td>9</td>\n",
       "      <td>3</td>\n",
       "      <td>3.0</td>\n",
       "      <td>2021-08-11</td>\n",
       "      <td>1</td>\n",
       "      <td>0</td>\n",
       "      <td>0</td>\n",
       "      <td>0</td>\n",
       "      <td>0</td>\n",
       "      <td>0</td>\n",
       "      <td>0</td>\n",
       "      <td>0</td>\n",
       "      <td>0</td>\n",
       "      <td>0</td>\n",
       "      <td>0</td>\n",
       "      <td>0</td>\n",
       "      <td>0</td>\n",
       "      <td>222 days</td>\n",
       "    </tr>\n",
       "    <tr>\n",
       "      <th>3</th>\n",
       "      <td>4</td>\n",
       "      <td>2021-01-01</td>\n",
       "      <td>6</td>\n",
       "      <td>7</td>\n",
       "      <td>2.0</td>\n",
       "      <td>2017-10-04</td>\n",
       "      <td>0</td>\n",
       "      <td>0</td>\n",
       "      <td>0</td>\n",
       "      <td>0</td>\n",
       "      <td>0</td>\n",
       "      <td>0</td>\n",
       "      <td>0</td>\n",
       "      <td>0</td>\n",
       "      <td>0</td>\n",
       "      <td>0</td>\n",
       "      <td>0</td>\n",
       "      <td>0</td>\n",
       "      <td>0</td>\n",
       "      <td>1185 days</td>\n",
       "    </tr>\n",
       "    <tr>\n",
       "      <th>4</th>\n",
       "      <td>5</td>\n",
       "      <td>2021-01-01</td>\n",
       "      <td>4</td>\n",
       "      <td>6</td>\n",
       "      <td>0.0</td>\n",
       "      <td>2020-06-08</td>\n",
       "      <td>0</td>\n",
       "      <td>0</td>\n",
       "      <td>0</td>\n",
       "      <td>0</td>\n",
       "      <td>0</td>\n",
       "      <td>0</td>\n",
       "      <td>1</td>\n",
       "      <td>0</td>\n",
       "      <td>0</td>\n",
       "      <td>0</td>\n",
       "      <td>1</td>\n",
       "      <td>0</td>\n",
       "      <td>0</td>\n",
       "      <td>207 days</td>\n",
       "    </tr>\n",
       "  </tbody>\n",
       "</table>\n",
       "</div>"
      ],
      "text/plain": [
       "   id created_at  campaign_var_1  campaign_var_2  products_purchased  \\\n",
       "0   1 2021-01-01               1               2                 2.0   \n",
       "1   2 2021-01-01               2               1                 2.0   \n",
       "2   3 2021-01-01               9               3                 3.0   \n",
       "3   4 2021-01-01               6               7                 2.0   \n",
       "4   5 2021-01-01               4               6                 0.0   \n",
       "\n",
       "  signup_date  user_activity_var_1  user_activity_var_2  user_activity_var_3  \\\n",
       "0  2020-09-24                    0                    0                    0   \n",
       "1  2020-09-19                    1                    0                    1   \n",
       "2  2021-08-11                    1                    0                    0   \n",
       "3  2017-10-04                    0                    0                    0   \n",
       "4  2020-06-08                    0                    0                    0   \n",
       "\n",
       "   user_activity_var_4  user_activity_var_5  user_activity_var_6  \\\n",
       "0                    0                    0                    0   \n",
       "1                    0                    0                    0   \n",
       "2                    0                    0                    0   \n",
       "3                    0                    0                    0   \n",
       "4                    0                    0                    0   \n",
       "\n",
       "   user_activity_var_7  user_activity_var_8  user_activity_var_9  \\\n",
       "0                    1                    1                    0   \n",
       "1                    1                    0                    0   \n",
       "2                    0                    0                    0   \n",
       "3                    0                    0                    0   \n",
       "4                    1                    0                    0   \n",
       "\n",
       "   user_activity_var_10  user_activity_var_11  user_activity_var_12  buy  \\\n",
       "0                     0                     0                     0    0   \n",
       "1                     0                     0                     0    0   \n",
       "2                     0                     0                     0    0   \n",
       "3                     0                     0                     0    0   \n",
       "4                     0                     1                     0    0   \n",
       "\n",
       "      delay  \n",
       "0   99 days  \n",
       "1  104 days  \n",
       "2  222 days  \n",
       "3 1185 days  \n",
       "4  207 days  "
      ]
     },
     "execution_count": 94,
     "metadata": {},
     "output_type": "execute_result"
    }
   ],
   "source": [
    "df.head()"
   ]
  },
  {
   "cell_type": "code",
   "execution_count": 98,
   "id": "9671a0ce",
   "metadata": {},
   "outputs": [
    {
     "data": {
      "text/plain": [
       "<AxesSubplot:xlabel='campaign_var_1', ylabel='products_purchased'>"
      ]
     },
     "execution_count": 98,
     "metadata": {},
     "output_type": "execute_result"
    },
    {
     "data": {
      "image/png": "[encoded data removed]",
      "text/plain": [
       "<Figure size 432x288 with 1 Axes>"
      ]
     },
     "metadata": {
      "needs_background": "light"
     },
     "output_type": "display_data"
    }
   ],
   "source": [
    "sns.barplot(df['campaign_var_1'], df['products_purchased'], hue = df['buy'])"
   ]
  },
  {
   "cell_type": "code",
   "execution_count": 99,
   "id": "9c0caf6b",
   "metadata": {},
   "outputs": [
    {
     "name": "stderr",
     "output_type": "stream",
     "text": [
      "C:\\Users\\kavis\\anaconda3\\lib\\site-packages\\seaborn\\_decorators.py:36: FutureWarning: Pass the following variables as keyword args: x, y. From version 0.12, the only valid positional argument will be `data`, and passing other arguments without an explicit keyword will result in an error or misinterpretation.\n",
      "  warnings.warn(\n"
     ]
    },
    {
     "data": {
      "text/plain": [
       "<AxesSubplot:xlabel='campaign_var_2', ylabel='products_purchased'>"
      ]
     },
     "execution_count": 99,
     "metadata": {},
     "output_type": "execute_result"
    },
    {
     "data": {
      "image/png": "[encoded data removed]",
      "text/plain": [
       "<Figure size 432x288 with 1 Axes>"
      ]
     },
     "metadata": {
      "needs_background": "light"
     },
     "output_type": "display_data"
    }
   ],
   "source": [
    "sns.barplot(df['campaign_var_2'], df['products_purchased'], hue = df['buy'])"
   ]
  },
  {
   "cell_type": "markdown",
   "id": "1eb21c1b",
   "metadata": {},
   "source": [
    "## BASE MODEL\n"
   ]
  },
  {
   "cell_type": "code",
   "execution_count": 106,
   "id": "95a0d491",
   "metadata": {},
   "outputs": [],
   "source": [
    "df.drop(['id', 'created_at', 'signup_date', 'delay'], axis=1, inplace = True)"
   ]
  },
  {
   "cell_type": "code",
   "execution_count": 107,
   "id": "fc25c495",
   "metadata": {},
   "outputs": [],
   "source": [
    "Y = df['buy']\n",
    "X = df.drop('buy', axis=1)"
   ]
  },
  {
   "cell_type": "code",
   "execution_count": 108,
   "id": "eceaa3d6",
   "metadata": {},
   "outputs": [
    {
     "data": {
      "text/plain": [
       "((24048, 15), (24048,))"
      ]
     },
     "execution_count": 108,
     "metadata": {},
     "output_type": "execute_result"
    }
   ],
   "source": [
    "X.shape, Y.shape"
   ]
  },
  {
   "cell_type": "code",
   "execution_count": 113,
   "id": "479bcbd9",
   "metadata": {},
   "outputs": [
    {
     "data": {
      "text/plain": [
       "0    22075\n",
       "1     1973\n",
       "Name: buy, dtype: int64"
      ]
     },
     "execution_count": 113,
     "metadata": {},
     "output_type": "execute_result"
    }
   ],
   "source": [
    "Y.value_counts()"
   ]
  },
  {
   "cell_type": "code",
   "execution_count": 109,
   "id": "e883c8a1",
   "metadata": {},
   "outputs": [],
   "source": [
    "from sklearn.model_selection import train_test_split as tst\n",
    "x_trn, x_tst, y_trn, y_tst = tst(X, Y, test_size = 0.25)"
   ]
  },
  {
   "cell_type": "code",
   "execution_count": 110,
   "id": "010b71c4",
   "metadata": {},
   "outputs": [
    {
     "name": "stderr",
     "output_type": "stream",
     "text": [
      "C:\\Users\\kavis\\anaconda3\\lib\\site-packages\\sklearn\\linear_model\\_logistic.py:814: ConvergenceWarning: lbfgs failed to converge (status=1):\n",
      "STOP: TOTAL NO. of ITERATIONS REACHED LIMIT.\n",
      "\n",
      "Increase the number of iterations (max_iter) or scale the data as shown in:\n",
      "    https://scikit-learn.org/stable/modules/preprocessing.html\n",
      "Please also refer to the documentation for alternative solver options:\n",
      "    https://scikit-learn.org/stable/modules/linear_model.html#logistic-regression\n",
      "  n_iter_i = _check_optimize_result(\n"
     ]
    },
    {
     "data": {
      "text/plain": [
       "LogisticRegression()"
      ]
     },
     "execution_count": 110,
     "metadata": {},
     "output_type": "execute_result"
    }
   ],
   "source": [
    "from sklearn.linear_model import LogisticRegression\n",
    "lcr = LogisticRegression()\n",
    "lcr.fit(x_trn, y_trn)"
   ]
  },
  {
   "cell_type": "code",
   "execution_count": 111,
   "id": "ebc5ee9a",
   "metadata": {},
   "outputs": [],
   "source": [
    "lcr_pred = lcr.predict(x_tst)"
   ]
  },
  {
   "cell_type": "code",
   "execution_count": 112,
   "id": "4a06e3aa",
   "metadata": {},
   "outputs": [
    {
     "name": "stdout",
     "output_type": "stream",
     "text": [
      "              precision    recall  f1-score   support\n",
      "\n",
      "           0       0.96      1.00      0.98      5515\n",
      "           1       0.96      0.54      0.69       497\n",
      "\n",
      "    accuracy                           0.96      6012\n",
      "   macro avg       0.96      0.77      0.83      6012\n",
      "weighted avg       0.96      0.96      0.95      6012\n",
      "\n"
     ]
    }
   ],
   "source": [
    "from sklearn.metrics import classification_report, confusion_matrix\n",
    "print(classification_report(y_tst, lcr_pred))"
   ]
  },
  {
   "cell_type": "code",
   "execution_count": 114,
   "id": "3fe0d691",
   "metadata": {},
   "outputs": [
    {
     "data": {
      "text/html": [
       "<div>\n",
       "<style scoped>\n",
       "    .dataframe tbody tr th:only-of-type {\n",
       "        vertical-align: middle;\n",
       "    }\n",
       "\n",
       "    .dataframe tbody tr th {\n",
       "        vertical-align: top;\n",
       "    }\n",
       "\n",
       "    .dataframe thead th {\n",
       "        text-align: right;\n",
       "    }\n",
       "</style>\n",
       "<table border=\"1\" class=\"dataframe\">\n",
       "  <thead>\n",
       "    <tr style=\"text-align: right;\">\n",
       "      <th></th>\n",
       "      <th>id</th>\n",
       "      <th>created_at</th>\n",
       "      <th>campaign_var_1</th>\n",
       "      <th>campaign_var_2</th>\n",
       "      <th>products_purchased</th>\n",
       "      <th>signup_date</th>\n",
       "      <th>user_activity_var_1</th>\n",
       "      <th>user_activity_var_2</th>\n",
       "      <th>user_activity_var_3</th>\n",
       "      <th>user_activity_var_4</th>\n",
       "      <th>user_activity_var_5</th>\n",
       "      <th>user_activity_var_6</th>\n",
       "      <th>user_activity_var_7</th>\n",
       "      <th>user_activity_var_8</th>\n",
       "      <th>user_activity_var_9</th>\n",
       "      <th>user_activity_var_10</th>\n",
       "      <th>user_activity_var_11</th>\n",
       "      <th>user_activity_var_12</th>\n",
       "    </tr>\n",
       "  </thead>\n",
       "  <tbody>\n",
       "    <tr>\n",
       "      <th>0</th>\n",
       "      <td>39162</td>\n",
       "      <td>2022-01-01</td>\n",
       "      <td>2</td>\n",
       "      <td>2</td>\n",
       "      <td>NaN</td>\n",
       "      <td>2021-08-17</td>\n",
       "      <td>1</td>\n",
       "      <td>1</td>\n",
       "      <td>0</td>\n",
       "      <td>0</td>\n",
       "      <td>0</td>\n",
       "      <td>1</td>\n",
       "      <td>0</td>\n",
       "      <td>0</td>\n",
       "      <td>0</td>\n",
       "      <td>0</td>\n",
       "      <td>1</td>\n",
       "      <td>0</td>\n",
       "    </tr>\n",
       "    <tr>\n",
       "      <th>1</th>\n",
       "      <td>39163</td>\n",
       "      <td>2022-01-01</td>\n",
       "      <td>4</td>\n",
       "      <td>7</td>\n",
       "      <td>3.0</td>\n",
       "      <td>2020-05-21</td>\n",
       "      <td>1</td>\n",
       "      <td>0</td>\n",
       "      <td>0</td>\n",
       "      <td>0</td>\n",
       "      <td>0</td>\n",
       "      <td>0</td>\n",
       "      <td>0</td>\n",
       "      <td>1</td>\n",
       "      <td>0</td>\n",
       "      <td>0</td>\n",
       "      <td>0</td>\n",
       "      <td>0</td>\n",
       "    </tr>\n",
       "    <tr>\n",
       "      <th>2</th>\n",
       "      <td>39164</td>\n",
       "      <td>2022-01-01</td>\n",
       "      <td>8</td>\n",
       "      <td>7</td>\n",
       "      <td>NaN</td>\n",
       "      <td>NaN</td>\n",
       "      <td>0</td>\n",
       "      <td>0</td>\n",
       "      <td>0</td>\n",
       "      <td>0</td>\n",
       "      <td>1</td>\n",
       "      <td>1</td>\n",
       "      <td>0</td>\n",
       "      <td>0</td>\n",
       "      <td>0</td>\n",
       "      <td>0</td>\n",
       "      <td>0</td>\n",
       "      <td>0</td>\n",
       "    </tr>\n",
       "    <tr>\n",
       "      <th>3</th>\n",
       "      <td>39165</td>\n",
       "      <td>2022-01-01</td>\n",
       "      <td>9</td>\n",
       "      <td>8</td>\n",
       "      <td>2.0</td>\n",
       "      <td>2020-06-22</td>\n",
       "      <td>0</td>\n",
       "      <td>0</td>\n",
       "      <td>0</td>\n",
       "      <td>0</td>\n",
       "      <td>1</td>\n",
       "      <td>1</td>\n",
       "      <td>1</td>\n",
       "      <td>0</td>\n",
       "      <td>0</td>\n",
       "      <td>0</td>\n",
       "      <td>2</td>\n",
       "      <td>0</td>\n",
       "    </tr>\n",
       "    <tr>\n",
       "      <th>4</th>\n",
       "      <td>39166</td>\n",
       "      <td>2022-01-01</td>\n",
       "      <td>4</td>\n",
       "      <td>5</td>\n",
       "      <td>2.0</td>\n",
       "      <td>2021-03-10</td>\n",
       "      <td>1</td>\n",
       "      <td>0</td>\n",
       "      <td>0</td>\n",
       "      <td>0</td>\n",
       "      <td>0</td>\n",
       "      <td>0</td>\n",
       "      <td>0</td>\n",
       "      <td>0</td>\n",
       "      <td>0</td>\n",
       "      <td>0</td>\n",
       "      <td>0</td>\n",
       "      <td>0</td>\n",
       "    </tr>\n",
       "  </tbody>\n",
       "</table>\n",
       "</div>"
      ],
      "text/plain": [
       "      id  created_at  campaign_var_1  campaign_var_2  products_purchased  \\\n",
       "0  39162  2022-01-01               2               2                 NaN   \n",
       "1  39163  2022-01-01               4               7                 3.0   \n",
       "2  39164  2022-01-01               8               7                 NaN   \n",
       "3  39165  2022-01-01               9               8                 2.0   \n",
       "4  39166  2022-01-01               4               5                 2.0   \n",
       "\n",
       "  signup_date  user_activity_var_1  user_activity_var_2  user_activity_var_3  \\\n",
       "0  2021-08-17                    1                    1                    0   \n",
       "1  2020-05-21                    1                    0                    0   \n",
       "2         NaN                    0                    0                    0   \n",
       "3  2020-06-22                    0                    0                    0   \n",
       "4  2021-03-10                    1                    0                    0   \n",
       "\n",
       "   user_activity_var_4  user_activity_var_5  user_activity_var_6  \\\n",
       "0                    0                    0                    1   \n",
       "1                    0                    0                    0   \n",
       "2                    0                    1                    1   \n",
       "3                    0                    1                    1   \n",
       "4                    0                    0                    0   \n",
       "\n",
       "   user_activity_var_7  user_activity_var_8  user_activity_var_9  \\\n",
       "0                    0                    0                    0   \n",
       "1                    0                    1                    0   \n",
       "2                    0                    0                    0   \n",
       "3                    1                    0                    0   \n",
       "4                    0                    0                    0   \n",
       "\n",
       "   user_activity_var_10  user_activity_var_11  user_activity_var_12  \n",
       "0                     0                     1                     0  \n",
       "1                     0                     0                     0  \n",
       "2                     0                     0                     0  \n",
       "3                     0                     2                     0  \n",
       "4                     0                     0                     0  "
      ]
     },
     "execution_count": 114,
     "metadata": {},
     "output_type": "execute_result"
    }
   ],
   "source": [
    "test = pd.read_csv('test_Wf7sxXF.csv')\n",
    "test.head()"
   ]
  },
  {
   "cell_type": "code",
   "execution_count": 115,
   "id": "6a2a3297",
   "metadata": {},
   "outputs": [
    {
     "name": "stdout",
     "output_type": "stream",
     "text": [
      "<class 'pandas.core.frame.DataFrame'>\n",
      "RangeIndex: 13184 entries, 0 to 13183\n",
      "Data columns (total 18 columns):\n",
      " #   Column                Non-Null Count  Dtype  \n",
      "---  ------                --------------  -----  \n",
      " 0   id                    13184 non-null  int64  \n",
      " 1   created_at            13184 non-null  object \n",
      " 2   campaign_var_1        13184 non-null  int64  \n",
      " 3   campaign_var_2        13184 non-null  int64  \n",
      " 4   products_purchased    5048 non-null   float64\n",
      " 5   signup_date           6535 non-null   object \n",
      " 6   user_activity_var_1   13184 non-null  int64  \n",
      " 7   user_activity_var_2   13184 non-null  int64  \n",
      " 8   user_activity_var_3   13184 non-null  int64  \n",
      " 9   user_activity_var_4   13184 non-null  int64  \n",
      " 10  user_activity_var_5   13184 non-null  int64  \n",
      " 11  user_activity_var_6   13184 non-null  int64  \n",
      " 12  user_activity_var_7   13184 non-null  int64  \n",
      " 13  user_activity_var_8   13184 non-null  int64  \n",
      " 14  user_activity_var_9   13184 non-null  int64  \n",
      " 15  user_activity_var_10  13184 non-null  int64  \n",
      " 16  user_activity_var_11  13184 non-null  int64  \n",
      " 17  user_activity_var_12  13184 non-null  int64  \n",
      "dtypes: float64(1), int64(15), object(2)\n",
      "memory usage: 1.8+ MB\n"
     ]
    }
   ],
   "source": [
    "test.info()"
   ]
  },
  {
   "cell_type": "code",
   "execution_count": 117,
   "id": "75501c2f",
   "metadata": {},
   "outputs": [
    {
     "data": {
      "text/plain": [
       "id                         0\n",
       "created_at                 0\n",
       "campaign_var_1             0\n",
       "campaign_var_2             0\n",
       "products_purchased      8136\n",
       "signup_date             6649\n",
       "user_activity_var_1        0\n",
       "user_activity_var_2        0\n",
       "user_activity_var_3        0\n",
       "user_activity_var_4        0\n",
       "user_activity_var_5        0\n",
       "user_activity_var_6        0\n",
       "user_activity_var_7        0\n",
       "user_activity_var_8        0\n",
       "user_activity_var_9        0\n",
       "user_activity_var_10       0\n",
       "user_activity_var_11       0\n",
       "user_activity_var_12       0\n",
       "dtype: int64"
      ]
     },
     "execution_count": 117,
     "metadata": {},
     "output_type": "execute_result"
    }
   ],
   "source": [
    "test.isna().sum()"
   ]
  },
  {
   "cell_type": "code",
   "execution_count": 118,
   "id": "99e689fd",
   "metadata": {},
   "outputs": [
    {
     "data": {
      "text/plain": [
       "(13184, 18)"
      ]
     },
     "execution_count": 118,
     "metadata": {},
     "output_type": "execute_result"
    }
   ],
   "source": [
    "test.shape"
   ]
  },
  {
   "cell_type": "code",
   "execution_count": null,
   "id": "2f06053a",
   "metadata": {},
   "outputs": [],
   "source": [
    "# test_df = test.drop(test[test['signup_date'].isna()].index) "
   ]
  },
  {
   "cell_type": "code",
   "execution_count": 120,
   "id": "95d08b10",
   "metadata": {},
   "outputs": [],
   "source": [
    "mean = test['products_purchased'].mean()\n",
    "test.fillna(mean, inplace = True)"
   ]
  },
  {
   "cell_type": "code",
   "execution_count": 121,
   "id": "5b5c8412",
   "metadata": {},
   "outputs": [],
   "source": [
    "test_df = test.drop(['id', 'created_at', 'signup_date'], axis =1)"
   ]
  },
  {
   "cell_type": "code",
   "execution_count": 122,
   "id": "53e0cb7a",
   "metadata": {},
   "outputs": [],
   "source": [
    "predictions = lcr.predict(test_df)"
   ]
  },
  {
   "cell_type": "code",
   "execution_count": 123,
   "id": "5b32db9f",
   "metadata": {},
   "outputs": [],
   "source": [
    "submission = pd.DataFrame()\n",
    "submission['id'] = test['id']\n",
    "submission['buy'] = predictions"
   ]
  },
  {
   "cell_type": "code",
   "execution_count": 124,
   "id": "237fe0ca",
   "metadata": {},
   "outputs": [
    {
     "data": {
      "text/html": [
       "<div>\n",
       "<style scoped>\n",
       "    .dataframe tbody tr th:only-of-type {\n",
       "        vertical-align: middle;\n",
       "    }\n",
       "\n",
       "    .dataframe tbody tr th {\n",
       "        vertical-align: top;\n",
       "    }\n",
       "\n",
       "    .dataframe thead th {\n",
       "        text-align: right;\n",
       "    }\n",
       "</style>\n",
       "<table border=\"1\" class=\"dataframe\">\n",
       "  <thead>\n",
       "    <tr style=\"text-align: right;\">\n",
       "      <th></th>\n",
       "      <th>id</th>\n",
       "      <th>buy</th>\n",
       "    </tr>\n",
       "  </thead>\n",
       "  <tbody>\n",
       "    <tr>\n",
       "      <th>0</th>\n",
       "      <td>39162</td>\n",
       "      <td>1</td>\n",
       "    </tr>\n",
       "    <tr>\n",
       "      <th>1</th>\n",
       "      <td>39163</td>\n",
       "      <td>0</td>\n",
       "    </tr>\n",
       "    <tr>\n",
       "      <th>2</th>\n",
       "      <td>39164</td>\n",
       "      <td>0</td>\n",
       "    </tr>\n",
       "    <tr>\n",
       "      <th>3</th>\n",
       "      <td>39165</td>\n",
       "      <td>1</td>\n",
       "    </tr>\n",
       "    <tr>\n",
       "      <th>4</th>\n",
       "      <td>39166</td>\n",
       "      <td>0</td>\n",
       "    </tr>\n",
       "  </tbody>\n",
       "</table>\n",
       "</div>"
      ],
      "text/plain": [
       "      id  buy\n",
       "0  39162    1\n",
       "1  39163    0\n",
       "2  39164    0\n",
       "3  39165    1\n",
       "4  39166    0"
      ]
     },
     "execution_count": 124,
     "metadata": {},
     "output_type": "execute_result"
    }
   ],
   "source": [
    "submission.head()"
   ]
  },
  {
   "cell_type": "code",
   "execution_count": 125,
   "id": "92e94f17",
   "metadata": {},
   "outputs": [],
   "source": [
    "submission.to_csv('submission.csv', index = False)"
   ]
  },
  {
   "cell_type": "code",
   "execution_count": 126,
   "id": "b7392803",
   "metadata": {},
   "outputs": [
    {
     "data": {
      "text/html": [
       "<div>\n",
       "<style scoped>\n",
       "    .dataframe tbody tr th:only-of-type {\n",
       "        vertical-align: middle;\n",
       "    }\n",
       "\n",
       "    .dataframe tbody tr th {\n",
       "        vertical-align: top;\n",
       "    }\n",
       "\n",
       "    .dataframe thead th {\n",
       "        text-align: right;\n",
       "    }\n",
       "</style>\n",
       "<table border=\"1\" class=\"dataframe\">\n",
       "  <thead>\n",
       "    <tr style=\"text-align: right;\">\n",
       "      <th></th>\n",
       "      <th>id</th>\n",
       "      <th>buy</th>\n",
       "    </tr>\n",
       "  </thead>\n",
       "  <tbody>\n",
       "    <tr>\n",
       "      <th>0</th>\n",
       "      <td>39162</td>\n",
       "      <td>1</td>\n",
       "    </tr>\n",
       "    <tr>\n",
       "      <th>1</th>\n",
       "      <td>39163</td>\n",
       "      <td>1</td>\n",
       "    </tr>\n",
       "    <tr>\n",
       "      <th>2</th>\n",
       "      <td>39164</td>\n",
       "      <td>1</td>\n",
       "    </tr>\n",
       "    <tr>\n",
       "      <th>3</th>\n",
       "      <td>39165</td>\n",
       "      <td>1</td>\n",
       "    </tr>\n",
       "    <tr>\n",
       "      <th>4</th>\n",
       "      <td>39166</td>\n",
       "      <td>1</td>\n",
       "    </tr>\n",
       "  </tbody>\n",
       "</table>\n",
       "</div>"
      ],
      "text/plain": [
       "      id  buy\n",
       "0  39162    1\n",
       "1  39163    1\n",
       "2  39164    1\n",
       "3  39165    1\n",
       "4  39166    1"
      ]
     },
     "execution_count": 126,
     "metadata": {},
     "output_type": "execute_result"
    }
   ],
   "source": [
    "sample = pd.read_csv('sample_submission_2zvVjBu.csv')\n",
    "sample.head()"
   ]
  },
  {
   "cell_type": "code",
   "execution_count": 127,
   "id": "1d06db1f",
   "metadata": {},
   "outputs": [
    {
     "name": "stderr",
     "output_type": "stream",
     "text": [
      "C:\\Users\\kavis\\anaconda3\\lib\\site-packages\\xgboost\\sklearn.py:1224: UserWarning: The use of label encoder in XGBClassifier is deprecated and will be removed in a future release. To remove this warning, do the following: 1) Pass option use_label_encoder=False when constructing XGBClassifier object; and 2) Encode your labels (y) as integers starting with 0, i.e. 0, 1, 2, ..., [num_class - 1].\n",
      "  warnings.warn(label_encoder_deprecation_msg, UserWarning)\n"
     ]
    },
    {
     "name": "stdout",
     "output_type": "stream",
     "text": [
      "[21:29:23] WARNING: C:/Users/Administrator/workspace/xgboost-win64_release_1.5.0/src/learner.cc:1115: Starting in XGBoost 1.3.0, the default evaluation metric used with the objective 'binary:logistic' was changed from 'error' to 'logloss'. Explicitly set eval_metric if you'd like to restore the old behavior.\n"
     ]
    },
    {
     "data": {
      "text/plain": [
       "XGBClassifier(base_score=0.5, booster='gbtree', colsample_bylevel=1,\n",
       "              colsample_bynode=1, colsample_bytree=1, enable_categorical=False,\n",
       "              gamma=0, gpu_id=-1, importance_type=None,\n",
       "              interaction_constraints='', learning_rate=0.300000012,\n",
       "              max_delta_step=0, max_depth=6, min_child_weight=1, missing=nan,\n",
       "              monotone_constraints='()', n_estimators=100, n_jobs=4,\n",
       "              num_parallel_tree=1, predictor='auto', random_state=0,\n",
       "              reg_alpha=0, reg_lambda=1, scale_pos_weight=1, subsample=1,\n",
       "              tree_method='exact', validate_parameters=1, verbosity=None)"
      ]
     },
     "execution_count": 127,
     "metadata": {},
     "output_type": "execute_result"
    }
   ],
   "source": [
    "from xgboost import XGBClassifier\n",
    "xgb = XGBClassifier()\n",
    "xgb.fit(x_trn, y_trn)"
   ]
  },
  {
   "cell_type": "code",
   "execution_count": 129,
   "id": "fbb78c47",
   "metadata": {},
   "outputs": [],
   "source": [
    "xgb_pred = xgb.predict(x_tst)"
   ]
  },
  {
   "cell_type": "code",
   "execution_count": 131,
   "id": "40d1dc8f",
   "metadata": {},
   "outputs": [
    {
     "name": "stdout",
     "output_type": "stream",
     "text": [
      "              precision    recall  f1-score   support\n",
      "\n",
      "           0       0.96      1.00      0.98      5515\n",
      "           1       0.91      0.58      0.71       497\n",
      "\n",
      "    accuracy                           0.96      6012\n",
      "   macro avg       0.94      0.79      0.85      6012\n",
      "weighted avg       0.96      0.96      0.96      6012\n",
      "\n"
     ]
    }
   ],
   "source": [
    "print(classification_report(y_tst, xgb_pred))"
   ]
  },
  {
   "cell_type": "code",
   "execution_count": 144,
   "id": "e16a2f09",
   "metadata": {},
   "outputs": [
    {
     "name": "stdout",
     "output_type": "stream",
     "text": [
      "Mean ROC AUC: 0.7876318142848203\n"
     ]
    }
   ],
   "source": [
    "from sklearn.model_selection import cross_val_score\n",
    "from sklearn.model_selection import RepeatedStratifiedKFold\n",
    "from sklearn.tree import DecisionTreeClassifier\n",
    "from imblearn.pipeline import Pipeline\n",
    "from imblearn.over_sampling import SMOTE\n",
    "from imblearn.under_sampling import RandomUnderSampler\n",
    "\n",
    "# k_values = [1, 2, 3, 4, 5, 6, 7]\n",
    "# for k in k_values:\n",
    "\t# define pipeline\n",
    "model = DecisionTreeClassifier()\n",
    "over = SMOTE(sampling_strategy=0.1)\n",
    "under = RandomUnderSampler(sampling_strategy=0.1)\n",
    "steps = [('over', over), ('under', under), ('model', model)]\n",
    "pipeline = Pipeline(steps=steps)\n",
    "\t# evaluate pipeline\n",
    "cv = RepeatedStratifiedKFold(n_splits=10, n_repeats=3, random_state=1)\n",
    "scores = cross_val_score(pipeline, X, Y, scoring='roc_auc', cv=cv, n_jobs=-1)\n",
    "score = scores.mean()\n",
    "print('Mean ROC AUC:', score)"
   ]
  },
  {
   "cell_type": "code",
   "execution_count": 146,
   "id": "de3eda65",
   "metadata": {},
   "outputs": [],
   "source": [
    "pipeline.fit(x_trn, y_trn)\n",
    "pip_pred = pipeline.predict(x_tst)"
   ]
  },
  {
   "cell_type": "code",
   "execution_count": 147,
   "id": "c9fe7648",
   "metadata": {},
   "outputs": [
    {
     "name": "stdout",
     "output_type": "stream",
     "text": [
      "              precision    recall  f1-score   support\n",
      "\n",
      "           0       0.96      0.98      0.97      5515\n",
      "           1       0.69      0.58      0.63       497\n",
      "\n",
      "    accuracy                           0.94      6012\n",
      "   macro avg       0.83      0.78      0.80      6012\n",
      "weighted avg       0.94      0.94      0.94      6012\n",
      "\n"
     ]
    }
   ],
   "source": [
    "print(classification_report(y_tst, pip_pred))"
   ]
  },
  {
   "cell_type": "code",
   "execution_count": 148,
   "id": "17340fea",
   "metadata": {},
   "outputs": [
    {
     "data": {
      "text/plain": [
       "RandomForestClassifier()"
      ]
     },
     "execution_count": 148,
     "metadata": {},
     "output_type": "execute_result"
    }
   ],
   "source": [
    "from sklearn.ensemble import RandomForestClassifier\n",
    "rdf = RandomForestClassifier()\n",
    "rdf.fit(x_trn, y_trn)"
   ]
  },
  {
   "cell_type": "code",
   "execution_count": 149,
   "id": "49a29a02",
   "metadata": {},
   "outputs": [],
   "source": [
    "rdf_pred = rdf.predict(x_tst)"
   ]
  },
  {
   "cell_type": "code",
   "execution_count": 150,
   "id": "029b259d",
   "metadata": {},
   "outputs": [
    {
     "name": "stdout",
     "output_type": "stream",
     "text": [
      "              precision    recall  f1-score   support\n",
      "\n",
      "           0       0.96      0.99      0.97      5515\n",
      "           1       0.79      0.58      0.67       497\n",
      "\n",
      "    accuracy                           0.95      6012\n",
      "   macro avg       0.88      0.78      0.82      6012\n",
      "weighted avg       0.95      0.95      0.95      6012\n",
      "\n"
     ]
    }
   ],
   "source": [
    "print(classification_report(y_tst, rdf_pred))"
   ]
  },
  {
   "cell_type": "code",
   "execution_count": 156,
   "id": "8b033290",
   "metadata": {},
   "outputs": [],
   "source": [
    "output = xgb.predict(test_df)"
   ]
  },
  {
   "cell_type": "code",
   "execution_count": 158,
   "id": "e120e68c",
   "metadata": {},
   "outputs": [
    {
     "data": {
      "text/plain": [
       "array([1, 0, 0, ..., 0, 0, 0], dtype=int64)"
      ]
     },
     "execution_count": 158,
     "metadata": {},
     "output_type": "execute_result"
    }
   ],
   "source": [
    "output\n"
   ]
  },
  {
   "cell_type": "code",
   "execution_count": 159,
   "id": "4e77efd0",
   "metadata": {},
   "outputs": [],
   "source": [
    "outputs = pd.DataFrame()\n",
    "outputs['id'] = test['id']\n",
    "outputs['buy'] = output"
   ]
  },
  {
   "cell_type": "code",
   "execution_count": 160,
   "id": "4ab6fde6",
   "metadata": {},
   "outputs": [],
   "source": [
    "outputs.to_csv('outputs.csv', index  = False)"
   ]
  },
  {
   "cell_type": "code",
   "execution_count": 176,
   "id": "9fad440c",
   "metadata": {},
   "outputs": [],
   "source": [
    "# undersampling = RandomUnderSampler()\n",
    "x,y = over.fit_resample(X, Y)"
   ]
  },
  {
   "cell_type": "code",
   "execution_count": 177,
   "id": "0ca644d1",
   "metadata": {},
   "outputs": [],
   "source": [
    "x_train, x_val, y_train, y_val = tst(x,y, test_size = 0.20)"
   ]
  },
  {
   "cell_type": "code",
   "execution_count": 178,
   "id": "cde89176",
   "metadata": {},
   "outputs": [
    {
     "name": "stderr",
     "output_type": "stream",
     "text": [
      "C:\\Users\\kavis\\anaconda3\\lib\\site-packages\\xgboost\\sklearn.py:1224: UserWarning: The use of label encoder in XGBClassifier is deprecated and will be removed in a future release. To remove this warning, do the following: 1) Pass option use_label_encoder=False when constructing XGBClassifier object; and 2) Encode your labels (y) as integers starting with 0, i.e. 0, 1, 2, ..., [num_class - 1].\n",
      "  warnings.warn(label_encoder_deprecation_msg, UserWarning)\n"
     ]
    },
    {
     "name": "stdout",
     "output_type": "stream",
     "text": [
      "[21:51:56] WARNING: C:/Users/Administrator/workspace/xgboost-win64_release_1.5.0/src/learner.cc:1115: Starting in XGBoost 1.3.0, the default evaluation metric used with the objective 'binary:logistic' was changed from 'error' to 'logloss'. Explicitly set eval_metric if you'd like to restore the old behavior.\n"
     ]
    },
    {
     "data": {
      "text/plain": [
       "XGBClassifier(base_score=0.5, booster='gbtree', colsample_bylevel=1,\n",
       "              colsample_bynode=1, colsample_bytree=1, enable_categorical=False,\n",
       "              gamma=0, gpu_id=-1, importance_type=None,\n",
       "              interaction_constraints='', learning_rate=0.300000012,\n",
       "              max_delta_step=0, max_depth=6, min_child_weight=1, missing=nan,\n",
       "              monotone_constraints='()', n_estimators=100, n_jobs=4,\n",
       "              num_parallel_tree=1, predictor='auto', random_state=0,\n",
       "              reg_alpha=0, reg_lambda=1, scale_pos_weight=1, subsample=1,\n",
       "              tree_method='exact', validate_parameters=1, verbosity=None)"
      ]
     },
     "execution_count": 178,
     "metadata": {},
     "output_type": "execute_result"
    }
   ],
   "source": [
    "xgb.fit(x_train, y_train)"
   ]
  },
  {
   "cell_type": "code",
   "execution_count": 179,
   "id": "32666420",
   "metadata": {},
   "outputs": [],
   "source": [
    "pred_xgb = xgb.predict(x_val)"
   ]
  },
  {
   "cell_type": "code",
   "execution_count": 180,
   "id": "f613a8cd",
   "metadata": {},
   "outputs": [
    {
     "name": "stdout",
     "output_type": "stream",
     "text": [
      "              precision    recall  f1-score   support\n",
      "\n",
      "           0       0.96      1.00      0.98      4401\n",
      "           1       0.92      0.56      0.70       456\n",
      "\n",
      "    accuracy                           0.95      4857\n",
      "   macro avg       0.94      0.78      0.84      4857\n",
      "weighted avg       0.95      0.95      0.95      4857\n",
      "\n"
     ]
    }
   ],
   "source": [
    "print(classification_report(y_val, pred_xgb))"
   ]
  },
  {
   "cell_type": "code",
   "execution_count": 201,
   "id": "29f8005d",
   "metadata": {},
   "outputs": [
    {
     "name": "stderr",
     "output_type": "stream",
     "text": [
      "C:\\Users\\kavis\\anaconda3\\lib\\site-packages\\sklearn\\linear_model\\_logistic.py:814: ConvergenceWarning: lbfgs failed to converge (status=1):\n",
      "STOP: TOTAL NO. of ITERATIONS REACHED LIMIT.\n",
      "\n",
      "Increase the number of iterations (max_iter) or scale the data as shown in:\n",
      "    https://scikit-learn.org/stable/modules/preprocessing.html\n",
      "Please also refer to the documentation for alternative solver options:\n",
      "    https://scikit-learn.org/stable/modules/linear_model.html#logistic-regression\n",
      "  n_iter_i = _check_optimize_result(\n",
      "C:\\Users\\kavis\\anaconda3\\lib\\site-packages\\sklearn\\linear_model\\_logistic.py:814: ConvergenceWarning: lbfgs failed to converge (status=1):\n",
      "STOP: TOTAL NO. of ITERATIONS REACHED LIMIT.\n",
      "\n",
      "Increase the number of iterations (max_iter) or scale the data as shown in:\n",
      "    https://scikit-learn.org/stable/modules/preprocessing.html\n",
      "Please also refer to the documentation for alternative solver options:\n",
      "    https://scikit-learn.org/stable/modules/linear_model.html#logistic-regression\n",
      "  n_iter_i = _check_optimize_result(\n",
      "C:\\Users\\kavis\\anaconda3\\lib\\site-packages\\sklearn\\linear_model\\_logistic.py:814: ConvergenceWarning: lbfgs failed to converge (status=1):\n",
      "STOP: TOTAL NO. of ITERATIONS REACHED LIMIT.\n",
      "\n",
      "Increase the number of iterations (max_iter) or scale the data as shown in:\n",
      "    https://scikit-learn.org/stable/modules/preprocessing.html\n",
      "Please also refer to the documentation for alternative solver options:\n",
      "    https://scikit-learn.org/stable/modules/linear_model.html#logistic-regression\n",
      "  n_iter_i = _check_optimize_result(\n",
      "C:\\Users\\kavis\\anaconda3\\lib\\site-packages\\sklearn\\linear_model\\_logistic.py:814: ConvergenceWarning: lbfgs failed to converge (status=1):\n",
      "STOP: TOTAL NO. of ITERATIONS REACHED LIMIT.\n",
      "\n",
      "Increase the number of iterations (max_iter) or scale the data as shown in:\n",
      "    https://scikit-learn.org/stable/modules/preprocessing.html\n",
      "Please also refer to the documentation for alternative solver options:\n",
      "    https://scikit-learn.org/stable/modules/linear_model.html#logistic-regression\n",
      "  n_iter_i = _check_optimize_result(\n",
      "C:\\Users\\kavis\\anaconda3\\lib\\site-packages\\sklearn\\linear_model\\_logistic.py:814: ConvergenceWarning: lbfgs failed to converge (status=1):\n",
      "STOP: TOTAL NO. of ITERATIONS REACHED LIMIT.\n",
      "\n",
      "Increase the number of iterations (max_iter) or scale the data as shown in:\n",
      "    https://scikit-learn.org/stable/modules/preprocessing.html\n",
      "Please also refer to the documentation for alternative solver options:\n",
      "    https://scikit-learn.org/stable/modules/linear_model.html#logistic-regression\n",
      "  n_iter_i = _check_optimize_result(\n",
      "C:\\Users\\kavis\\anaconda3\\lib\\site-packages\\sklearn\\linear_model\\_logistic.py:814: ConvergenceWarning: lbfgs failed to converge (status=1):\n",
      "STOP: TOTAL NO. of ITERATIONS REACHED LIMIT.\n",
      "\n",
      "Increase the number of iterations (max_iter) or scale the data as shown in:\n",
      "    https://scikit-learn.org/stable/modules/preprocessing.html\n",
      "Please also refer to the documentation for alternative solver options:\n",
      "    https://scikit-learn.org/stable/modules/linear_model.html#logistic-regression\n",
      "  n_iter_i = _check_optimize_result(\n"
     ]
    },
    {
     "data": {
      "text/plain": [
       "StackingClassifier(cv=5,\n",
       "                   estimators=[('lr', LogisticRegression()),\n",
       "                               ('knn', KNeighborsClassifier()),\n",
       "                               ('cart', DecisionTreeClassifier()),\n",
       "                               ('svm', SVC()), ('bayes', GaussianNB())],\n",
       "                   final_estimator=SVC())"
      ]
     },
     "execution_count": 201,
     "metadata": {},
     "output_type": "execute_result"
    }
   ],
   "source": [
    "from sklearn.ensemble import StackingClassifier\n",
    "from sklearn.linear_model import LogisticRegression\n",
    "from sklearn.neighbors import KNeighborsClassifier\n",
    "from sklearn.tree import DecisionTreeClassifier\n",
    "from sklearn.svm import SVC\n",
    "from sklearn.naive_bayes import GaussianNB\n",
    "level0 = list()\n",
    "level0.append(('lr', LogisticRegression()))\n",
    "level0.append(('knn', KNeighborsClassifier()))\n",
    "level0.append(('cart', DecisionTreeClassifier()))\n",
    "level0.append(('svm', SVC()))\n",
    "level0.append(('bayes', GaussianNB()))\n",
    "# level0.append(('XGB', XGBClassifier()))\n",
    "# define meta learner model\n",
    "level1 = SVC()\n",
    "# define the stacking ensemble\n",
    "model = StackingClassifier(estimators=level0, final_estimator=level1, cv=5)\n",
    "# fit the model on all available data\n",
    "model.fit(x_trn, y_trn)"
   ]
  },
  {
   "cell_type": "code",
   "execution_count": 202,
   "id": "37779886",
   "metadata": {},
   "outputs": [],
   "source": [
    "stack_pred = model.predict(x_tst)"
   ]
  },
  {
   "cell_type": "code",
   "execution_count": 203,
   "id": "f72551e4",
   "metadata": {},
   "outputs": [
    {
     "name": "stdout",
     "output_type": "stream",
     "text": [
      "              precision    recall  f1-score   support\n",
      "\n",
      "           0       0.96      1.00      0.98      5515\n",
      "           1       0.96      0.55      0.69       497\n",
      "\n",
      "    accuracy                           0.96      6012\n",
      "   macro avg       0.96      0.77      0.84      6012\n",
      "weighted avg       0.96      0.96      0.96      6012\n",
      "\n"
     ]
    }
   ],
   "source": [
    "print(classification_report(y_tst, stack_pred))"
   ]
  },
  {
   "cell_type": "markdown",
   "id": "a8feaa83",
   "metadata": {},
   "source": [
    "## Feature Importance"
   ]
  },
  {
   "cell_type": "code",
   "execution_count": 207,
   "id": "75e4b424",
   "metadata": {},
   "outputs": [
    {
     "name": "stdout",
     "output_type": "stream",
     "text": [
      "[0.00535052 0.00515145 0.00617726 0.00610444 0.1843671  0.00440738\n",
      " 0.13925296 0.01650798 0.00459555 0.00523815 0.0312948  0.5106356\n",
      " 0.02223004 0.04912324 0.00956348]\n"
     ]
    },
    {
     "data": {
      "image/png": "[encoded data removed]",
      "text/plain": [
       "<Figure size 432x288 with 1 Axes>"
      ]
     },
     "metadata": {
      "needs_background": "light"
     },
     "output_type": "display_data"
    }
   ],
   "source": [
    "from matplotlib import pyplot\n",
    "# feature importance\n",
    "print(xgb.feature_importances_)\n",
    "# plot\n",
    "pyplot.bar(range(len(xgb.feature_importances_)), xgb.feature_importances_)\n",
    "pyplot.show()"
   ]
  },
  {
   "cell_type": "code",
   "execution_count": 209,
   "id": "ea79643e",
   "metadata": {},
   "outputs": [
    {
     "data": {
      "image/png": "[encoded data removed]",
      "text/plain": [
       "<Figure size 432x288 with 1 Axes>"
      ]
     },
     "metadata": {
      "needs_background": "light"
     },
     "output_type": "display_data"
    }
   ],
   "source": [
    "from xgboost import plot_importance\n",
    "# plot feature importance\n",
    "plot_importance(xgb)\n",
    "pyplot.show()"
   ]
  },
  {
   "cell_type": "code",
   "execution_count": 216,
   "id": "a13804f3",
   "metadata": {},
   "outputs": [
    {
     "name": "stdout",
     "output_type": "stream",
     "text": [
      "Accuracy: 96.11%\n",
      "[23:49:52] WARNING: C:/Users/Administrator/workspace/xgboost-win64_release_1.5.0/src/learner.cc:1115: Starting in XGBoost 1.3.0, the default evaluation metric used with the objective 'binary:logistic' was changed from 'error' to 'logloss'. Explicitly set eval_metric if you'd like to restore the old behavior.\n",
      "Thresh=0.004, n=15, Accuracy: 96.11%\n",
      "[23:49:53] WARNING: C:/Users/Administrator/workspace/xgboost-win64_release_1.5.0/src/learner.cc:1115: Starting in XGBoost 1.3.0, the default evaluation metric used with the objective 'binary:logistic' was changed from 'error' to 'logloss'. Explicitly set eval_metric if you'd like to restore the old behavior.\n",
      "Thresh=0.005, n=14, Accuracy: 96.14%\n",
      "[23:49:55] WARNING: C:/Users/Administrator/workspace/xgboost-win64_release_1.5.0/src/learner.cc:1115: Starting in XGBoost 1.3.0, the default evaluation metric used with the objective 'binary:logistic' was changed from 'error' to 'logloss'. Explicitly set eval_metric if you'd like to restore the old behavior.\n",
      "Thresh=0.005, n=13, Accuracy: 96.02%\n",
      "[23:49:57] WARNING: C:/Users/Administrator/workspace/xgboost-win64_release_1.5.0/src/learner.cc:1115: Starting in XGBoost 1.3.0, the default evaluation metric used with the objective 'binary:logistic' was changed from 'error' to 'logloss'. Explicitly set eval_metric if you'd like to restore the old behavior.\n",
      "Thresh=0.005, n=12, Accuracy: 96.01%\n",
      "[23:49:58] WARNING: C:/Users/Administrator/workspace/xgboost-win64_release_1.5.0/src/learner.cc:1115: Starting in XGBoost 1.3.0, the default evaluation metric used with the objective 'binary:logistic' was changed from 'error' to 'logloss'. Explicitly set eval_metric if you'd like to restore the old behavior.\n",
      "Thresh=0.005, n=11, Accuracy: 96.04%\n",
      "[23:49:59] WARNING: C:/Users/Administrator/workspace/xgboost-win64_release_1.5.0/src/learner.cc:1115: Starting in XGBoost 1.3.0, the default evaluation metric used with the objective 'binary:logistic' was changed from 'error' to 'logloss'. Explicitly set eval_metric if you'd like to restore the old behavior.\n",
      "Thresh=0.006, n=10, Accuracy: 95.97%\n",
      "[23:50:00] WARNING: C:/Users/Administrator/workspace/xgboost-win64_release_1.5.0/src/learner.cc:1115: Starting in XGBoost 1.3.0, the default evaluation metric used with the objective 'binary:logistic' was changed from 'error' to 'logloss'. Explicitly set eval_metric if you'd like to restore the old behavior.\n",
      "Thresh=0.006, n=9, Accuracy: 95.91%\n",
      "[23:50:02] WARNING: C:/Users/Administrator/workspace/xgboost-win64_release_1.5.0/src/learner.cc:1115: Starting in XGBoost 1.3.0, the default evaluation metric used with the objective 'binary:logistic' was changed from 'error' to 'logloss'. Explicitly set eval_metric if you'd like to restore the old behavior.\n",
      "Thresh=0.010, n=8, Accuracy: 96.02%\n",
      "[23:50:03] WARNING: C:/Users/Administrator/workspace/xgboost-win64_release_1.5.0/src/learner.cc:1115: Starting in XGBoost 1.3.0, the default evaluation metric used with the objective 'binary:logistic' was changed from 'error' to 'logloss'. Explicitly set eval_metric if you'd like to restore the old behavior.\n",
      "Thresh=0.017, n=7, Accuracy: 96.02%\n",
      "[23:50:03] WARNING: C:/Users/Administrator/workspace/xgboost-win64_release_1.5.0/src/learner.cc:1115: Starting in XGBoost 1.3.0, the default evaluation metric used with the objective 'binary:logistic' was changed from 'error' to 'logloss'. Explicitly set eval_metric if you'd like to restore the old behavior.\n",
      "Thresh=0.022, n=6, Accuracy: 95.97%\n",
      "[23:50:04] WARNING: C:/Users/Administrator/workspace/xgboost-win64_release_1.5.0/src/learner.cc:1115: Starting in XGBoost 1.3.0, the default evaluation metric used with the objective 'binary:logistic' was changed from 'error' to 'logloss'. Explicitly set eval_metric if you'd like to restore the old behavior.\n",
      "Thresh=0.031, n=5, Accuracy: 95.97%\n",
      "[23:50:05] WARNING: C:/Users/Administrator/workspace/xgboost-win64_release_1.5.0/src/learner.cc:1115: Starting in XGBoost 1.3.0, the default evaluation metric used with the objective 'binary:logistic' was changed from 'error' to 'logloss'. Explicitly set eval_metric if you'd like to restore the old behavior.\n",
      "Thresh=0.049, n=4, Accuracy: 95.96%\n",
      "[23:50:06] WARNING: C:/Users/Administrator/workspace/xgboost-win64_release_1.5.0/src/learner.cc:1115: Starting in XGBoost 1.3.0, the default evaluation metric used with the objective 'binary:logistic' was changed from 'error' to 'logloss'. Explicitly set eval_metric if you'd like to restore the old behavior.\n",
      "Thresh=0.139, n=3, Accuracy: 95.39%\n",
      "[23:50:06] WARNING: C:/Users/Administrator/workspace/xgboost-win64_release_1.5.0/src/learner.cc:1115: Starting in XGBoost 1.3.0, the default evaluation metric used with the objective 'binary:logistic' was changed from 'error' to 'logloss'. Explicitly set eval_metric if you'd like to restore the old behavior.\n",
      "Thresh=0.184, n=2, Accuracy: 94.83%\n",
      "[23:50:06] WARNING: C:/Users/Administrator/workspace/xgboost-win64_release_1.5.0/src/learner.cc:1115: Starting in XGBoost 1.3.0, the default evaluation metric used with the objective 'binary:logistic' was changed from 'error' to 'logloss'. Explicitly set eval_metric if you'd like to restore the old behavior.\n",
      "Thresh=0.511, n=1, Accuracy: 93.96%\n"
     ]
    }
   ],
   "source": [
    "from sklearn.metrics import accuracy_score\n",
    "from sklearn.feature_selection import SelectFromModel\n",
    "from numpy import sort\n",
    "accuracy = accuracy_score(y_tst, xgb_pred)\n",
    "print(\"Accuracy: %.2f%%\" % (accuracy * 100.0))\n",
    "# Fit model using each importance as a threshold\n",
    "thresholds = sort(xgb.feature_importances_)\n",
    "for thresh in thresholds:\n",
    "\t# select features using threshold\n",
    "\tselection = SelectFromModel(xgb, threshold=thresh, prefit=True)\n",
    "\tselect_X_train = selection.transform(x_trn)\n",
    "\t# train model\n",
    "\tselection_model = XGBClassifier()\n",
    "\tselection_model.fit(select_X_train, y_trn)\n",
    "\t# eval model\n",
    "\tselect_X_test = selection.transform(x_tst)\n",
    "\tpredictions = selection_model.predict(select_X_test)\n",
    "\taccuracy = accuracy_score(y_tst, predictions)\n",
    "\tprint(\"Thresh=%.3f, n=%d, Accuracy: %.2f%%\" % (thresh, select_X_train.shape[1], accuracy*100.0))\n"
   ]
  },
  {
   "cell_type": "code",
   "execution_count": 217,
   "id": "8b45063f",
   "metadata": {},
   "outputs": [
    {
     "data": {
      "text/plain": [
       "Index(['campaign_var_1', 'campaign_var_2', 'products_purchased',\n",
       "       'user_activity_var_1', 'user_activity_var_2', 'user_activity_var_3',\n",
       "       'user_activity_var_4', 'user_activity_var_5', 'user_activity_var_6',\n",
       "       'user_activity_var_7', 'user_activity_var_8', 'user_activity_var_9',\n",
       "       'user_activity_var_10', 'user_activity_var_11', 'user_activity_var_12'],\n",
       "      dtype='object')"
      ]
     },
     "execution_count": 217,
     "metadata": {},
     "output_type": "execute_result"
    }
   ],
   "source": [
    "X.columns"
   ]
  },
  {
   "cell_type": "code",
   "execution_count": 244,
   "id": "7444af34",
   "metadata": {},
   "outputs": [],
   "source": [
    "selected_x = X[['campaign_var_1', 'campaign_var_2','products_purchased', 'user_activity_var_1', 'user_activity_var_6', 'user_activity_var_11','user_activity_var_5','user_activity_var_7' ]]"
   ]
  },
  {
   "cell_type": "code",
   "execution_count": 245,
   "id": "8130ee2e",
   "metadata": {},
   "outputs": [],
   "source": [
    "train_x, val_x, train_y, val_y = tst(selected_x, Y, test_size = 0.20)"
   ]
  },
  {
   "cell_type": "code",
   "execution_count": 246,
   "id": "f8e37cfb",
   "metadata": {},
   "outputs": [
    {
     "name": "stdout",
     "output_type": "stream",
     "text": [
      "[00:16:50] WARNING: C:/Users/Administrator/workspace/xgboost-win64_release_1.5.0/src/learner.cc:1115: Starting in XGBoost 1.3.0, the default evaluation metric used with the objective 'binary:logistic' was changed from 'error' to 'logloss'. Explicitly set eval_metric if you'd like to restore the old behavior.\n"
     ]
    },
    {
     "data": {
      "text/plain": [
       "XGBClassifier(base_score=0.5, booster='gbtree', colsample_bylevel=1,\n",
       "              colsample_bynode=1, colsample_bytree=1, enable_categorical=False,\n",
       "              gamma=0, gpu_id=-1, importance_type=None,\n",
       "              interaction_constraints='', learning_rate=0.300000012,\n",
       "              max_delta_step=0, max_depth=6, min_child_weight=1, missing=nan,\n",
       "              monotone_constraints='()', n_estimators=100, n_jobs=4,\n",
       "              num_parallel_tree=1, predictor='auto', random_state=0,\n",
       "              reg_alpha=0, reg_lambda=1, scale_pos_weight=1, subsample=1,\n",
       "              tree_method='exact', validate_parameters=1, verbosity=None)"
      ]
     },
     "execution_count": 246,
     "metadata": {},
     "output_type": "execute_result"
    }
   ],
   "source": [
    "xgb.fit(train_x, train_y)"
   ]
  },
  {
   "cell_type": "code",
   "execution_count": 247,
   "id": "d71efc13",
   "metadata": {},
   "outputs": [],
   "source": [
    "selected_pred = xgb.predict(val_x)"
   ]
  },
  {
   "cell_type": "code",
   "execution_count": 248,
   "id": "cf6b798c",
   "metadata": {},
   "outputs": [
    {
     "name": "stdout",
     "output_type": "stream",
     "text": [
      "              precision    recall  f1-score   support\n",
      "\n",
      "           0       0.94      0.99      0.96      4428\n",
      "           1       0.69      0.29      0.41       382\n",
      "\n",
      "    accuracy                           0.93      4810\n",
      "   macro avg       0.82      0.64      0.69      4810\n",
      "weighted avg       0.92      0.93      0.92      4810\n",
      "\n"
     ]
    }
   ],
   "source": [
    "print(classification_report(val_y, selected_pred))"
   ]
  },
  {
   "cell_type": "markdown",
   "id": "79dc2e6a",
   "metadata": {},
   "source": [
    "## Feature Engineering"
   ]
  },
  {
   "cell_type": "code",
   "execution_count": 261,
   "id": "64560a7f",
   "metadata": {},
   "outputs": [],
   "source": [
    "X['user_activity'] = (X['user_activity_var_1']+X['user_activity_var_2']+X['user_activity_var_3']+X['user_activity_var_4']+X['user_activity_var_5']+X['user_activity_var_6']+X['user_activity_var_7']+X['user_activity_var_8']+X['user_activity_var_9']+X['user_activity_var_10']+X['user_activity_var_11']+X['user_activity_var_12'])/12"
   ]
  },
  {
   "cell_type": "code",
   "execution_count": 278,
   "id": "3620d348",
   "metadata": {},
   "outputs": [],
   "source": [
    "X['camapign_activity'] = (X['campaign_var_1']+X['campaign_var_2'])/2"
   ]
  },
  {
   "cell_type": "code",
   "execution_count": 310,
   "id": "c85e1e18",
   "metadata": {},
   "outputs": [],
   "source": [
    "X['user_products'] = (X['user_activity']*X['products_purchased'])/len(X['user_activity'])"
   ]
  },
  {
   "cell_type": "code",
   "execution_count": 311,
   "id": "c155abf4",
   "metadata": {},
   "outputs": [],
   "source": [
    "new_x = X[['campaign_var_1', 'campaign_var_2', 'products_purchased','user_activity', 'camapign_activity']]"
   ]
  },
  {
   "cell_type": "code",
   "execution_count": 312,
   "id": "c0b5faf3",
   "metadata": {},
   "outputs": [],
   "source": [
    "trn_x, tst_x,trn_y, tst_y = tst(X, Y, test_size=0.20)"
   ]
  },
  {
   "cell_type": "code",
   "execution_count": 313,
   "id": "d3fe7baa",
   "metadata": {},
   "outputs": [
    {
     "name": "stdout",
     "output_type": "stream",
     "text": [
      "[11:44:37] WARNING: C:/Users/Administrator/workspace/xgboost-win64_release_1.5.0/src/learner.cc:1115: Starting in XGBoost 1.3.0, the default evaluation metric used with the objective 'binary:logistic' was changed from 'error' to 'logloss'. Explicitly set eval_metric if you'd like to restore the old behavior.\n"
     ]
    },
    {
     "data": {
      "text/plain": [
       "XGBClassifier(base_score=0.5, booster='gbtree', colsample_bylevel=1,\n",
       "              colsample_bynode=1, colsample_bytree=1, enable_categorical=False,\n",
       "              gamma=0, gpu_id=-1, importance_type=None,\n",
       "              interaction_constraints='', learning_rate=0.300000012,\n",
       "              max_delta_step=0, max_depth=6, min_child_weight=1, missing=nan,\n",
       "              monotone_constraints='()', n_estimators=100, n_jobs=4,\n",
       "              num_parallel_tree=1, predictor='auto', random_state=0,\n",
       "              reg_alpha=0, reg_lambda=1, scale_pos_weight=1, subsample=1,\n",
       "              tree_method='exact', validate_parameters=1, verbosity=None)"
      ]
     },
     "execution_count": 313,
     "metadata": {},
     "output_type": "execute_result"
    }
   ],
   "source": [
    "xgb.fit(trn_x, trn_y)"
   ]
  },
  {
   "cell_type": "code",
   "execution_count": 314,
   "id": "02065baa",
   "metadata": {},
   "outputs": [],
   "source": [
    "new_pred = xgb.predict(tst_x)"
   ]
  },
  {
   "cell_type": "code",
   "execution_count": 315,
   "id": "eeb9d2d9",
   "metadata": {},
   "outputs": [
    {
     "name": "stdout",
     "output_type": "stream",
     "text": [
      "              precision    recall  f1-score   support\n",
      "\n",
      "           0       0.96      1.00      0.98      4434\n",
      "           1       0.91      0.56      0.70       376\n",
      "\n",
      "    accuracy                           0.96      4810\n",
      "   macro avg       0.94      0.78      0.84      4810\n",
      "weighted avg       0.96      0.96      0.96      4810\n",
      "\n"
     ]
    }
   ],
   "source": [
    "print(classification_report(tst_y, new_pred))"
   ]
  },
  {
   "cell_type": "code",
   "execution_count": 288,
   "id": "dd459eeb",
   "metadata": {},
   "outputs": [
    {
     "data": {
      "text/html": [
       "<div>\n",
       "<style scoped>\n",
       "    .dataframe tbody tr th:only-of-type {\n",
       "        vertical-align: middle;\n",
       "    }\n",
       "\n",
       "    .dataframe tbody tr th {\n",
       "        vertical-align: top;\n",
       "    }\n",
       "\n",
       "    .dataframe thead th {\n",
       "        text-align: right;\n",
       "    }\n",
       "</style>\n",
       "<table border=\"1\" class=\"dataframe\">\n",
       "  <thead>\n",
       "    <tr style=\"text-align: right;\">\n",
       "      <th></th>\n",
       "      <th>campaign_var_1</th>\n",
       "      <th>campaign_var_2</th>\n",
       "      <th>products_purchased</th>\n",
       "      <th>user_activity_var_1</th>\n",
       "      <th>user_activity_var_2</th>\n",
       "      <th>user_activity_var_3</th>\n",
       "      <th>user_activity_var_4</th>\n",
       "      <th>user_activity_var_5</th>\n",
       "      <th>user_activity_var_6</th>\n",
       "      <th>user_activity_var_7</th>\n",
       "      <th>user_activity_var_8</th>\n",
       "      <th>user_activity_var_9</th>\n",
       "      <th>user_activity_var_10</th>\n",
       "      <th>user_activity_var_11</th>\n",
       "      <th>user_activity_var_12</th>\n",
       "    </tr>\n",
       "  </thead>\n",
       "  <tbody>\n",
       "    <tr>\n",
       "      <th>0</th>\n",
       "      <td>2</td>\n",
       "      <td>2</td>\n",
       "      <td>0.0</td>\n",
       "      <td>1</td>\n",
       "      <td>1</td>\n",
       "      <td>0</td>\n",
       "      <td>0</td>\n",
       "      <td>0</td>\n",
       "      <td>1</td>\n",
       "      <td>0</td>\n",
       "      <td>0</td>\n",
       "      <td>0</td>\n",
       "      <td>0</td>\n",
       "      <td>1</td>\n",
       "      <td>0</td>\n",
       "    </tr>\n",
       "    <tr>\n",
       "      <th>1</th>\n",
       "      <td>4</td>\n",
       "      <td>7</td>\n",
       "      <td>3.0</td>\n",
       "      <td>1</td>\n",
       "      <td>0</td>\n",
       "      <td>0</td>\n",
       "      <td>0</td>\n",
       "      <td>0</td>\n",
       "      <td>0</td>\n",
       "      <td>0</td>\n",
       "      <td>1</td>\n",
       "      <td>0</td>\n",
       "      <td>0</td>\n",
       "      <td>0</td>\n",
       "      <td>0</td>\n",
       "    </tr>\n",
       "    <tr>\n",
       "      <th>2</th>\n",
       "      <td>8</td>\n",
       "      <td>7</td>\n",
       "      <td>0.0</td>\n",
       "      <td>0</td>\n",
       "      <td>0</td>\n",
       "      <td>0</td>\n",
       "      <td>0</td>\n",
       "      <td>1</td>\n",
       "      <td>1</td>\n",
       "      <td>0</td>\n",
       "      <td>0</td>\n",
       "      <td>0</td>\n",
       "      <td>0</td>\n",
       "      <td>0</td>\n",
       "      <td>0</td>\n",
       "    </tr>\n",
       "    <tr>\n",
       "      <th>3</th>\n",
       "      <td>9</td>\n",
       "      <td>8</td>\n",
       "      <td>2.0</td>\n",
       "      <td>0</td>\n",
       "      <td>0</td>\n",
       "      <td>0</td>\n",
       "      <td>0</td>\n",
       "      <td>1</td>\n",
       "      <td>1</td>\n",
       "      <td>1</td>\n",
       "      <td>0</td>\n",
       "      <td>0</td>\n",
       "      <td>0</td>\n",
       "      <td>2</td>\n",
       "      <td>0</td>\n",
       "    </tr>\n",
       "    <tr>\n",
       "      <th>4</th>\n",
       "      <td>4</td>\n",
       "      <td>5</td>\n",
       "      <td>2.0</td>\n",
       "      <td>1</td>\n",
       "      <td>0</td>\n",
       "      <td>0</td>\n",
       "      <td>0</td>\n",
       "      <td>0</td>\n",
       "      <td>0</td>\n",
       "      <td>0</td>\n",
       "      <td>0</td>\n",
       "      <td>0</td>\n",
       "      <td>0</td>\n",
       "      <td>0</td>\n",
       "      <td>0</td>\n",
       "    </tr>\n",
       "  </tbody>\n",
       "</table>\n",
       "</div>"
      ],
      "text/plain": [
       "   campaign_var_1  campaign_var_2  products_purchased  user_activity_var_1  \\\n",
       "0               2               2                 0.0                    1   \n",
       "1               4               7                 3.0                    1   \n",
       "2               8               7                 0.0                    0   \n",
       "3               9               8                 2.0                    0   \n",
       "4               4               5                 2.0                    1   \n",
       "\n",
       "   user_activity_var_2  user_activity_var_3  user_activity_var_4  \\\n",
       "0                    1                    0                    0   \n",
       "1                    0                    0                    0   \n",
       "2                    0                    0                    0   \n",
       "3                    0                    0                    0   \n",
       "4                    0                    0                    0   \n",
       "\n",
       "   user_activity_var_5  user_activity_var_6  user_activity_var_7  \\\n",
       "0                    0                    1                    0   \n",
       "1                    0                    0                    0   \n",
       "2                    1                    1                    0   \n",
       "3                    1                    1                    1   \n",
       "4                    0                    0                    0   \n",
       "\n",
       "   user_activity_var_8  user_activity_var_9  user_activity_var_10  \\\n",
       "0                    0                    0                     0   \n",
       "1                    1                    0                     0   \n",
       "2                    0                    0                     0   \n",
       "3                    0                    0                     0   \n",
       "4                    0                    0                     0   \n",
       "\n",
       "   user_activity_var_11  user_activity_var_12  \n",
       "0                     1                     0  \n",
       "1                     0                     0  \n",
       "2                     0                     0  \n",
       "3                     2                     0  \n",
       "4                     0                     0  "
      ]
     },
     "execution_count": 288,
     "metadata": {},
     "output_type": "execute_result"
    }
   ],
   "source": [
    "test_df.head()"
   ]
  },
  {
   "cell_type": "code",
   "execution_count": 292,
   "id": "d4cde1c7",
   "metadata": {},
   "outputs": [],
   "source": [
    "test_df['user_activity'] = (test_df['user_activity_var_1']+test_df['user_activity_var_2']+test_df['user_activity_var_3']+test_df['user_activity_var_4']+test_df['user_activity_var_5']+test_df['user_activity_var_6']+test_df['user_activity_var_7']+test_df['user_activity_var_8']+test_df['user_activity_var_9']+test_df['user_activity_var_10']+test_df['user_activity_var_11']+test_df['user_activity_var_12'])/12"
   ]
  },
  {
   "cell_type": "code",
   "execution_count": 293,
   "id": "d339e7ff",
   "metadata": {},
   "outputs": [],
   "source": [
    "test_df['campaign_activity'] = (test_df['campaign_var_1']+test_df['campaign_var_2'])/2"
   ]
  },
  {
   "cell_type": "code",
   "execution_count": 321,
   "id": "1ab1bab2",
   "metadata": {},
   "outputs": [],
   "source": [
    "test_df['user_products'] = (test_df['user_activity']*test_df['products_purchased'])/len(test_df['user_activity'])"
   ]
  },
  {
   "cell_type": "code",
   "execution_count": 294,
   "id": "b42943ae",
   "metadata": {},
   "outputs": [],
   "source": [
    "sub = xgb.predict(test_df)"
   ]
  },
  {
   "cell_type": "code",
   "execution_count": 295,
   "id": "c56a9f10",
   "metadata": {},
   "outputs": [],
   "source": [
    "subs = pd.DataFrame()\n",
    "subs['id'] = test['id']\n",
    "subs['buy'] = sub"
   ]
  },
  {
   "cell_type": "code",
   "execution_count": 296,
   "id": "b287366f",
   "metadata": {},
   "outputs": [],
   "source": [
    "subs.to_csv('subs.csv', index = False)"
   ]
  },
  {
   "cell_type": "code",
   "execution_count": 297,
   "id": "0b2e8014",
   "metadata": {},
   "outputs": [
    {
     "data": {
      "text/html": [
       "<div>\n",
       "<style scoped>\n",
       "    .dataframe tbody tr th:only-of-type {\n",
       "        vertical-align: middle;\n",
       "    }\n",
       "\n",
       "    .dataframe tbody tr th {\n",
       "        vertical-align: top;\n",
       "    }\n",
       "\n",
       "    .dataframe thead th {\n",
       "        text-align: right;\n",
       "    }\n",
       "</style>\n",
       "<table border=\"1\" class=\"dataframe\">\n",
       "  <thead>\n",
       "    <tr style=\"text-align: right;\">\n",
       "      <th></th>\n",
       "      <th>campaign_var_1</th>\n",
       "      <th>campaign_var_2</th>\n",
       "      <th>products_purchased</th>\n",
       "      <th>user_activity_var_1</th>\n",
       "      <th>user_activity_var_2</th>\n",
       "      <th>user_activity_var_3</th>\n",
       "      <th>user_activity_var_4</th>\n",
       "      <th>user_activity_var_5</th>\n",
       "      <th>user_activity_var_6</th>\n",
       "      <th>user_activity_var_7</th>\n",
       "      <th>user_activity_var_8</th>\n",
       "      <th>user_activity_var_9</th>\n",
       "      <th>user_activity_var_10</th>\n",
       "      <th>user_activity_var_11</th>\n",
       "      <th>user_activity_var_12</th>\n",
       "      <th>user_activity</th>\n",
       "      <th>camapign_activity</th>\n",
       "    </tr>\n",
       "  </thead>\n",
       "  <tbody>\n",
       "    <tr>\n",
       "      <th>0</th>\n",
       "      <td>1</td>\n",
       "      <td>2</td>\n",
       "      <td>2.0</td>\n",
       "      <td>0</td>\n",
       "      <td>0</td>\n",
       "      <td>0</td>\n",
       "      <td>0</td>\n",
       "      <td>0</td>\n",
       "      <td>0</td>\n",
       "      <td>1</td>\n",
       "      <td>1</td>\n",
       "      <td>0</td>\n",
       "      <td>0</td>\n",
       "      <td>0</td>\n",
       "      <td>0</td>\n",
       "      <td>0.166667</td>\n",
       "      <td>1.5</td>\n",
       "    </tr>\n",
       "    <tr>\n",
       "      <th>1</th>\n",
       "      <td>2</td>\n",
       "      <td>1</td>\n",
       "      <td>2.0</td>\n",
       "      <td>1</td>\n",
       "      <td>0</td>\n",
       "      <td>1</td>\n",
       "      <td>0</td>\n",
       "      <td>0</td>\n",
       "      <td>0</td>\n",
       "      <td>1</td>\n",
       "      <td>0</td>\n",
       "      <td>0</td>\n",
       "      <td>0</td>\n",
       "      <td>0</td>\n",
       "      <td>0</td>\n",
       "      <td>0.250000</td>\n",
       "      <td>1.5</td>\n",
       "    </tr>\n",
       "    <tr>\n",
       "      <th>2</th>\n",
       "      <td>9</td>\n",
       "      <td>3</td>\n",
       "      <td>3.0</td>\n",
       "      <td>1</td>\n",
       "      <td>0</td>\n",
       "      <td>0</td>\n",
       "      <td>0</td>\n",
       "      <td>0</td>\n",
       "      <td>0</td>\n",
       "      <td>0</td>\n",
       "      <td>0</td>\n",
       "      <td>0</td>\n",
       "      <td>0</td>\n",
       "      <td>0</td>\n",
       "      <td>0</td>\n",
       "      <td>0.083333</td>\n",
       "      <td>6.0</td>\n",
       "    </tr>\n",
       "    <tr>\n",
       "      <th>3</th>\n",
       "      <td>6</td>\n",
       "      <td>7</td>\n",
       "      <td>2.0</td>\n",
       "      <td>0</td>\n",
       "      <td>0</td>\n",
       "      <td>0</td>\n",
       "      <td>0</td>\n",
       "      <td>0</td>\n",
       "      <td>0</td>\n",
       "      <td>0</td>\n",
       "      <td>0</td>\n",
       "      <td>0</td>\n",
       "      <td>0</td>\n",
       "      <td>0</td>\n",
       "      <td>0</td>\n",
       "      <td>0.000000</td>\n",
       "      <td>6.5</td>\n",
       "    </tr>\n",
       "    <tr>\n",
       "      <th>4</th>\n",
       "      <td>4</td>\n",
       "      <td>6</td>\n",
       "      <td>0.0</td>\n",
       "      <td>0</td>\n",
       "      <td>0</td>\n",
       "      <td>0</td>\n",
       "      <td>0</td>\n",
       "      <td>0</td>\n",
       "      <td>0</td>\n",
       "      <td>1</td>\n",
       "      <td>0</td>\n",
       "      <td>0</td>\n",
       "      <td>0</td>\n",
       "      <td>1</td>\n",
       "      <td>0</td>\n",
       "      <td>0.166667</td>\n",
       "      <td>5.0</td>\n",
       "    </tr>\n",
       "  </tbody>\n",
       "</table>\n",
       "</div>"
      ],
      "text/plain": [
       "   campaign_var_1  campaign_var_2  products_purchased  user_activity_var_1  \\\n",
       "0               1               2                 2.0                    0   \n",
       "1               2               1                 2.0                    1   \n",
       "2               9               3                 3.0                    1   \n",
       "3               6               7                 2.0                    0   \n",
       "4               4               6                 0.0                    0   \n",
       "\n",
       "   user_activity_var_2  user_activity_var_3  user_activity_var_4  \\\n",
       "0                    0                    0                    0   \n",
       "1                    0                    1                    0   \n",
       "2                    0                    0                    0   \n",
       "3                    0                    0                    0   \n",
       "4                    0                    0                    0   \n",
       "\n",
       "   user_activity_var_5  user_activity_var_6  user_activity_var_7  \\\n",
       "0                    0                    0                    1   \n",
       "1                    0                    0                    1   \n",
       "2                    0                    0                    0   \n",
       "3                    0                    0                    0   \n",
       "4                    0                    0                    1   \n",
       "\n",
       "   user_activity_var_8  user_activity_var_9  user_activity_var_10  \\\n",
       "0                    1                    0                     0   \n",
       "1                    0                    0                     0   \n",
       "2                    0                    0                     0   \n",
       "3                    0                    0                     0   \n",
       "4                    0                    0                     0   \n",
       "\n",
       "   user_activity_var_11  user_activity_var_12  user_activity  \\\n",
       "0                     0                     0       0.166667   \n",
       "1                     0                     0       0.250000   \n",
       "2                     0                     0       0.083333   \n",
       "3                     0                     0       0.000000   \n",
       "4                     1                     0       0.166667   \n",
       "\n",
       "   camapign_activity  \n",
       "0                1.5  \n",
       "1                1.5  \n",
       "2                6.0  \n",
       "3                6.5  \n",
       "4                5.0  "
      ]
     },
     "execution_count": 297,
     "metadata": {},
     "output_type": "execute_result"
    }
   ],
   "source": [
    "X.head()"
   ]
  },
  {
   "cell_type": "markdown",
   "id": "043a936e",
   "metadata": {},
   "source": [
    "## Auto Hyperparameter Tuning"
   ]
  },
  {
   "cell_type": "code",
   "execution_count": 324,
   "id": "6fc9d179",
   "metadata": {},
   "outputs": [],
   "source": [
    "#classes for grid search and cross-validation, function for splitting data and evaluating models\n",
    "from sklearn.model_selection import GridSearchCV,RandomizedSearchCV,train_test_split\n",
    "from skopt import BayesSearchCV\n",
    "from sklearn.metrics import accuracy_score,f1_score,roc_auc_score,confusion_matrix,roc_curve\n",
    "\n",
    "#XGBoost library\n",
    "import xgboost as xgb\n",
    "\n",
    "#Python standard libraries\n",
    "import time\n",
    "from copy import deepcopy"
   ]
  },
  {
   "cell_type": "code",
   "execution_count": 325,
   "id": "8bc5fa11",
   "metadata": {},
   "outputs": [
    {
     "name": "stdout",
     "output_type": "stream",
     "text": [
      "Fitting 3 folds for each of 1 candidates, totalling 3 fits\n",
      "Wall time: 3.34 s\n"
     ]
    }
   ],
   "source": [
    "%%time\n",
    "\n",
    "X_train, X_test, y_train, y_test = trn_x, tst_x, trn_y, tst_y\n",
    "df_test = test_df\n",
    "#dictionary for collecting results\n",
    "results_dict = {}\n",
    "\n",
    "#obtaining default parameters by calling .fit() to XGBoost model instance\n",
    "xgbc0 = XGBClassifier(objective='binary:logistic',\n",
    "                          booster='gbtree',\n",
    "                          eval_metric='auc',\n",
    "                          tree_method='hist',\n",
    "                          grow_policy='lossguide',\n",
    "                          use_label_encoder=False)\n",
    "xgbc0.fit(X_train , y_train)\n",
    "\n",
    "#extracting default parameters from benchmark model\n",
    "default_params = {}\n",
    "gparams = xgbc0.get_params()\n",
    "\n",
    "#default parameters have to be wrapped in lists - even single values - so GridSearchCV can take them as inputs\n",
    "for key in gparams.keys():\n",
    "    gp = gparams[key]\n",
    "    default_params[key] = [gp]\n",
    "\n",
    "#benchmark model. Grid search is not performed, since only single values are provided as parameter grid.\n",
    "#However, cross-validation is still executed\n",
    "clf0 = GridSearchCV(estimator=xgbc0, scoring='accuracy', param_grid=default_params, return_train_score=True, verbose=1, cv=3)\n",
    "clf0.fit(X_train, y_train.values.ravel())\n",
    "\n",
    "#results dataframe\n",
    "df = pd.DataFrame(clf0.cv_results_)\n",
    "\n",
    "#predictions - inputs to confusion matrix\n",
    "train_predictions = clf0.predict(X_train)\n",
    "test_predictions = clf0.predict(X_test)\n",
    "# unseen_predictions = clf0.predict(df_test.iloc)\n",
    "\n",
    "#confusion matrices\n",
    "cfm_train = confusion_matrix(y_train, train_predictions)\n",
    "cfm_test = confusion_matrix(y_test, test_predictions)\n",
    "# cfm_unseen = confusion_matrix(df_test, unseen_predictions)\n",
    "\n",
    "#accuracy scores\n",
    "accs_train = accuracy_score(y_train, train_predictions)\n",
    "accs_test = accuracy_score(y_test, test_predictions)\n",
    "# accs_unseen = accuracy_score(df_test.iloc, unseen_predictions)\n",
    "\n",
    "#F1 scores for each train/test label\n",
    "f1s_train_p1 = f1_score(y_train, train_predictions, pos_label=1)\n",
    "f1s_train_p0 = f1_score(y_train, train_predictions, pos_label=0)\n",
    "f1s_test_p1 = f1_score(y_test, test_predictions, pos_label=1)\n",
    "f1s_test_p0 = f1_score(y_test, test_predictions, pos_label=0)\n",
    "# f1s_unseen_p1 = f1_score(df_test.iloc[:,:1], unseen_predictions, pos_label=1)\n",
    "# f1s_unseen_p0 = f1_score(df_test.iloc[:,:1], unseen_predictions, pos_label=0)\n",
    "\n",
    "#Area Under the Receiver Operating Characteristic Curve\n",
    "test_ras = roc_auc_score(y_test, clf0.predict_proba(X_test)[:,1])\n",
    "# unseen_ras = roc_auc_score(df_test.iloc[:,:1], clf0.predict_proba(df_test.iloc[:,1:])[:,1])\n",
    "\n",
    "#best parameters\n",
    "bp = clf0.best_params_\n",
    "\n",
    "#storing computed values in results dictionary\n",
    "results_dict['xgbc0'] = {'iterable_parameter': np.nan,\n",
    "                         'classifier': deepcopy(clf0),\n",
    "                         'cv_results': df.copy(),\n",
    "                         'cfm_train': cfm_train,\n",
    "                         'cfm_test': cfm_test,\n",
    "#                          'cfm_unseen': cfm_unseen,\n",
    "                         'train_accuracy': accs_train,\n",
    "                         'test_accuracy': accs_test,\n",
    "#                          'unseen_accuracy': accs_unseen,\n",
    "                         'train F1-score label 1': f1s_train_p1,\n",
    "                         'train F1-score label 0': f1s_train_p0,\n",
    "                         'test F1-score label 1': f1s_test_p1,\n",
    "                         'test F1-score label 0': f1s_test_p0,\n",
    "#                          'unseen F1-score label 1': f1s_unseen_p1,\n",
    "#                          'unseen F1-score label 0': f1s_unseen_p0,\n",
    "                         'test roc auc score': test_ras,\n",
    "#                          'unseen roc auc score': unseen_ras,\n",
    "                         'best_params': bp}"
   ]
  },
  {
   "cell_type": "code",
   "execution_count": 326,
   "id": "f0499a64",
   "metadata": {},
   "outputs": [],
   "source": [
    "#creating deepcopy of default parameters before manipulations\n",
    "params = deepcopy(default_params)\n",
    "\n",
    "#setting grid of selected parameters for iteration\n",
    "param_grid = {'gamma': [0,0.1,0.2,0.4,0.8,1.6,3.2,6.4,12.8,25.6,51.2,102.4, 200],\n",
    "              'learning_rate': [0.01, 0.03, 0.06, 0.1, 0.15, 0.2, 0.25, 0.300000012, 0.4, 0.5, 0.6, 0.7],\n",
    "              'max_depth': [5,6,7,8,9,10,11,12,13,14],\n",
    "              'n_estimators': [50,65,80,100,115,130,150],\n",
    "              'reg_alpha': [0,0.1,0.2,0.4,0.8,1.6,3.2,6.4,12.8,25.6,51.2,102.4,200],\n",
    "              'reg_lambda': [0,0.1,0.2,0.4,0.8,1.6,3.2,6.4,12.8,25.6,51.2,102.4,200]}"
   ]
  },
  {
   "cell_type": "code",
   "execution_count": 327,
   "id": "1928baae",
   "metadata": {},
   "outputs": [
    {
     "name": "stdout",
     "output_type": "stream",
     "text": [
      "Fitting 3 folds for each of 13 candidates, totalling 39 fits\n",
      "iteration #1 finished in: 25.49180006980896 seconds\n",
      "Fitting 3 folds for each of 12 candidates, totalling 36 fits\n",
      "iteration #2 finished in: 21.377805471420288 seconds\n",
      "Fitting 3 folds for each of 10 candidates, totalling 30 fits\n",
      "iteration #3 finished in: 29.75741457939148 seconds\n",
      "Fitting 3 folds for each of 7 candidates, totalling 21 fits\n",
      "iteration #4 finished in: 11.763529539108276 seconds\n",
      "Fitting 3 folds for each of 13 candidates, totalling 39 fits\n",
      "iteration #5 finished in: 13.391172885894775 seconds\n",
      "Fitting 3 folds for each of 13 candidates, totalling 39 fits\n",
      "iteration #6 finished in: 14.751535654067993 seconds\n"
     ]
    }
   ],
   "source": [
    "#start time\n",
    "t0 = time.time()\n",
    "#No. of jobs\n",
    "gcvj = np.cumsum([len(x) for x in param_grid.values()])[-1]\n",
    "\n",
    "#iteration loop. Each selected parameter iterated separately\n",
    "for i,grid_key in enumerate(param_grid.keys()):\n",
    "    \n",
    "    #variable for measuring iteration time\n",
    "    loop_start = time.time()\n",
    "       \n",
    "    #creating param_grid argument for GridSearchCV:\n",
    "    #listing grid values of current iterable parameter and wrapping non-iterable parameter single values in list\n",
    "    for param_key in params.keys():\n",
    "        if param_key == grid_key:\n",
    "            params[param_key] = param_grid[grid_key]\n",
    "        else:\n",
    "            #use best parameters of last iteration\n",
    "            try:\n",
    "                param_value = [clf.best_params_[param_key]]\n",
    "                params[param_key] = param_value\n",
    "            #use benchmark model parameters for first iteration\n",
    "            except:\n",
    "                param_value = [clf0.best_params_[param_key]]\n",
    "                params[param_key] = param_value\n",
    "    \n",
    "    #classifier instance of current iteration\n",
    "    xgbc = xgb.XGBClassifier(**default_params)\n",
    "    \n",
    "    #GridSearch instance of current iteration\n",
    "    clf = GridSearchCV(estimator=xgbc, param_grid=params, scoring='accuracy', return_train_score=True, verbose=1, cv=3)\n",
    "    clf.fit(X_train, y_train.values.ravel())\n",
    "    \n",
    "    #results dataframe\n",
    "    df = pd.DataFrame(clf.cv_results_)\n",
    "    \n",
    "    #predictions - inputs to confusion matrix\n",
    "    train_predictions = clf.predict(X_train)\n",
    "    test_predictions = clf.predict(X_test)\n",
    "#     unseen_predictions = clf.predict(df_test.iloc[:,1:])\n",
    "    \n",
    "    #confusion matrices\n",
    "    cfm_train = confusion_matrix(y_train, train_predictions)\n",
    "    cfm_test = confusion_matrix(y_test, test_predictions)\n",
    "#     cfm_unseen = confusion_matrix(df_test.iloc[:,:1], unseen_predictions)\n",
    "    \n",
    "    #accuracy scores\n",
    "    accs_train = accuracy_score(y_train, train_predictions)\n",
    "    accs_test = accuracy_score(y_test, test_predictions)\n",
    "#     accs_unseen = accuracy_score(df_test.iloc[:,:1], unseen_predictions)\n",
    "    \n",
    "    #F1 scores for each train/test label\n",
    "    f1s_train_p1 = f1_score(y_train, train_predictions, pos_label=1)\n",
    "    f1s_train_p0 = f1_score(y_train, train_predictions, pos_label=0)\n",
    "    f1s_test_p1 = f1_score(y_test, test_predictions, pos_label=1)\n",
    "    f1s_test_p0 = f1_score(y_test, test_predictions, pos_label=0)\n",
    "#     f1s_unseen_p1 = f1_score(df_test.iloc[:,:1], unseen_predictions, pos_label=1)\n",
    "#     f1s_unseen_p0 = f1_score(df_test.iloc[:,:1], unseen_predictions, pos_label=0)\n",
    "    \n",
    "    #Area Under the Receiver Operating Characteristic Curve\n",
    "    test_ras = roc_auc_score(y_test, clf.predict_proba(X_test)[:,1])\n",
    "#     unseen_ras = roc_auc_score(df_test.iloc[:,:1], clf.predict_proba(df_test.iloc[:,1:])[:,1])\n",
    "    \n",
    "    #best parameters\n",
    "    bp = clf.best_params_\n",
    "    \n",
    "    #storing computed values in results dictionary\n",
    "    results_dict[f'xgbc{i+1}'] = {'iterable_parameter': grid_key,\n",
    "                                  'classifier': deepcopy(clf),\n",
    "                                  'cv_results': df.copy(),\n",
    "                                  'cfm_train': cfm_train,\n",
    "                                  'cfm_test': cfm_test,\n",
    "#                                   'cfm_unseen': cfm_unseen,\n",
    "                                  'train_accuracy': accs_train,\n",
    "                                  'test_accuracy': accs_test,\n",
    "#                                   'unseen_accuracy': accs_unseen,\n",
    "                                  'train F1-score label 1': f1s_train_p1,\n",
    "                                  'train F1-score label 0': f1s_train_p0,\n",
    "                                  'test F1-score label 1': f1s_test_p1,\n",
    "                                  'test F1-score label 0': f1s_test_p0,\n",
    "#                                   'unseen F1-score label 1': f1s_unseen_p1,\n",
    "#                                   'unseen F1-score label 0': f1s_unseen_p0,\n",
    "                                  'test roc auc score': test_ras,\n",
    "#                                   'unseen roc auc score': unseen_ras,\n",
    "                                  'best_params': bp}\n",
    "    \n",
    "    #variable for measuring iteration time\n",
    "    elapsed_time = time.time() - loop_start\n",
    "    print(f'iteration #{i+1} finished in: {elapsed_time} seconds')\n",
    "\n",
    "#stop time\n",
    "t1 = time.time()\n",
    "\n",
    "#elapsed time\n",
    "gcvt = t1 - t0"
   ]
  },
  {
   "cell_type": "code",
   "execution_count": 328,
   "id": "94fa629b",
   "metadata": {},
   "outputs": [
    {
     "data": {
      "image/png": "[encoded data removed]",
      "text/plain": [
       "<Figure size 1296x4032 with 21 Axes>"
      ]
     },
     "metadata": {
      "needs_background": "light"
     },
     "output_type": "display_data"
    }
   ],
   "source": [
    "#number of rows depend on number of iterations\n",
    "nrows = len(results_dict.keys())\n",
    "\n",
    "#standard group names for confusion matrices\n",
    "group_names = ['True Neg','False Pos','False Neg','True Pos']\n",
    "\n",
    "#creating figure\n",
    "f, axes = plt.subplots(nrows,2,figsize=(18,8*nrows));\n",
    "\n",
    "#iteratively plotting train/test accuracy scores and test confusion matrix\n",
    "for i,ax in enumerate(axes):\n",
    "    \n",
    "    #current key of results dictionary\n",
    "    ckey = list(results_dict.keys())[i] \n",
    "    \n",
    "    #plotting scores for models other than the benchark model\n",
    "    if ckey != 'xgbc0':\n",
    "        x1 = results_dict[ckey]['cv_results'].loc[:,'mean_train_score']\n",
    "        x2 = results_dict[ckey]['cv_results'].loc[:,'mean_test_score']\n",
    "        \n",
    "        ax[0].plot(x1, label='train scores', color='blue');\n",
    "        ax[0].plot(x2, label='test scores', color='red');\n",
    "        ax[0].set_title(f'Iteration #{i+1} results');\n",
    "               \n",
    "        ax[0].set_xticks(list(range(0,len([x[results_dict[ckey]['iterable_parameter']] for x in results_dict[ckey]['cv_results']['params']]))));\n",
    "        ax[0].set_xticklabels(sorted([x[results_dict[ckey]['iterable_parameter']] for x in results_dict[ckey]['cv_results']['params']]));\n",
    "    \n",
    "        ax[0].grid('major');\n",
    "        ax[0].legend();\n",
    "        ax[0].set_xlabel(results_dict[ckey]['iterable_parameter'])\n",
    "        ax[0].set_ylabel('mean score');\n",
    "    \n",
    "    #leaving scores plot blank for benchmark model\n",
    "    else:\n",
    "        ax[0].axis('off')\n",
    "        ax[0].text(x=0.5, y=0.5, s='No iteration has been performed', fontsize=16, va='center', ha='center')\n",
    "    \n",
    "    #computing variables for specific confusion matrix\n",
    "    group_counts = [\"{0:0.0f}\".format(value) for value in results_dict[ckey]['cfm_test'].flatten()]\n",
    "    group_percentages = [\"{0:.2%}\".format(value) for value in results_dict[ckey]['cfm_test'].flatten()/np.sum(results_dict[ckey]['cfm_test'])]\n",
    "    labels = [f\"{v1}\\n{v2}\\n{v3}\" for v1, v2, v3 in zip(group_names,group_counts,group_percentages)]\n",
    "    labels = np.asarray(labels).reshape(2,2)\n",
    "    \n",
    "    #plotting confusion matrix\n",
    "    sns.heatmap(results_dict[ckey]['cfm_test'], annot=labels, fmt='', cmap='Blues', ax=ax[1])\n",
    "    \n",
    "plt.show();"
   ]
  },
  {
   "cell_type": "code",
   "execution_count": 329,
   "id": "5f5ad99a",
   "metadata": {},
   "outputs": [
    {
     "data": {
      "image/png": "[encoded data removed]",
      "text/plain": [
       "<Figure size 1296x432 with 2 Axes>"
      ]
     },
     "metadata": {
      "needs_background": "light"
     },
     "output_type": "display_data"
    }
   ],
   "source": [
    "f, axes = plt.subplots(1,2,figsize=(18,6));\n",
    "\n",
    "#plotting evolution of train/test accuracy scores for subsequent iterations\n",
    "axes[0].plot([results_dict[key]['train_accuracy'] for key in results_dict.keys()], label='train accuracy evolution', color='blue');\n",
    "axes[0].plot([results_dict[key]['test_accuracy'] for key in results_dict.keys()], label='test accuracy evolution', color='red');\n",
    "\n",
    "#setting labels, drawing legend and major grid\n",
    "axes[0].set_xlabel('iteration #');\n",
    "axes[0].set_ylabel('accuracy');\n",
    "axes[0].legend();\n",
    "axes[0].grid('major');\n",
    "\n",
    "#plotting evolution of test ROC AUC scores for subsequent iterations\n",
    "axes[1].plot([results_dict[key]['test roc auc score'] for key in results_dict.keys()], label='ROC AUC score evolution', color='red');\n",
    "\n",
    "#setting labels, drawing legend and major grid\n",
    "axes[1].set_xlabel('iteration #');\n",
    "axes[1].set_ylabel('ROC AUC score');\n",
    "axes[1].legend();\n",
    "axes[1].grid('major');\n",
    "\n",
    "plt.show();"
   ]
  },
  {
   "cell_type": "code",
   "execution_count": 330,
   "id": "8cc2f6cf",
   "metadata": {},
   "outputs": [
    {
     "data": {
      "image/png": "[encoded data removed]",
      "text/plain": [
       "<Figure size 1296x1296 with 1 Axes>"
      ]
     },
     "metadata": {
      "needs_background": "light"
     },
     "output_type": "display_data"
    }
   ],
   "source": [
    "#plotting feature importance\n",
    "f, ax = plt.subplots(figsize=(18,18));\n",
    "xgb.plot_importance(clf.best_estimator_, ax=ax);"
   ]
  },
  {
   "cell_type": "markdown",
   "id": "7e217f5b",
   "metadata": {},
   "source": [
    "### Randomised Search"
   ]
  },
  {
   "cell_type": "code",
   "execution_count": 331,
   "id": "83edec77",
   "metadata": {},
   "outputs": [
    {
     "name": "stdout",
     "output_type": "stream",
     "text": [
      "Fitting 3 folds for each of 68 candidates, totalling 204 fits\n",
      "Wall time: 2min 46s\n"
     ]
    }
   ],
   "source": [
    "%%time\n",
    "\n",
    "#start time\n",
    "t0 = time.time()\n",
    "\n",
    "#No. of jobs\n",
    "rcvj = gcvj\n",
    "\n",
    "#unwrapping list values of default parameters\n",
    "default_params_xgb = {}\n",
    "\n",
    "for key in default_params.keys():\n",
    "    default_params_xgb[key] = default_params[key][0]\n",
    "\n",
    "#providing default parameters to xgbc model, before randomized search cross-validation\n",
    "xgbc = xgb.XGBClassifier(**default_params_xgb)\n",
    "\n",
    "#Executing Randomized Search\n",
    "clf = RandomizedSearchCV(estimator=xgbc, param_distributions=param_grid, scoring='accuracy', return_train_score=True, verbose=1, cv=3, n_iter=rcvj)\n",
    "clf.fit(X_train, y_train.values.ravel())\n",
    "    \n",
    "#results dataframe\n",
    "df = pd.DataFrame(clf.cv_results_)\n",
    "    \n",
    "#predictions - inputs to confusion matrix\n",
    "train_predictions = clf.predict(X_train)\n",
    "test_predictions = clf.predict(X_test)\n",
    "# unseen_predictions = clf.predict(df_test.iloc[:,1:])\n",
    "    \n",
    "#confusion matrices\n",
    "cfm_train = confusion_matrix(y_train, train_predictions)\n",
    "cfm_test = confusion_matrix(y_test, test_predictions)\n",
    "# cfm_unseen = confusion_matrix(df_test.iloc[:,:1], unseen_predictions)\n",
    "    \n",
    "#accuracy scores\n",
    "accs_train = accuracy_score(y_train, train_predictions)\n",
    "accs_test = accuracy_score(y_test, test_predictions)\n",
    "# accs_unseen = accuracy_score(df_test.iloc[:,:1], unseen_predictions)\n",
    "    \n",
    "#F1 scores for each train/test label\n",
    "f1s_train_p1 = f1_score(y_train, train_predictions, pos_label=1)\n",
    "f1s_train_p0 = f1_score(y_train, train_predictions, pos_label=0)\n",
    "f1s_test_p1 = f1_score(y_test, test_predictions, pos_label=1)\n",
    "f1s_test_p0 = f1_score(y_test, test_predictions, pos_label=0)\n",
    "# f1s_unseen_p1 = f1_score(df_test.iloc[:,:1], unseen_predictions, pos_label=1)\n",
    "# f1s_unseen_p0 = f1_score(df_test.iloc[:,:1], unseen_predictions, pos_label=0)\n",
    "    \n",
    "#Area Under the Receiver Operating Characteristic Curve\n",
    "test_ras = roc_auc_score(y_test, clf.predict_proba(X_test)[:,1])\n",
    "# unseen_ras = roc_auc_score(df_test.iloc[:,:1], clf.predict_proba(df_test.iloc[:,1:])[:,1])\n",
    "    \n",
    "#best parameters\n",
    "bp = clf.best_params_\n",
    "    \n",
    "#storing computed values in results dictionary\n",
    "results_dict['xgbc_rcv'] = {'classifier': deepcopy(clf),\n",
    "                            'cv_results': df.copy(),\n",
    "                            'cfm_train': cfm_train,\n",
    "                            'cfm_test': cfm_test,\n",
    "#                             'cfm_unseen': cfm_unseen,\n",
    "                            'train_accuracy': accs_train,\n",
    "                            'test_accuracy': accs_test,\n",
    "#                             'unseen_accuracy': accs_unseen,\n",
    "                            'train F1-score label 1': f1s_train_p1,\n",
    "                            'train F1-score label 0': f1s_train_p0,\n",
    "                            'test F1-score label 1': f1s_test_p1,\n",
    "                            'test F1-score label 0': f1s_test_p0,\n",
    "#                             'unseen F1-score label 1': f1s_unseen_p1,\n",
    "#                             'unseen F1-score label 0': f1s_unseen_p0,\n",
    "                            'test roc auc score': test_ras,\n",
    "#                             'unseen roc auc score': unseen_ras,\n",
    "                            'best_params': bp}\n",
    "\n",
    "#stop time\n",
    "t1 = time.time()\n",
    "\n",
    "#elapsed time\n",
    "rcvt = t1 - t0"
   ]
  },
  {
   "cell_type": "code",
   "execution_count": 332,
   "id": "73a9c313",
   "metadata": {},
   "outputs": [
    {
     "name": "stdout",
     "output_type": "stream",
     "text": [
      "Fitting 3 folds for each of 1 candidates, totalling 3 fits\n",
      "[CV 1/3] END gamma=3.2, learning_rate=0.4, max_depth=6, n_estimators=100, reg_alpha=0.2, reg_lambda=1.6;, score=(train=0.961, test=0.961) total time=   0.5s\n",
      "[CV 2/3] END gamma=3.2, learning_rate=0.4, max_depth=6, n_estimators=100, reg_alpha=0.2, reg_lambda=1.6;, score=(train=0.963, test=0.954) total time=   0.8s\n",
      "[CV 3/3] END gamma=3.2, learning_rate=0.4, max_depth=6, n_estimators=100, reg_alpha=0.2, reg_lambda=1.6;, score=(train=0.961, test=0.961) total time=   0.5s\n",
      "Fitting 3 folds for each of 1 candidates, totalling 3 fits\n",
      "[CV 1/3] END gamma=102.4, learning_rate=0.4, max_depth=12, n_estimators=80, reg_alpha=102.4, reg_lambda=51.2;, score=(train=0.917, test=0.917) total time=   0.6s\n",
      "[CV 2/3] END gamma=102.4, learning_rate=0.4, max_depth=12, n_estimators=80, reg_alpha=102.4, reg_lambda=51.2;, score=(train=0.917, test=0.917) total time=   0.6s\n",
      "[CV 3/3] END gamma=102.4, learning_rate=0.4, max_depth=12, n_estimators=80, reg_alpha=102.4, reg_lambda=51.2;, score=(train=0.917, test=0.917) total time=   0.5s\n",
      "Fitting 3 folds for each of 1 candidates, totalling 3 fits\n",
      "[CV 1/3] END gamma=0.0, learning_rate=0.5, max_depth=8, n_estimators=130, reg_alpha=0.2, reg_lambda=0.1;, score=(train=0.983, test=0.949) total time=   2.1s\n",
      "[CV 2/3] END gamma=0.0, learning_rate=0.5, max_depth=8, n_estimators=130, reg_alpha=0.2, reg_lambda=0.1;, score=(train=0.984, test=0.946) total time=   1.2s\n",
      "[CV 3/3] END gamma=0.0, learning_rate=0.5, max_depth=8, n_estimators=130, reg_alpha=0.2, reg_lambda=0.1;, score=(train=0.982, test=0.952) total time=   1.4s\n",
      "Fitting 3 folds for each of 1 candidates, totalling 3 fits\n",
      "[CV 1/3] END gamma=0.2, learning_rate=0.4, max_depth=11, n_estimators=80, reg_alpha=0.2, reg_lambda=0.0;, score=(train=0.982, test=0.952) total time=   1.2s\n",
      "[CV 2/3] END gamma=0.2, learning_rate=0.4, max_depth=11, n_estimators=80, reg_alpha=0.2, reg_lambda=0.0;, score=(train=0.983, test=0.946) total time=   2.1s\n",
      "[CV 3/3] END gamma=0.2, learning_rate=0.4, max_depth=11, n_estimators=80, reg_alpha=0.2, reg_lambda=0.0;, score=(train=0.982, test=0.952) total time=   1.6s\n",
      "Fitting 3 folds for each of 1 candidates, totalling 3 fits\n",
      "[CV 1/3] END gamma=25.6, learning_rate=0.7, max_depth=13, n_estimators=130, reg_alpha=0.8, reg_lambda=51.2;, score=(train=0.957, test=0.957) total time=   2.0s\n",
      "[CV 2/3] END gamma=25.6, learning_rate=0.7, max_depth=13, n_estimators=130, reg_alpha=0.8, reg_lambda=51.2;, score=(train=0.960, test=0.954) total time=   1.8s\n",
      "[CV 3/3] END gamma=25.6, learning_rate=0.7, max_depth=13, n_estimators=130, reg_alpha=0.8, reg_lambda=51.2;, score=(train=0.956, test=0.960) total time=   1.3s\n",
      "Fitting 3 folds for each of 1 candidates, totalling 3 fits\n",
      "[CV 1/3] END gamma=0.1, learning_rate=0.4, max_depth=7, n_estimators=100, reg_alpha=3.2, reg_lambda=0.1;, score=(train=0.963, test=0.961) total time=   0.7s\n",
      "[CV 2/3] END gamma=0.1, learning_rate=0.4, max_depth=7, n_estimators=100, reg_alpha=3.2, reg_lambda=0.1;, score=(train=0.967, test=0.954) total time=   0.8s\n",
      "[CV 3/3] END gamma=0.1, learning_rate=0.4, max_depth=7, n_estimators=100, reg_alpha=3.2, reg_lambda=0.1;, score=(train=0.963, test=0.961) total time=   0.5s\n",
      "Fitting 3 folds for each of 1 candidates, totalling 3 fits\n",
      "[CV 1/3] END gamma=12.8, learning_rate=0.300000012, max_depth=14, n_estimators=80, reg_alpha=6.4, reg_lambda=1.6;, score=(train=0.959, test=0.960) total time=   0.7s\n",
      "[CV 2/3] END gamma=12.8, learning_rate=0.300000012, max_depth=14, n_estimators=80, reg_alpha=6.4, reg_lambda=1.6;, score=(train=0.962, test=0.956) total time=   0.7s\n",
      "[CV 3/3] END gamma=12.8, learning_rate=0.300000012, max_depth=14, n_estimators=80, reg_alpha=6.4, reg_lambda=1.6;, score=(train=0.959, test=0.961) total time=   0.6s\n",
      "Fitting 3 folds for each of 1 candidates, totalling 3 fits\n",
      "[CV 1/3] END gamma=0.0, learning_rate=0.01, max_depth=10, n_estimators=50, reg_alpha=0.0, reg_lambda=51.2;, score=(train=0.960, test=0.960) total time=   0.2s\n",
      "[CV 2/3] END gamma=0.0, learning_rate=0.01, max_depth=10, n_estimators=50, reg_alpha=0.0, reg_lambda=51.2;, score=(train=0.962, test=0.957) total time=   0.4s\n",
      "[CV 3/3] END gamma=0.0, learning_rate=0.01, max_depth=10, n_estimators=50, reg_alpha=0.0, reg_lambda=51.2;, score=(train=0.959, test=0.961) total time=   0.2s\n",
      "Fitting 3 folds for each of 1 candidates, totalling 3 fits\n",
      "[CV 1/3] END gamma=0.1, learning_rate=0.1, max_depth=10, n_estimators=130, reg_alpha=1.6, reg_lambda=3.2;, score=(train=0.964, test=0.962) total time=   2.8s\n",
      "[CV 2/3] END gamma=0.1, learning_rate=0.1, max_depth=10, n_estimators=130, reg_alpha=1.6, reg_lambda=3.2;, score=(train=0.967, test=0.954) total time=   1.6s\n",
      "[CV 3/3] END gamma=0.1, learning_rate=0.1, max_depth=10, n_estimators=130, reg_alpha=1.6, reg_lambda=3.2;, score=(train=0.965, test=0.961) total time=   1.2s\n",
      "Fitting 3 folds for each of 1 candidates, totalling 3 fits\n",
      "[CV 1/3] END gamma=0.8, learning_rate=0.5, max_depth=13, n_estimators=100, reg_alpha=0.0, reg_lambda=12.8;, score=(train=0.964, test=0.961) total time=   1.3s\n",
      "[CV 2/3] END gamma=0.8, learning_rate=0.5, max_depth=13, n_estimators=100, reg_alpha=0.0, reg_lambda=12.8;, score=(train=0.968, test=0.954) total time=   1.0s\n",
      "[CV 3/3] END gamma=0.8, learning_rate=0.5, max_depth=13, n_estimators=100, reg_alpha=0.0, reg_lambda=12.8;, score=(train=0.963, test=0.961) total time=   0.8s\n",
      "Fitting 3 folds for each of 1 candidates, totalling 3 fits\n",
      "[CV 1/3] END gamma=102.4, learning_rate=0.15, max_depth=11, n_estimators=100, reg_alpha=200.0, reg_lambda=12.8;, score=(train=0.917, test=0.917) total time=   0.4s\n",
      "[CV 2/3] END gamma=102.4, learning_rate=0.15, max_depth=11, n_estimators=100, reg_alpha=200.0, reg_lambda=12.8;, score=(train=0.917, test=0.917) total time=   0.4s\n",
      "[CV 3/3] END gamma=102.4, learning_rate=0.15, max_depth=11, n_estimators=100, reg_alpha=200.0, reg_lambda=12.8;, score=(train=0.917, test=0.917) total time=   0.4s\n",
      "Fitting 3 folds for each of 1 candidates, totalling 3 fits\n",
      "[CV 1/3] END gamma=51.2, learning_rate=0.7, max_depth=8, n_estimators=115, reg_alpha=0.4, reg_lambda=200.0;, score=(train=0.948, test=0.948) total time=   0.8s\n",
      "[CV 2/3] END gamma=51.2, learning_rate=0.7, max_depth=8, n_estimators=115, reg_alpha=0.4, reg_lambda=200.0;, score=(train=0.953, test=0.950) total time=   0.6s\n",
      "[CV 3/3] END gamma=51.2, learning_rate=0.7, max_depth=8, n_estimators=115, reg_alpha=0.4, reg_lambda=200.0;, score=(train=0.948, test=0.951) total time=   0.8s\n",
      "Fitting 3 folds for each of 1 candidates, totalling 3 fits\n",
      "[CV 1/3] END gamma=6.4, learning_rate=0.03, max_depth=6, n_estimators=80, reg_alpha=200.0, reg_lambda=0.2;, score=(train=0.917, test=0.917) total time=   0.4s\n",
      "[CV 2/3] END gamma=6.4, learning_rate=0.03, max_depth=6, n_estimators=80, reg_alpha=200.0, reg_lambda=0.2;, score=(train=0.917, test=0.917) total time=   0.3s\n",
      "[CV 3/3] END gamma=6.4, learning_rate=0.03, max_depth=6, n_estimators=80, reg_alpha=200.0, reg_lambda=0.2;, score=(train=0.917, test=0.917) total time=   0.5s\n",
      "Fitting 3 folds for each of 1 candidates, totalling 3 fits\n",
      "[CV 1/3] END gamma=0.1, learning_rate=0.7, max_depth=11, n_estimators=115, reg_alpha=51.2, reg_lambda=6.4;, score=(train=0.959, test=0.960) total time=   0.3s\n",
      "[CV 2/3] END gamma=0.1, learning_rate=0.7, max_depth=11, n_estimators=115, reg_alpha=51.2, reg_lambda=6.4;, score=(train=0.960, test=0.955) total time=   0.3s\n",
      "[CV 3/3] END gamma=0.1, learning_rate=0.7, max_depth=11, n_estimators=115, reg_alpha=51.2, reg_lambda=6.4;, score=(train=0.958, test=0.962) total time=   0.3s\n",
      "Fitting 3 folds for each of 1 candidates, totalling 3 fits\n",
      "[CV 1/3] END gamma=1.6, learning_rate=0.15, max_depth=14, n_estimators=50, reg_alpha=0.0, reg_lambda=51.2;, score=(train=0.959, test=0.961) total time=   0.5s\n",
      "[CV 2/3] END gamma=1.6, learning_rate=0.15, max_depth=14, n_estimators=50, reg_alpha=0.0, reg_lambda=51.2;, score=(train=0.962, test=0.955) total time=   0.4s\n",
      "[CV 3/3] END gamma=1.6, learning_rate=0.15, max_depth=14, n_estimators=50, reg_alpha=0.0, reg_lambda=51.2;, score=(train=0.959, test=0.962) total time=   0.6s\n",
      "Fitting 3 folds for each of 1 candidates, totalling 3 fits\n",
      "[CV 1/3] END gamma=12.8, learning_rate=0.25, max_depth=10, n_estimators=65, reg_alpha=25.6, reg_lambda=0.8;, score=(train=0.958, test=0.958) total time=   0.4s\n"
     ]
    },
    {
     "name": "stdout",
     "output_type": "stream",
     "text": [
      "[CV 2/3] END gamma=12.8, learning_rate=0.25, max_depth=10, n_estimators=65, reg_alpha=25.6, reg_lambda=0.8;, score=(train=0.961, test=0.956) total time=   0.6s\n",
      "[CV 3/3] END gamma=12.8, learning_rate=0.25, max_depth=10, n_estimators=65, reg_alpha=25.6, reg_lambda=0.8;, score=(train=0.958, test=0.962) total time=   0.3s\n",
      "Fitting 3 folds for each of 1 candidates, totalling 3 fits\n",
      "[CV 1/3] END gamma=200.0, learning_rate=0.1, max_depth=11, n_estimators=80, reg_alpha=0.1, reg_lambda=3.2;, score=(train=0.936, test=0.936) total time=   0.9s\n",
      "[CV 2/3] END gamma=200.0, learning_rate=0.1, max_depth=11, n_estimators=80, reg_alpha=0.1, reg_lambda=3.2;, score=(train=0.939, test=0.937) total time=   1.0s\n",
      "[CV 3/3] END gamma=200.0, learning_rate=0.1, max_depth=11, n_estimators=80, reg_alpha=0.1, reg_lambda=3.2;, score=(train=0.936, test=0.937) total time=   0.7s\n",
      "Fitting 3 folds for each of 1 candidates, totalling 3 fits\n",
      "[CV 1/3] END gamma=102.4, learning_rate=0.25, max_depth=6, n_estimators=50, reg_alpha=12.8, reg_lambda=1.6;, score=(train=0.950, test=0.949) total time=   0.4s\n",
      "[CV 2/3] END gamma=102.4, learning_rate=0.25, max_depth=6, n_estimators=50, reg_alpha=12.8, reg_lambda=1.6;, score=(train=0.951, test=0.948) total time=   0.3s\n",
      "[CV 3/3] END gamma=102.4, learning_rate=0.25, max_depth=6, n_estimators=50, reg_alpha=12.8, reg_lambda=1.6;, score=(train=0.947, test=0.948) total time=   0.3s\n",
      "Fitting 3 folds for each of 1 candidates, totalling 3 fits\n",
      "[CV 1/3] END gamma=51.2, learning_rate=0.15, max_depth=13, n_estimators=130, reg_alpha=6.4, reg_lambda=25.6;, score=(train=0.953, test=0.952) total time=   1.1s\n",
      "[CV 2/3] END gamma=51.2, learning_rate=0.15, max_depth=13, n_estimators=130, reg_alpha=6.4, reg_lambda=25.6;, score=(train=0.956, test=0.951) total time=   1.4s\n",
      "[CV 3/3] END gamma=51.2, learning_rate=0.15, max_depth=13, n_estimators=130, reg_alpha=6.4, reg_lambda=25.6;, score=(train=0.951, test=0.955) total time=   1.1s\n",
      "Fitting 3 folds for each of 1 candidates, totalling 3 fits\n",
      "[CV 1/3] END gamma=102.4, learning_rate=0.15, max_depth=13, n_estimators=80, reg_alpha=51.2, reg_lambda=0.1;, score=(train=0.932, test=0.933) total time=   0.5s\n",
      "[CV 2/3] END gamma=102.4, learning_rate=0.15, max_depth=13, n_estimators=80, reg_alpha=51.2, reg_lambda=0.1;, score=(train=0.938, test=0.937) total time=   0.3s\n",
      "[CV 3/3] END gamma=102.4, learning_rate=0.15, max_depth=13, n_estimators=80, reg_alpha=51.2, reg_lambda=0.1;, score=(train=0.931, test=0.930) total time=   0.5s\n",
      "Fitting 3 folds for each of 1 candidates, totalling 3 fits\n",
      "[CV 1/3] END gamma=0.1, learning_rate=0.6, max_depth=13, n_estimators=65, reg_alpha=0.8, reg_lambda=25.6;, score=(train=0.966, test=0.961) total time=   1.0s\n",
      "[CV 2/3] END gamma=0.1, learning_rate=0.6, max_depth=13, n_estimators=65, reg_alpha=0.8, reg_lambda=25.6;, score=(train=0.969, test=0.955) total time=   0.7s\n",
      "[CV 3/3] END gamma=0.1, learning_rate=0.6, max_depth=13, n_estimators=65, reg_alpha=0.8, reg_lambda=25.6;, score=(train=0.967, test=0.960) total time=   0.6s\n",
      "Fitting 3 folds for each of 1 candidates, totalling 3 fits\n",
      "[CV 1/3] END gamma=0.1, learning_rate=0.2, max_depth=9, n_estimators=80, reg_alpha=0.2, reg_lambda=12.8;, score=(train=0.963, test=0.961) total time=   0.5s\n",
      "[CV 2/3] END gamma=0.1, learning_rate=0.2, max_depth=9, n_estimators=80, reg_alpha=0.2, reg_lambda=12.8;, score=(train=0.966, test=0.954) total time=   0.5s\n",
      "[CV 3/3] END gamma=0.1, learning_rate=0.2, max_depth=9, n_estimators=80, reg_alpha=0.2, reg_lambda=12.8;, score=(train=0.963, test=0.962) total time=   0.5s\n",
      "Fitting 3 folds for each of 1 candidates, totalling 3 fits\n",
      "[CV 1/3] END gamma=1.6, learning_rate=0.01, max_depth=8, n_estimators=130, reg_alpha=1.6, reg_lambda=1.6;, score=(train=0.959, test=0.960) total time=   0.5s\n",
      "[CV 2/3] END gamma=1.6, learning_rate=0.01, max_depth=8, n_estimators=130, reg_alpha=1.6, reg_lambda=1.6;, score=(train=0.962, test=0.956) total time=   0.6s\n",
      "[CV 3/3] END gamma=1.6, learning_rate=0.01, max_depth=8, n_estimators=130, reg_alpha=1.6, reg_lambda=1.6;, score=(train=0.959, test=0.961) total time=   0.5s\n",
      "Fitting 3 folds for each of 1 candidates, totalling 3 fits\n",
      "[CV 1/3] END gamma=0.4, learning_rate=0.1, max_depth=8, n_estimators=80, reg_alpha=12.8, reg_lambda=12.8;, score=(train=0.960, test=0.961) total time=   0.3s\n",
      "[CV 2/3] END gamma=0.4, learning_rate=0.1, max_depth=8, n_estimators=80, reg_alpha=12.8, reg_lambda=12.8;, score=(train=0.962, test=0.955) total time=   0.3s\n",
      "[CV 3/3] END gamma=0.4, learning_rate=0.1, max_depth=8, n_estimators=80, reg_alpha=12.8, reg_lambda=12.8;, score=(train=0.959, test=0.961) total time=   0.3s\n",
      "Fitting 3 folds for each of 1 candidates, totalling 3 fits\n",
      "[CV 1/3] END gamma=0.4, learning_rate=0.03, max_depth=12, n_estimators=115, reg_alpha=0.2, reg_lambda=6.4;, score=(train=0.962, test=0.961) total time=   0.8s\n",
      "[CV 2/3] END gamma=0.4, learning_rate=0.03, max_depth=12, n_estimators=115, reg_alpha=0.2, reg_lambda=6.4;, score=(train=0.965, test=0.955) total time=   0.9s\n",
      "[CV 3/3] END gamma=0.4, learning_rate=0.03, max_depth=12, n_estimators=115, reg_alpha=0.2, reg_lambda=6.4;, score=(train=0.962, test=0.962) total time=   0.8s\n",
      "Fitting 3 folds for each of 1 candidates, totalling 3 fits\n",
      "[CV 1/3] END gamma=3.2, learning_rate=0.25, max_depth=11, n_estimators=115, reg_alpha=1.6, reg_lambda=200.0;, score=(train=0.960, test=0.961) total time=   0.6s\n",
      "[CV 2/3] END gamma=3.2, learning_rate=0.25, max_depth=11, n_estimators=115, reg_alpha=1.6, reg_lambda=200.0;, score=(train=0.962, test=0.956) total time=   0.6s\n",
      "[CV 3/3] END gamma=3.2, learning_rate=0.25, max_depth=11, n_estimators=115, reg_alpha=1.6, reg_lambda=200.0;, score=(train=0.959, test=0.962) total time=   0.7s\n",
      "Fitting 3 folds for each of 1 candidates, totalling 3 fits\n",
      "[CV 1/3] END gamma=3.2, learning_rate=0.300000012, max_depth=13, n_estimators=80, reg_alpha=12.8, reg_lambda=6.4;, score=(train=0.959, test=0.961) total time=   0.3s\n",
      "[CV 2/3] END gamma=3.2, learning_rate=0.300000012, max_depth=13, n_estimators=80, reg_alpha=12.8, reg_lambda=6.4;, score=(train=0.962, test=0.956) total time=   0.4s\n",
      "[CV 3/3] END gamma=3.2, learning_rate=0.300000012, max_depth=13, n_estimators=80, reg_alpha=12.8, reg_lambda=6.4;, score=(train=0.959, test=0.962) total time=   0.3s\n",
      "Fitting 3 folds for each of 1 candidates, totalling 3 fits\n",
      "[CV 1/3] END gamma=3.2, learning_rate=0.6, max_depth=7, n_estimators=150, reg_alpha=0.0, reg_lambda=0.1;, score=(train=0.962, test=0.961) total time=   0.6s\n",
      "[CV 2/3] END gamma=3.2, learning_rate=0.6, max_depth=7, n_estimators=150, reg_alpha=0.0, reg_lambda=0.1;, score=(train=0.966, test=0.953) total time=   0.6s\n",
      "[CV 3/3] END gamma=3.2, learning_rate=0.6, max_depth=7, n_estimators=150, reg_alpha=0.0, reg_lambda=0.1;, score=(train=0.963, test=0.962) total time=   0.9s\n",
      "Fitting 3 folds for each of 1 candidates, totalling 3 fits\n",
      "[CV 1/3] END gamma=0.8, learning_rate=0.01, max_depth=7, n_estimators=150, reg_alpha=102.4, reg_lambda=6.4;, score=(train=0.947, test=0.949) total time=   0.4s\n",
      "[CV 2/3] END gamma=0.8, learning_rate=0.01, max_depth=7, n_estimators=150, reg_alpha=102.4, reg_lambda=6.4;, score=(train=0.949, test=0.946) total time=   0.4s\n",
      "[CV 3/3] END gamma=0.8, learning_rate=0.01, max_depth=7, n_estimators=150, reg_alpha=102.4, reg_lambda=6.4;, score=(train=0.948, test=0.948) total time=   0.4s\n",
      "Fitting 3 folds for each of 1 candidates, totalling 3 fits\n",
      "[CV 1/3] END gamma=0.4, learning_rate=0.6, max_depth=7, n_estimators=100, reg_alpha=1.6, reg_lambda=0.2;, score=(train=0.968, test=0.960) total time=   0.5s\n",
      "[CV 2/3] END gamma=0.4, learning_rate=0.6, max_depth=7, n_estimators=100, reg_alpha=1.6, reg_lambda=0.2;, score=(train=0.968, test=0.955) total time=   0.4s\n",
      "[CV 3/3] END gamma=0.4, learning_rate=0.6, max_depth=7, n_estimators=100, reg_alpha=1.6, reg_lambda=0.2;, score=(train=0.968, test=0.959) total time=   0.6s\n",
      "Fitting 3 folds for each of 1 candidates, totalling 3 fits\n",
      "[CV 1/3] END gamma=1.6, learning_rate=0.03, max_depth=5, n_estimators=65, reg_alpha=0.2, reg_lambda=0.4;, score=(train=0.959, test=0.960) total time=   0.2s\n",
      "[CV 2/3] END gamma=1.6, learning_rate=0.03, max_depth=5, n_estimators=65, reg_alpha=0.2, reg_lambda=0.4;, score=(train=0.962, test=0.957) total time=   0.2s\n"
     ]
    },
    {
     "name": "stdout",
     "output_type": "stream",
     "text": [
      "[CV 3/3] END gamma=1.6, learning_rate=0.03, max_depth=5, n_estimators=65, reg_alpha=0.2, reg_lambda=0.4;, score=(train=0.959, test=0.961) total time=   0.2s\n",
      "Fitting 3 folds for each of 1 candidates, totalling 3 fits\n",
      "[CV 1/3] END gamma=12.8, learning_rate=0.06, max_depth=12, n_estimators=100, reg_alpha=0.2, reg_lambda=0.1;, score=(train=0.959, test=0.960) total time=   1.2s\n",
      "[CV 2/3] END gamma=12.8, learning_rate=0.06, max_depth=12, n_estimators=100, reg_alpha=0.2, reg_lambda=0.1;, score=(train=0.962, test=0.956) total time=   1.3s\n",
      "[CV 3/3] END gamma=12.8, learning_rate=0.06, max_depth=12, n_estimators=100, reg_alpha=0.2, reg_lambda=0.1;, score=(train=0.959, test=0.962) total time=   1.4s\n",
      "Fitting 3 folds for each of 1 candidates, totalling 3 fits\n",
      "[CV 1/3] END gamma=1.6, learning_rate=0.300000012, max_depth=10, n_estimators=100, reg_alpha=0.1, reg_lambda=12.8;, score=(train=0.961, test=0.961) total time=   0.8s\n",
      "[CV 2/3] END gamma=1.6, learning_rate=0.300000012, max_depth=10, n_estimators=100, reg_alpha=0.1, reg_lambda=12.8;, score=(train=0.964, test=0.954) total time=   0.7s\n",
      "[CV 3/3] END gamma=1.6, learning_rate=0.300000012, max_depth=10, n_estimators=100, reg_alpha=0.1, reg_lambda=12.8;, score=(train=0.961, test=0.962) total time=   0.5s\n",
      "Fitting 3 folds for each of 1 candidates, totalling 3 fits\n",
      "[CV 1/3] END gamma=3.2, learning_rate=0.06, max_depth=10, n_estimators=50, reg_alpha=0.4, reg_lambda=3.2;, score=(train=0.960, test=0.961) total time=   0.4s\n",
      "[CV 2/3] END gamma=3.2, learning_rate=0.06, max_depth=10, n_estimators=50, reg_alpha=0.4, reg_lambda=3.2;, score=(train=0.963, test=0.955) total time=   0.3s\n",
      "[CV 3/3] END gamma=3.2, learning_rate=0.06, max_depth=10, n_estimators=50, reg_alpha=0.4, reg_lambda=3.2;, score=(train=0.959, test=0.962) total time=   0.4s\n",
      "Fitting 3 folds for each of 1 candidates, totalling 3 fits\n",
      "[CV 1/3] END gamma=12.8, learning_rate=0.2, max_depth=6, n_estimators=130, reg_alpha=3.2, reg_lambda=51.2;, score=(train=0.959, test=0.960) total time=   0.4s\n",
      "[CV 2/3] END gamma=12.8, learning_rate=0.2, max_depth=6, n_estimators=130, reg_alpha=3.2, reg_lambda=51.2;, score=(train=0.961, test=0.956) total time=   0.6s\n",
      "[CV 3/3] END gamma=12.8, learning_rate=0.2, max_depth=6, n_estimators=130, reg_alpha=3.2, reg_lambda=51.2;, score=(train=0.959, test=0.962) total time=   0.5s\n",
      "Fitting 3 folds for each of 1 candidates, totalling 3 fits\n",
      "[CV 1/3] END gamma=1.6, learning_rate=0.2, max_depth=6, n_estimators=80, reg_alpha=12.8, reg_lambda=102.4;, score=(train=0.959, test=0.961) total time=   0.3s\n",
      "[CV 2/3] END gamma=1.6, learning_rate=0.2, max_depth=6, n_estimators=80, reg_alpha=12.8, reg_lambda=102.4;, score=(train=0.962, test=0.956) total time=   0.3s\n",
      "[CV 3/3] END gamma=1.6, learning_rate=0.2, max_depth=6, n_estimators=80, reg_alpha=12.8, reg_lambda=102.4;, score=(train=0.959, test=0.962) total time=   0.3s\n",
      "Fitting 3 folds for each of 1 candidates, totalling 3 fits\n",
      "[CV 1/3] END gamma=25.6, learning_rate=0.300000012, max_depth=12, n_estimators=100, reg_alpha=102.4, reg_lambda=3.2;, score=(train=0.950, test=0.948) total time=   0.3s\n",
      "[CV 2/3] END gamma=25.6, learning_rate=0.300000012, max_depth=12, n_estimators=100, reg_alpha=102.4, reg_lambda=3.2;, score=(train=0.944, test=0.940) total time=   0.4s\n",
      "[CV 3/3] END gamma=25.6, learning_rate=0.300000012, max_depth=12, n_estimators=100, reg_alpha=102.4, reg_lambda=3.2;, score=(train=0.942, test=0.945) total time=   0.3s\n",
      "Fitting 3 folds for each of 1 candidates, totalling 3 fits\n",
      "[CV 1/3] END gamma=3.2, learning_rate=0.15, max_depth=12, n_estimators=130, reg_alpha=102.4, reg_lambda=0.8;, score=(train=0.958, test=0.958) total time=   0.3s\n",
      "[CV 2/3] END gamma=3.2, learning_rate=0.15, max_depth=12, n_estimators=130, reg_alpha=102.4, reg_lambda=0.8;, score=(train=0.961, test=0.956) total time=   0.3s\n",
      "[CV 3/3] END gamma=3.2, learning_rate=0.15, max_depth=12, n_estimators=130, reg_alpha=102.4, reg_lambda=0.8;, score=(train=0.955, test=0.958) total time=   0.3s\n",
      "Fitting 3 folds for each of 1 candidates, totalling 3 fits\n",
      "[CV 1/3] END gamma=12.8, learning_rate=0.6, max_depth=9, n_estimators=50, reg_alpha=0.4, reg_lambda=3.2;, score=(train=0.959, test=0.960) total time=   0.5s\n",
      "[CV 2/3] END gamma=12.8, learning_rate=0.6, max_depth=9, n_estimators=50, reg_alpha=0.4, reg_lambda=3.2;, score=(train=0.962, test=0.956) total time=   0.5s\n",
      "[CV 3/3] END gamma=12.8, learning_rate=0.6, max_depth=9, n_estimators=50, reg_alpha=0.4, reg_lambda=3.2;, score=(train=0.959, test=0.961) total time=   0.4s\n",
      "Fitting 3 folds for each of 1 candidates, totalling 3 fits\n",
      "[CV 1/3] END gamma=0.4, learning_rate=0.25, max_depth=11, n_estimators=65, reg_alpha=102.4, reg_lambda=1.6;, score=(train=0.957, test=0.958) total time=   0.1s\n",
      "[CV 2/3] END gamma=0.4, learning_rate=0.25, max_depth=11, n_estimators=65, reg_alpha=102.4, reg_lambda=1.6;, score=(train=0.960, test=0.955) total time=   0.1s\n",
      "[CV 3/3] END gamma=0.4, learning_rate=0.25, max_depth=11, n_estimators=65, reg_alpha=102.4, reg_lambda=1.6;, score=(train=0.955, test=0.959) total time=   0.1s\n",
      "Fitting 3 folds for each of 1 candidates, totalling 3 fits\n",
      "[CV 1/3] END gamma=1.6, learning_rate=0.6, max_depth=13, n_estimators=150, reg_alpha=6.4, reg_lambda=0.2;, score=(train=0.960, test=0.960) total time=   0.8s\n",
      "[CV 2/3] END gamma=1.6, learning_rate=0.6, max_depth=13, n_estimators=150, reg_alpha=6.4, reg_lambda=0.2;, score=(train=0.963, test=0.952) total time=   1.0s\n",
      "[CV 3/3] END gamma=1.6, learning_rate=0.6, max_depth=13, n_estimators=150, reg_alpha=6.4, reg_lambda=0.2;, score=(train=0.960, test=0.962) total time=   0.9s\n",
      "Fitting 3 folds for each of 1 candidates, totalling 3 fits\n",
      "[CV 1/3] END gamma=12.8, learning_rate=0.4, max_depth=7, n_estimators=115, reg_alpha=102.4, reg_lambda=102.4;, score=(train=0.952, test=0.950) total time=   0.3s\n",
      "[CV 2/3] END gamma=12.8, learning_rate=0.4, max_depth=7, n_estimators=115, reg_alpha=102.4, reg_lambda=102.4;, score=(train=0.956, test=0.951) total time=   0.4s\n",
      "[CV 3/3] END gamma=12.8, learning_rate=0.4, max_depth=7, n_estimators=115, reg_alpha=102.4, reg_lambda=102.4;, score=(train=0.955, test=0.958) total time=   0.4s\n",
      "Fitting 3 folds for each of 1 candidates, totalling 3 fits\n",
      "[CV 1/3] END gamma=1.6, learning_rate=0.5, max_depth=7, n_estimators=115, reg_alpha=0.4, reg_lambda=25.6;, score=(train=0.960, test=0.961) total time=   0.5s\n",
      "[CV 2/3] END gamma=1.6, learning_rate=0.5, max_depth=7, n_estimators=115, reg_alpha=0.4, reg_lambda=25.6;, score=(train=0.963, test=0.954) total time=   0.5s\n",
      "[CV 3/3] END gamma=1.6, learning_rate=0.5, max_depth=7, n_estimators=115, reg_alpha=0.4, reg_lambda=25.6;, score=(train=0.960, test=0.962) total time=   0.4s\n",
      "Fitting 3 folds for each of 1 candidates, totalling 3 fits\n",
      "[CV 1/3] END gamma=1.6, learning_rate=0.4, max_depth=11, n_estimators=65, reg_alpha=51.2, reg_lambda=6.4;, score=(train=0.959, test=0.960) total time=   0.1s\n",
      "[CV 2/3] END gamma=1.6, learning_rate=0.4, max_depth=11, n_estimators=65, reg_alpha=51.2, reg_lambda=6.4;, score=(train=0.962, test=0.956) total time=   0.1s\n",
      "[CV 3/3] END gamma=1.6, learning_rate=0.4, max_depth=11, n_estimators=65, reg_alpha=51.2, reg_lambda=6.4;, score=(train=0.958, test=0.961) total time=   0.1s\n",
      "Fitting 3 folds for each of 1 candidates, totalling 3 fits\n",
      "[CV 1/3] END gamma=3.2, learning_rate=0.7, max_depth=9, n_estimators=65, reg_alpha=3.2, reg_lambda=51.2;, score=(train=0.959, test=0.960) total time=   0.4s\n",
      "[CV 2/3] END gamma=3.2, learning_rate=0.7, max_depth=9, n_estimators=65, reg_alpha=3.2, reg_lambda=51.2;, score=(train=0.962, test=0.955) total time=   0.5s\n",
      "[CV 3/3] END gamma=3.2, learning_rate=0.7, max_depth=9, n_estimators=65, reg_alpha=3.2, reg_lambda=51.2;, score=(train=0.958, test=0.962) total time=   0.3s\n",
      "Fitting 3 folds for each of 1 candidates, totalling 3 fits\n",
      "[CV 1/3] END gamma=1.6, learning_rate=0.06, max_depth=12, n_estimators=65, reg_alpha=102.4, reg_lambda=3.2;, score=(train=0.957, test=0.956) total time=   0.2s\n",
      "[CV 2/3] END gamma=1.6, learning_rate=0.06, max_depth=12, n_estimators=65, reg_alpha=102.4, reg_lambda=3.2;, score=(train=0.957, test=0.954) total time=   0.3s\n",
      "[CV 3/3] END gamma=1.6, learning_rate=0.06, max_depth=12, n_estimators=65, reg_alpha=102.4, reg_lambda=3.2;, score=(train=0.955, test=0.959) total time=   0.2s\n"
     ]
    },
    {
     "name": "stdout",
     "output_type": "stream",
     "text": [
      "Fitting 3 folds for each of 1 candidates, totalling 3 fits\n",
      "[CV 1/3] END gamma=0.1, learning_rate=0.25, max_depth=8, n_estimators=150, reg_alpha=12.8, reg_lambda=0.4;, score=(train=0.960, test=0.960) total time=   0.4s\n",
      "[CV 2/3] END gamma=0.1, learning_rate=0.25, max_depth=8, n_estimators=150, reg_alpha=12.8, reg_lambda=0.4;, score=(train=0.963, test=0.954) total time=   0.3s\n",
      "[CV 3/3] END gamma=0.1, learning_rate=0.25, max_depth=8, n_estimators=150, reg_alpha=12.8, reg_lambda=0.4;, score=(train=0.959, test=0.961) total time=   0.4s\n",
      "Fitting 3 folds for each of 1 candidates, totalling 3 fits\n",
      "[CV 1/3] END gamma=3.2, learning_rate=0.1, max_depth=5, n_estimators=80, reg_alpha=0.1, reg_lambda=12.8;, score=(train=0.960, test=0.960) total time=   0.3s\n",
      "[CV 2/3] END gamma=3.2, learning_rate=0.1, max_depth=5, n_estimators=80, reg_alpha=0.1, reg_lambda=12.8;, score=(train=0.962, test=0.955) total time=   0.3s\n",
      "[CV 3/3] END gamma=3.2, learning_rate=0.1, max_depth=5, n_estimators=80, reg_alpha=0.1, reg_lambda=12.8;, score=(train=0.959, test=0.961) total time=   0.3s\n",
      "Fitting 3 folds for each of 1 candidates, totalling 3 fits\n",
      "[CV 1/3] END gamma=3.2, learning_rate=0.5, max_depth=8, n_estimators=115, reg_alpha=6.4, reg_lambda=102.4;, score=(train=0.959, test=0.961) total time=   0.5s\n",
      "[CV 2/3] END gamma=3.2, learning_rate=0.5, max_depth=8, n_estimators=115, reg_alpha=6.4, reg_lambda=102.4;, score=(train=0.961, test=0.956) total time=   0.5s\n",
      "[CV 3/3] END gamma=3.2, learning_rate=0.5, max_depth=8, n_estimators=115, reg_alpha=6.4, reg_lambda=102.4;, score=(train=0.959, test=0.962) total time=   0.6s\n",
      "Fitting 3 folds for each of 1 candidates, totalling 3 fits\n",
      "[CV 1/3] END gamma=3.2, learning_rate=0.2, max_depth=14, n_estimators=65, reg_alpha=0.8, reg_lambda=6.4;, score=(train=0.960, test=0.960) total time=   0.7s\n",
      "[CV 2/3] END gamma=3.2, learning_rate=0.2, max_depth=14, n_estimators=65, reg_alpha=0.8, reg_lambda=6.4;, score=(train=0.963, test=0.954) total time=   0.9s\n",
      "[CV 3/3] END gamma=3.2, learning_rate=0.2, max_depth=14, n_estimators=65, reg_alpha=0.8, reg_lambda=6.4;, score=(train=0.960, test=0.961) total time=   0.7s\n",
      "Fitting 3 folds for each of 1 candidates, totalling 3 fits\n",
      "[CV 1/3] END gamma=3.2, learning_rate=0.300000012, max_depth=13, n_estimators=80, reg_alpha=51.2, reg_lambda=0.4;, score=(train=0.959, test=0.960) total time=   0.2s\n",
      "[CV 2/3] END gamma=3.2, learning_rate=0.300000012, max_depth=13, n_estimators=80, reg_alpha=51.2, reg_lambda=0.4;, score=(train=0.962, test=0.956) total time=   0.1s\n",
      "[CV 3/3] END gamma=3.2, learning_rate=0.300000012, max_depth=13, n_estimators=80, reg_alpha=51.2, reg_lambda=0.4;, score=(train=0.959, test=0.962) total time=   0.2s\n",
      "Fitting 3 folds for each of 1 candidates, totalling 3 fits\n",
      "[CV 1/3] END gamma=3.2, learning_rate=0.300000012, max_depth=13, n_estimators=150, reg_alpha=6.4, reg_lambda=0.2;, score=(train=0.960, test=0.960) total time=   1.0s\n",
      "[CV 2/3] END gamma=3.2, learning_rate=0.300000012, max_depth=13, n_estimators=150, reg_alpha=6.4, reg_lambda=0.2;, score=(train=0.962, test=0.953) total time=   1.0s\n",
      "[CV 3/3] END gamma=3.2, learning_rate=0.300000012, max_depth=13, n_estimators=150, reg_alpha=6.4, reg_lambda=0.2;, score=(train=0.959, test=0.962) total time=   0.9s\n",
      "Fitting 3 folds for each of 1 candidates, totalling 3 fits\n",
      "[CV 1/3] END gamma=3.2, learning_rate=0.4, max_depth=10, n_estimators=115, reg_alpha=25.6, reg_lambda=102.4;, score=(train=0.960, test=0.960) total time=   0.4s\n",
      "[CV 2/3] END gamma=3.2, learning_rate=0.4, max_depth=10, n_estimators=115, reg_alpha=25.6, reg_lambda=102.4;, score=(train=0.962, test=0.956) total time=   0.5s\n",
      "[CV 3/3] END gamma=3.2, learning_rate=0.4, max_depth=10, n_estimators=115, reg_alpha=25.6, reg_lambda=102.4;, score=(train=0.959, test=0.961) total time=   0.4s\n",
      "Fitting 3 folds for each of 1 candidates, totalling 3 fits\n",
      "[CV 1/3] END gamma=0.4, learning_rate=0.2, max_depth=10, n_estimators=150, reg_alpha=51.2, reg_lambda=3.2;, score=(train=0.959, test=0.960) total time=   0.3s\n",
      "[CV 2/3] END gamma=0.4, learning_rate=0.2, max_depth=10, n_estimators=150, reg_alpha=51.2, reg_lambda=3.2;, score=(train=0.962, test=0.956) total time=   0.3s\n",
      "[CV 3/3] END gamma=0.4, learning_rate=0.2, max_depth=10, n_estimators=150, reg_alpha=51.2, reg_lambda=3.2;, score=(train=0.958, test=0.962) total time=   0.4s\n",
      "Fitting 3 folds for each of 1 candidates, totalling 3 fits\n",
      "[CV 1/3] END gamma=3.2, learning_rate=0.1, max_depth=6, n_estimators=130, reg_alpha=200.0, reg_lambda=102.4;, score=(train=0.917, test=0.917) total time=   0.4s\n",
      "[CV 2/3] END gamma=3.2, learning_rate=0.1, max_depth=6, n_estimators=130, reg_alpha=200.0, reg_lambda=102.4;, score=(train=0.917, test=0.917) total time=   0.4s\n",
      "[CV 3/3] END gamma=3.2, learning_rate=0.1, max_depth=6, n_estimators=130, reg_alpha=200.0, reg_lambda=102.4;, score=(train=0.917, test=0.917) total time=   0.4s\n",
      "Fitting 3 folds for each of 1 candidates, totalling 3 fits\n",
      "[CV 1/3] END gamma=0.4, learning_rate=0.03, max_depth=5, n_estimators=115, reg_alpha=0.0, reg_lambda=12.8;, score=(train=0.959, test=0.961) total time=   0.4s\n",
      "[CV 2/3] END gamma=0.4, learning_rate=0.03, max_depth=5, n_estimators=115, reg_alpha=0.0, reg_lambda=12.8;, score=(train=0.962, test=0.956) total time=   0.3s\n",
      "[CV 3/3] END gamma=0.4, learning_rate=0.03, max_depth=5, n_estimators=115, reg_alpha=0.0, reg_lambda=12.8;, score=(train=0.959, test=0.961) total time=   0.4s\n",
      "Fitting 3 folds for each of 1 candidates, totalling 3 fits\n",
      "[CV 1/3] END gamma=12.8, learning_rate=0.25, max_depth=9, n_estimators=50, reg_alpha=12.8, reg_lambda=0.8;, score=(train=0.959, test=0.960) total time=   0.2s\n",
      "[CV 2/3] END gamma=12.8, learning_rate=0.25, max_depth=9, n_estimators=50, reg_alpha=12.8, reg_lambda=0.8;, score=(train=0.961, test=0.957) total time=   0.2s\n",
      "[CV 3/3] END gamma=12.8, learning_rate=0.25, max_depth=9, n_estimators=50, reg_alpha=12.8, reg_lambda=0.8;, score=(train=0.959, test=0.961) total time=   0.2s\n",
      "Fitting 3 folds for each of 1 candidates, totalling 3 fits\n",
      "[CV 1/3] END gamma=1.6, learning_rate=0.4, max_depth=9, n_estimators=115, reg_alpha=0.8, reg_lambda=1.6;, score=(train=0.962, test=0.961) total time=   0.5s\n",
      "[CV 2/3] END gamma=1.6, learning_rate=0.4, max_depth=9, n_estimators=115, reg_alpha=0.8, reg_lambda=1.6;, score=(train=0.965, test=0.953) total time=   0.5s\n",
      "[CV 3/3] END gamma=1.6, learning_rate=0.4, max_depth=9, n_estimators=115, reg_alpha=0.8, reg_lambda=1.6;, score=(train=0.963, test=0.962) total time=   0.7s\n",
      "Fitting 3 folds for each of 1 candidates, totalling 3 fits\n",
      "[CV 1/3] END gamma=12.8, learning_rate=0.25, max_depth=8, n_estimators=65, reg_alpha=0.0, reg_lambda=1.6;, score=(train=0.959, test=0.960) total time=   0.4s\n",
      "[CV 2/3] END gamma=12.8, learning_rate=0.25, max_depth=8, n_estimators=65, reg_alpha=0.0, reg_lambda=1.6;, score=(train=0.962, test=0.956) total time=   0.5s\n",
      "[CV 3/3] END gamma=12.8, learning_rate=0.25, max_depth=8, n_estimators=65, reg_alpha=0.0, reg_lambda=1.6;, score=(train=0.959, test=0.961) total time=   0.4s\n",
      "Fitting 3 folds for each of 1 candidates, totalling 3 fits\n",
      "[CV 1/3] END gamma=0.4, learning_rate=0.5, max_depth=11, n_estimators=50, reg_alpha=6.4, reg_lambda=102.4;, score=(train=0.960, test=0.960) total time=   0.2s\n",
      "[CV 2/3] END gamma=0.4, learning_rate=0.5, max_depth=11, n_estimators=50, reg_alpha=6.4, reg_lambda=102.4;, score=(train=0.962, test=0.954) total time=   0.2s\n",
      "[CV 3/3] END gamma=0.4, learning_rate=0.5, max_depth=11, n_estimators=50, reg_alpha=6.4, reg_lambda=102.4;, score=(train=0.960, test=0.961) total time=   0.2s\n",
      "Fitting 3 folds for each of 1 candidates, totalling 3 fits\n",
      "[CV 1/3] END gamma=1.6, learning_rate=0.06, max_depth=5, n_estimators=50, reg_alpha=25.6, reg_lambda=12.8;, score=(train=0.959, test=0.960) total time=   0.1s\n",
      "[CV 2/3] END gamma=1.6, learning_rate=0.06, max_depth=5, n_estimators=50, reg_alpha=25.6, reg_lambda=12.8;, score=(train=0.960, test=0.954) total time=   0.1s\n",
      "[CV 3/3] END gamma=1.6, learning_rate=0.06, max_depth=5, n_estimators=50, reg_alpha=25.6, reg_lambda=12.8;, score=(train=0.958, test=0.961) total time=   0.1s\n",
      "Fitting 3 folds for each of 1 candidates, totalling 3 fits\n",
      "[CV 1/3] END gamma=0.4, learning_rate=0.01, max_depth=5, n_estimators=50, reg_alpha=0.8, reg_lambda=12.8;, score=(train=0.959, test=0.960) total time=   0.1s\n"
     ]
    },
    {
     "name": "stdout",
     "output_type": "stream",
     "text": [
      "[CV 2/3] END gamma=0.4, learning_rate=0.01, max_depth=5, n_estimators=50, reg_alpha=0.8, reg_lambda=12.8;, score=(train=0.961, test=0.956) total time=   0.1s\n",
      "[CV 3/3] END gamma=0.4, learning_rate=0.01, max_depth=5, n_estimators=50, reg_alpha=0.8, reg_lambda=12.8;, score=(train=0.958, test=0.961) total time=   0.1s\n",
      "Fitting 3 folds for each of 1 candidates, totalling 3 fits\n",
      "[CV 1/3] END gamma=0.1, learning_rate=0.06, max_depth=10, n_estimators=115, reg_alpha=0.0, reg_lambda=25.6;, score=(train=0.961, test=0.961) total time=   0.6s\n",
      "[CV 2/3] END gamma=0.1, learning_rate=0.06, max_depth=10, n_estimators=115, reg_alpha=0.0, reg_lambda=25.6;, score=(train=0.964, test=0.954) total time=   0.7s\n",
      "[CV 3/3] END gamma=0.1, learning_rate=0.06, max_depth=10, n_estimators=115, reg_alpha=0.0, reg_lambda=25.6;, score=(train=0.961, test=0.962) total time=   1.2s\n",
      "Fitting 3 folds for each of 1 candidates, totalling 3 fits\n",
      "[CV 1/3] END gamma=1.6, learning_rate=0.300000012, max_depth=11, n_estimators=115, reg_alpha=3.2, reg_lambda=3.2;, score=(train=0.960, test=0.961) total time=   0.7s\n",
      "[CV 2/3] END gamma=1.6, learning_rate=0.300000012, max_depth=11, n_estimators=115, reg_alpha=3.2, reg_lambda=3.2;, score=(train=0.964, test=0.954) total time=   0.6s\n",
      "[CV 3/3] END gamma=1.6, learning_rate=0.300000012, max_depth=11, n_estimators=115, reg_alpha=3.2, reg_lambda=3.2;, score=(train=0.961, test=0.961) total time=   0.8s\n",
      "Fitting 3 folds for each of 1 candidates, totalling 3 fits\n",
      "[CV 1/3] END gamma=12.8, learning_rate=0.15, max_depth=10, n_estimators=100, reg_alpha=0.8, reg_lambda=12.8;, score=(train=0.959, test=0.960) total time=   0.7s\n",
      "[CV 2/3] END gamma=12.8, learning_rate=0.15, max_depth=10, n_estimators=100, reg_alpha=0.8, reg_lambda=12.8;, score=(train=0.961, test=0.957) total time=   0.9s\n",
      "[CV 3/3] END gamma=12.8, learning_rate=0.15, max_depth=10, n_estimators=100, reg_alpha=0.8, reg_lambda=12.8;, score=(train=0.959, test=0.962) total time=   1.0s\n",
      "Fitting 3 folds for each of 1 candidates, totalling 3 fits\n",
      "[CV 1/3] END gamma=0.8, learning_rate=0.2, max_depth=10, n_estimators=65, reg_alpha=12.8, reg_lambda=0.0;, score=(train=0.960, test=0.960) total time=   0.2s\n",
      "[CV 2/3] END gamma=0.8, learning_rate=0.2, max_depth=10, n_estimators=65, reg_alpha=12.8, reg_lambda=0.0;, score=(train=0.962, test=0.954) total time=   0.2s\n",
      "[CV 3/3] END gamma=0.8, learning_rate=0.2, max_depth=10, n_estimators=65, reg_alpha=12.8, reg_lambda=0.0;, score=(train=0.960, test=0.962) total time=   0.3s\n",
      "Fitting 3 folds for each of 1 candidates, totalling 3 fits\n",
      "[CV 1/3] END gamma=0.4, learning_rate=0.5, max_depth=8, n_estimators=65, reg_alpha=3.2, reg_lambda=1.6;, score=(train=0.961, test=0.962) total time=   0.2s\n",
      "[CV 2/3] END gamma=0.4, learning_rate=0.5, max_depth=8, n_estimators=65, reg_alpha=3.2, reg_lambda=1.6;, score=(train=0.966, test=0.954) total time=   0.2s\n",
      "[CV 3/3] END gamma=0.4, learning_rate=0.5, max_depth=8, n_estimators=65, reg_alpha=3.2, reg_lambda=1.6;, score=(train=0.962, test=0.961) total time=   0.2s\n",
      "Fitting 3 folds for each of 1 candidates, totalling 3 fits\n",
      "[CV 1/3] END gamma=12.8, learning_rate=0.5, max_depth=11, n_estimators=65, reg_alpha=1.6, reg_lambda=25.6;, score=(train=0.959, test=0.960) total time=   0.5s\n",
      "[CV 2/3] END gamma=12.8, learning_rate=0.5, max_depth=11, n_estimators=65, reg_alpha=1.6, reg_lambda=25.6;, score=(train=0.961, test=0.956) total time=   0.6s\n",
      "[CV 3/3] END gamma=12.8, learning_rate=0.5, max_depth=11, n_estimators=65, reg_alpha=1.6, reg_lambda=25.6;, score=(train=0.958, test=0.962) total time=   0.6s\n",
      "Wall time: 6min 52s\n"
     ]
    }
   ],
   "source": [
    "%%time\n",
    "\n",
    "#start time\n",
    "t0 = time.time()\n",
    "\n",
    "#No. of jobs\n",
    "bcvj = int(gcvj)\n",
    "\n",
    "#unwrapping list values of default parameters\n",
    "default_params_xgb = {}\n",
    "\n",
    "for key in default_params.keys():\n",
    "    default_params_xgb[key] = default_params[key][0]\n",
    "\n",
    "#providing default parameters to xgbc model, before randomized search cross-validation\n",
    "xgbc = xgb.XGBClassifier(**default_params_xgb)\n",
    "\n",
    "clf = BayesSearchCV(estimator=xgbc, search_spaces=param_grid, n_iter=bcvj, scoring='accuracy', cv=3, return_train_score=True, verbose=3)\n",
    "clf.fit(X_train, y_train.values.ravel())\n",
    "\n",
    "#results dataframe\n",
    "df = pd.DataFrame(clf.cv_results_)\n",
    "    \n",
    "#predictions - inputs to confusion matrix\n",
    "train_predictions = clf.predict(X_train)\n",
    "test_predictions = clf.predict(X_test)\n",
    "# unseen_predictions = clf.predict(df_test.iloc[:,1:])\n",
    "    \n",
    "#confusion matrices\n",
    "cfm_train = confusion_matrix(y_train, train_predictions)\n",
    "cfm_test = confusion_matrix(y_test, test_predictions)\n",
    "# cfm_unseen = confusion_matrix(df_test.iloc[:,:1], unseen_predictions)\n",
    "    \n",
    "#accuracy scores\n",
    "accs_train = accuracy_score(y_train, train_predictions)\n",
    "accs_test = accuracy_score(y_test, test_predictions)\n",
    "# accs_unseen = accuracy_score(df_test.iloc[:,:1], unseen_predictions)\n",
    "    \n",
    "#F1 scores for each train/test label\n",
    "f1s_train_p1 = f1_score(y_train, train_predictions, pos_label=1)\n",
    "f1s_train_p0 = f1_score(y_train, train_predictions, pos_label=0)\n",
    "f1s_test_p1 = f1_score(y_test, test_predictions, pos_label=1)\n",
    "f1s_test_p0 = f1_score(y_test, test_predictions, pos_label=0)\n",
    "# f1s_unseen_p1 = f1_score(df_test.iloc[:,:1], unseen_predictions, pos_label=1)\n",
    "# f1s_unseen_p0 = f1_score(df_test.iloc[:,:1], unseen_predictions, pos_label=0)\n",
    "    \n",
    "#Area Under the Receiver Operating Characteristic Curve\n",
    "test_ras = roc_auc_score(y_test, clf.predict_proba(X_test)[:,1])\n",
    "# unseen_ras = roc_auc_score(df_test.iloc[:,:1], clf.predict_proba(df_test.iloc[:,1:])[:,1])\n",
    "    \n",
    "#best parameters\n",
    "bp = clf.best_params_\n",
    "    \n",
    "#storing computed values in results dictionary\n",
    "results_dict['xgbc_bcv'] = {'classifier': deepcopy(clf),\n",
    "                            'cv_results': df.copy(),\n",
    "                            'cfm_train': cfm_train,\n",
    "                            'cfm_test': cfm_test,\n",
    "#                             'cfm_unseen': cfm_unseen,\n",
    "                            'train_accuracy': accs_train,\n",
    "                            'test_accuracy': accs_test,\n",
    "#                             'unseen_accuracy': accs_unseen,\n",
    "                            'train F1-score label 1': f1s_train_p1,\n",
    "                            'train F1-score label 0': f1s_train_p0,\n",
    "                            'test F1-score label 1': f1s_test_p1,\n",
    "                            'test F1-score label 0': f1s_test_p0,\n",
    "#                             'unseen F1-score label 1': f1s_unseen_p1,\n",
    "#                             'unseen F1-score label 0': f1s_unseen_p0,\n",
    "                            'test roc auc score': test_ras,\n",
    "#                             'unseen roc auc score': unseen_ras,\n",
    "                            'best_params': bp}\n",
    "\n",
    "#stop time\n",
    "t1 = time.time()\n",
    "\n",
    "#elapsed time\n",
    "bcvt = t1 - t0"
   ]
  },
  {
   "cell_type": "markdown",
   "id": "d0b06e46",
   "metadata": {},
   "source": [
    "## model comarisonn"
   ]
  },
  {
   "cell_type": "code",
   "execution_count": 333,
   "id": "995468de",
   "metadata": {},
   "outputs": [
    {
     "name": "stdout",
     "output_type": "stream",
     "text": [
      "Benchmark AUC/accuracy score: 0.9057 / 0.9613\n",
      "Coordinate descent AUC/accuracy score: 0.9101 / 0.9624 @ 1.94 minutes and 68 jobs\n",
      "Randomized search AUC/accuracy score: 0.9135 / 0.9622 @ 2.78 minutes and 68 jobs\n",
      "Bayes search AUC/accuracy score: 0.9141 / 0.9622 @ 6.88 minutes and 68 jobs\n",
      "\n",
      "Expected time of executing exhaustive grid search with 3-fold cross-validation: 18046 minutes and 631800 jobs\n"
     ]
    }
   ],
   "source": [
    "#printing benchmark, iterative grid search and randomized search ROC AUC / accuracy scores (test data set)\n",
    "print(f\"Benchmark AUC/accuracy score: {np.round(results_dict['xgbc0']['test roc auc score'],4)} / {np.round(results_dict['xgbc0']['test_accuracy'],4)}\")\n",
    "print(f\"Coordinate descent AUC/accuracy score: {np.round(results_dict['xgbc3']['test roc auc score'],4)} / {np.round(results_dict['xgbc3']['test_accuracy'],4)} @ {np.round(gcvt/60,2)} minutes and {gcvj} jobs\")\n",
    "print(f\"Randomized search AUC/accuracy score: {np.round(results_dict['xgbc_rcv']['test roc auc score'],4)} / {np.round(results_dict['xgbc_rcv']['test_accuracy'],4)} @ {np.round(rcvt/60,2)} minutes and {rcvj} jobs\")\n",
    "print(f\"Bayes search AUC/accuracy score: {np.round(results_dict['xgbc_bcv']['test roc auc score'],4)} / {np.round(results_dict['xgbc_bcv']['test_accuracy'],4)} @ {np.round(bcvt/60,2)} minutes and {bcvj} jobs\")\n",
    "print(\"\")\n",
    "\n",
    "#computing expected time of executing exhaustive grid search\n",
    "jobs = np.cumprod([len(x) for x in param_grid])[-1]\n",
    "et = jobs * gcvt / gcvj\n",
    "print(f\"Expected time of executing exhaustive grid search with 3-fold cross-validation: {int(et/60)} minutes and {jobs} jobs\")"
   ]
  },
  {
   "cell_type": "code",
   "execution_count": 335,
   "id": "1c4ea2d0",
   "metadata": {},
   "outputs": [],
   "source": [
    "# #printing benchmark, iterative grid search and randomized search ROC AUC / accuracy scores (unseen data set)\n",
    "# print(f\"Benchmark AUC/accuracy score: {np.round(results_dict['xgbc0']['unseen roc auc score'],4)} / {np.round(results_dict['xgbc0']['unseen_accuracy'],4)}\")\n",
    "# print(f\"Coordinate descent AUC/accuracy score: {np.round(results_dict['xgbc3']['unseen roc auc score'],4)} / {np.round(results_dict['xgbc3']['unseen_accuracy'],4)}\")\n",
    "# print(f\"Randomized search AUC/accuracy score: {np.round(results_dict['xgbc_rcv']['unseen roc auc score'],4)} / {np.round(results_dict['xgbc_rcv']['unseen_accuracy'],4)}\")\n",
    "# print(f\"Bayes search AUC/accuracy score: {np.round(results_dict['xgbc_bcv']['unseen roc auc score'],4)} / {np.round(results_dict['xgbc_bcv']['unseen_accuracy'],4)}\")"
   ]
  },
  {
   "cell_type": "code",
   "execution_count": null,
   "id": "6c98c80f",
   "metadata": {},
   "outputs": [],
   "source": [
    "# #set keys for extracting confusion matrices (unseen data set)\n",
    "# keys = ['xgbc0', 'xgbc3', 'xgbc_rcv', 'xgbc_bcv']\n",
    "# titles = ['Benchmark model', 'Coordinate Descent', 'Randomized Search', 'Bayesian Search']\n",
    "\n",
    "# f, axes = plt.subplots(2,2,figsize=(18,14));\n",
    "\n",
    "# for i,ax in enumerate(axes.flatten()):\n",
    "    \n",
    "#     #computing variables for specific confusion matrix\n",
    "#     group_counts = [\"{0:0.0f}\".format(value) for value in results_dict[keys[i]]['cfm_unseen'].flatten()]\n",
    "#     group_percentages = [\"{0:.2%}\".format(value) for value in results_dict[keys[i]]['cfm_unseen'].flatten()/np.sum(results_dict[keys[i]]['cfm_unseen'])]\n",
    "#     labels = [f\"{v1}\\n{v2}\\n{v3}\" for v1, v2, v3 in zip(group_names,group_counts,group_percentages)]\n",
    "#     labels = np.asarray(labels).reshape(2,2)\n",
    "    \n",
    "#     #plotting confusion matrix\n",
    "#     sns.heatmap(results_dict[keys[i]]['cfm_unseen'], annot=labels, fmt='', cmap='Blues', ax=ax)\n",
    "#     ax.set_title(f\"Confusion matrix for {titles[i]}\")"
   ]
  },
  {
   "cell_type": "code",
   "execution_count": 336,
   "id": "63493939",
   "metadata": {},
   "outputs": [
    {
     "data": {
      "text/html": [
       "<div>\n",
       "<style scoped>\n",
       "    .dataframe tbody tr th:only-of-type {\n",
       "        vertical-align: middle;\n",
       "    }\n",
       "\n",
       "    .dataframe tbody tr th {\n",
       "        vertical-align: top;\n",
       "    }\n",
       "\n",
       "    .dataframe thead th {\n",
       "        text-align: right;\n",
       "    }\n",
       "</style>\n",
       "<table border=\"1\" class=\"dataframe\">\n",
       "  <thead>\n",
       "    <tr style=\"text-align: right;\">\n",
       "      <th></th>\n",
       "      <th>gamma</th>\n",
       "      <th>learning_rate</th>\n",
       "      <th>max_depth</th>\n",
       "      <th>n_estimators</th>\n",
       "      <th>reg_alpha</th>\n",
       "      <th>reg_lambda</th>\n",
       "    </tr>\n",
       "  </thead>\n",
       "  <tbody>\n",
       "    <tr>\n",
       "      <th>Benchmark</th>\n",
       "      <td>0.0</td>\n",
       "      <td>0.3</td>\n",
       "      <td>6</td>\n",
       "      <td>100</td>\n",
       "      <td>0.0</td>\n",
       "      <td>1.0</td>\n",
       "    </tr>\n",
       "    <tr>\n",
       "      <th>GridSearchCV (CD)</th>\n",
       "      <td>25.6</td>\n",
       "      <td>0.6</td>\n",
       "      <td>5</td>\n",
       "      <td>100</td>\n",
       "      <td>0.0</td>\n",
       "      <td>1.0</td>\n",
       "    </tr>\n",
       "    <tr>\n",
       "      <th>RandomizedSearchCV</th>\n",
       "      <td>3.2</td>\n",
       "      <td>0.1</td>\n",
       "      <td>14</td>\n",
       "      <td>65</td>\n",
       "      <td>12.8</td>\n",
       "      <td>6.4</td>\n",
       "    </tr>\n",
       "    <tr>\n",
       "      <th>BayesSearchCV</th>\n",
       "      <td>3.2</td>\n",
       "      <td>0.3</td>\n",
       "      <td>13</td>\n",
       "      <td>80</td>\n",
       "      <td>12.8</td>\n",
       "      <td>6.4</td>\n",
       "    </tr>\n",
       "  </tbody>\n",
       "</table>\n",
       "</div>"
      ],
      "text/plain": [
       "                    gamma  learning_rate  max_depth  n_estimators  reg_alpha  \\\n",
       "Benchmark             0.0            0.3          6           100        0.0   \n",
       "GridSearchCV (CD)    25.6            0.6          5           100        0.0   \n",
       "RandomizedSearchCV    3.2            0.1         14            65       12.8   \n",
       "BayesSearchCV         3.2            0.3         13            80       12.8   \n",
       "\n",
       "                    reg_lambda  \n",
       "Benchmark                  1.0  \n",
       "GridSearchCV (CD)          1.0  \n",
       "RandomizedSearchCV         6.4  \n",
       "BayesSearchCV              6.4  "
      ]
     },
     "execution_count": 336,
     "metadata": {},
     "output_type": "execute_result"
    }
   ],
   "source": [
    "df_bestparams = pd.DataFrame([{key: clf0.best_params_[key] for key in param_grid.keys()},\n",
    "                              {key: results_dict['xgbc3']['classifier'].best_params_[key] for key in param_grid.keys()},\n",
    "                              {key: results_dict['xgbc_rcv']['classifier'].best_params_[key] for key in param_grid.keys()},\n",
    "                              {key: results_dict['xgbc_bcv']['classifier'].best_params_[key] for key in param_grid.keys()}],\n",
    "                              index=['Benchmark', 'GridSearchCV (CD)', 'RandomizedSearchCV', 'BayesSearchCV'])\n",
    "df_bestparams"
   ]
  },
  {
   "cell_type": "code",
   "execution_count": 337,
   "id": "afe3de08",
   "metadata": {},
   "outputs": [
    {
     "data": {
      "image/png": "[encoded data removed]",
      "text/plain": [
       "<Figure size 864x864 with 1 Axes>"
      ]
     },
     "metadata": {
      "needs_background": "light"
     },
     "output_type": "display_data"
    }
   ],
   "source": [
    "# roc curve for models\n",
    "fpr_bm, tpr_bm, thresh_bm = roc_curve(y_test, clf0.predict_proba(X_test)[:,1], pos_label=1)\n",
    "fpr_cd, tpr_cd, thresh_cd = roc_curve(y_test, results_dict['xgbc3']['classifier'].predict_proba(X_test)[:,1], pos_label=1)\n",
    "fpr_rcv, tpr_rcv, thresh_rcv = roc_curve(y_test, results_dict['xgbc_rcv']['classifier'].predict_proba(X_test)[:,1], pos_label=1)\n",
    "fpr_bcv, tpr_bcv, thresh_bcv = roc_curve(y_test, results_dict['xgbc_bcv']['classifier'].predict_proba(X_test)[:,1], pos_label=1)\n",
    "\n",
    "# roc curve for tpr = fpr \n",
    "random_probs = [0 for i in range(len(y_test))]\n",
    "p_fpr, p_tpr, _ = roc_curve(y_test, random_probs, pos_label=1)\n",
    "\n",
    "#plotting roc curves\n",
    "plt.figure(figsize=(12,12));\n",
    "plt.plot(fpr_bm, tpr_bm, linestyle='--',color='orange', label='Benchmark');\n",
    "plt.plot(fpr_cd, tpr_cd, linestyle='--',color='green', label='Coordinate descent');\n",
    "plt.plot(fpr_rcv, tpr_rcv, linestyle='--',color='blue', label='Randomized search');\n",
    "plt.plot(fpr_bcv, tpr_bcv, linestyle='--',color='red', label='Bayes search');\n",
    "plt.plot(p_fpr, p_tpr, linestyle='--',color='black', label='TPR = FPR')\n",
    "\n",
    "plt.xlim((0,1));\n",
    "plt.ylim((0,1));\n",
    "\n",
    "plt.title('ROC curve');\n",
    "plt.xlabel('False Positive Rate');\n",
    "plt.ylabel('True Positive rate');\n",
    "\n",
    "plt.legend(loc='best');\n",
    "plt.show();"
   ]
  },
  {
   "cell_type": "code",
   "execution_count": 351,
   "id": "a773aff2",
   "metadata": {},
   "outputs": [
    {
     "name": "stdout",
     "output_type": "stream",
     "text": [
      "              precision    recall  f1-score   support\n",
      "\n",
      "           0       0.96      1.00      0.98      4434\n",
      "           1       0.91      0.56      0.70       376\n",
      "\n",
      "    accuracy                           0.96      4810\n",
      "   macro avg       0.94      0.78      0.84      4810\n",
      "weighted avg       0.96      0.96      0.96      4810\n",
      "\n"
     ]
    }
   ],
   "source": [
    "bench_pred = clf0.predict(tst_x)\n",
    "print(classification_report(tst_y, bench_pred))"
   ]
  },
  {
   "cell_type": "code",
   "execution_count": 348,
   "id": "46783157",
   "metadata": {},
   "outputs": [
    {
     "name": "stdout",
     "output_type": "stream",
     "text": [
      "              precision    recall  f1-score   support\n",
      "\n",
      "           0       0.96      1.00      0.98      4434\n",
      "           1       0.96      0.54      0.69       376\n",
      "\n",
      "    accuracy                           0.96      4810\n",
      "   macro avg       0.96      0.77      0.84      4810\n",
      "weighted avg       0.96      0.96      0.96      4810\n",
      "\n"
     ]
    }
   ],
   "source": [
    "grid_pred = results_dict['xgbc3']['classifier'].predict(tst_x)\n",
    "print(classification_report(tst_y, grid_pred))"
   ]
  },
  {
   "cell_type": "code",
   "execution_count": 349,
   "id": "27e941fa",
   "metadata": {},
   "outputs": [
    {
     "name": "stdout",
     "output_type": "stream",
     "text": [
      "              precision    recall  f1-score   support\n",
      "\n",
      "           0       0.96      1.00      0.98      4434\n",
      "           1       0.94      0.55      0.69       376\n",
      "\n",
      "    accuracy                           0.96      4810\n",
      "   macro avg       0.95      0.77      0.84      4810\n",
      "weighted avg       0.96      0.96      0.96      4810\n",
      "\n"
     ]
    }
   ],
   "source": [
    "rcv_pred = results_dict['xgbc_rcv']['classifier'].predict(tst_x)\n",
    "print(classification_report(tst_y, rcv_pred))"
   ]
  },
  {
   "cell_type": "code",
   "execution_count": 350,
   "id": "977bfdd2",
   "metadata": {},
   "outputs": [
    {
     "name": "stdout",
     "output_type": "stream",
     "text": [
      "              precision    recall  f1-score   support\n",
      "\n",
      "           0       0.96      1.00      0.98      4434\n",
      "           1       0.94      0.55      0.69       376\n",
      "\n",
      "    accuracy                           0.96      4810\n",
      "   macro avg       0.95      0.77      0.84      4810\n",
      "weighted avg       0.96      0.96      0.96      4810\n",
      "\n"
     ]
    }
   ],
   "source": [
    "bcv_pred = results_dict['xgbc_bcv']['classifier'].predict(tst_x)\n",
    "print(classification_report(tst_y, bcv_pred))"
   ]
  },
  {
   "cell_type": "markdown",
   "id": "c18bcf8a",
   "metadata": {},
   "source": [
    "## Neglecting the Assumption"
   ]
  },
  {
   "cell_type": "code",
   "execution_count": 353,
   "id": "b10e394e",
   "metadata": {},
   "outputs": [
    {
     "data": {
      "text/html": [
       "<div>\n",
       "<style scoped>\n",
       "    .dataframe tbody tr th:only-of-type {\n",
       "        vertical-align: middle;\n",
       "    }\n",
       "\n",
       "    .dataframe tbody tr th {\n",
       "        vertical-align: top;\n",
       "    }\n",
       "\n",
       "    .dataframe thead th {\n",
       "        text-align: right;\n",
       "    }\n",
       "</style>\n",
       "<table border=\"1\" class=\"dataframe\">\n",
       "  <thead>\n",
       "    <tr style=\"text-align: right;\">\n",
       "      <th></th>\n",
       "      <th>id</th>\n",
       "      <th>created_at</th>\n",
       "      <th>campaign_var_1</th>\n",
       "      <th>campaign_var_2</th>\n",
       "      <th>products_purchased</th>\n",
       "      <th>signup_date</th>\n",
       "      <th>user_activity_var_1</th>\n",
       "      <th>user_activity_var_2</th>\n",
       "      <th>user_activity_var_3</th>\n",
       "      <th>user_activity_var_4</th>\n",
       "      <th>user_activity_var_5</th>\n",
       "      <th>user_activity_var_6</th>\n",
       "      <th>user_activity_var_7</th>\n",
       "      <th>user_activity_var_8</th>\n",
       "      <th>user_activity_var_9</th>\n",
       "      <th>user_activity_var_10</th>\n",
       "      <th>user_activity_var_11</th>\n",
       "      <th>user_activity_var_12</th>\n",
       "      <th>buy</th>\n",
       "    </tr>\n",
       "  </thead>\n",
       "  <tbody>\n",
       "    <tr>\n",
       "      <th>0</th>\n",
       "      <td>1</td>\n",
       "      <td>2021-01-01</td>\n",
       "      <td>1</td>\n",
       "      <td>2</td>\n",
       "      <td>2.0</td>\n",
       "      <td>2020-09-24</td>\n",
       "      <td>0</td>\n",
       "      <td>0</td>\n",
       "      <td>0</td>\n",
       "      <td>0</td>\n",
       "      <td>0</td>\n",
       "      <td>0</td>\n",
       "      <td>1</td>\n",
       "      <td>1</td>\n",
       "      <td>0</td>\n",
       "      <td>0</td>\n",
       "      <td>0</td>\n",
       "      <td>0</td>\n",
       "      <td>0</td>\n",
       "    </tr>\n",
       "    <tr>\n",
       "      <th>1</th>\n",
       "      <td>2</td>\n",
       "      <td>2021-01-01</td>\n",
       "      <td>2</td>\n",
       "      <td>1</td>\n",
       "      <td>2.0</td>\n",
       "      <td>2020-09-19</td>\n",
       "      <td>1</td>\n",
       "      <td>0</td>\n",
       "      <td>1</td>\n",
       "      <td>0</td>\n",
       "      <td>0</td>\n",
       "      <td>0</td>\n",
       "      <td>1</td>\n",
       "      <td>0</td>\n",
       "      <td>0</td>\n",
       "      <td>0</td>\n",
       "      <td>0</td>\n",
       "      <td>0</td>\n",
       "      <td>0</td>\n",
       "    </tr>\n",
       "    <tr>\n",
       "      <th>2</th>\n",
       "      <td>3</td>\n",
       "      <td>2021-01-01</td>\n",
       "      <td>9</td>\n",
       "      <td>3</td>\n",
       "      <td>3.0</td>\n",
       "      <td>2021-08-11</td>\n",
       "      <td>1</td>\n",
       "      <td>0</td>\n",
       "      <td>0</td>\n",
       "      <td>0</td>\n",
       "      <td>0</td>\n",
       "      <td>0</td>\n",
       "      <td>0</td>\n",
       "      <td>0</td>\n",
       "      <td>0</td>\n",
       "      <td>0</td>\n",
       "      <td>0</td>\n",
       "      <td>0</td>\n",
       "      <td>0</td>\n",
       "    </tr>\n",
       "    <tr>\n",
       "      <th>3</th>\n",
       "      <td>4</td>\n",
       "      <td>2021-01-01</td>\n",
       "      <td>6</td>\n",
       "      <td>7</td>\n",
       "      <td>2.0</td>\n",
       "      <td>2017-10-04</td>\n",
       "      <td>0</td>\n",
       "      <td>0</td>\n",
       "      <td>0</td>\n",
       "      <td>0</td>\n",
       "      <td>0</td>\n",
       "      <td>0</td>\n",
       "      <td>0</td>\n",
       "      <td>0</td>\n",
       "      <td>0</td>\n",
       "      <td>0</td>\n",
       "      <td>0</td>\n",
       "      <td>0</td>\n",
       "      <td>0</td>\n",
       "    </tr>\n",
       "    <tr>\n",
       "      <th>4</th>\n",
       "      <td>5</td>\n",
       "      <td>2021-01-01</td>\n",
       "      <td>4</td>\n",
       "      <td>6</td>\n",
       "      <td>NaN</td>\n",
       "      <td>2020-06-08</td>\n",
       "      <td>0</td>\n",
       "      <td>0</td>\n",
       "      <td>0</td>\n",
       "      <td>0</td>\n",
       "      <td>0</td>\n",
       "      <td>0</td>\n",
       "      <td>1</td>\n",
       "      <td>0</td>\n",
       "      <td>0</td>\n",
       "      <td>0</td>\n",
       "      <td>1</td>\n",
       "      <td>0</td>\n",
       "      <td>0</td>\n",
       "    </tr>\n",
       "  </tbody>\n",
       "</table>\n",
       "</div>"
      ],
      "text/plain": [
       "   id  created_at  campaign_var_1  campaign_var_2  products_purchased  \\\n",
       "0   1  2021-01-01               1               2                 2.0   \n",
       "1   2  2021-01-01               2               1                 2.0   \n",
       "2   3  2021-01-01               9               3                 3.0   \n",
       "3   4  2021-01-01               6               7                 2.0   \n",
       "4   5  2021-01-01               4               6                 NaN   \n",
       "\n",
       "  signup_date  user_activity_var_1  user_activity_var_2  user_activity_var_3  \\\n",
       "0  2020-09-24                    0                    0                    0   \n",
       "1  2020-09-19                    1                    0                    1   \n",
       "2  2021-08-11                    1                    0                    0   \n",
       "3  2017-10-04                    0                    0                    0   \n",
       "4  2020-06-08                    0                    0                    0   \n",
       "\n",
       "   user_activity_var_4  user_activity_var_5  user_activity_var_6  \\\n",
       "0                    0                    0                    0   \n",
       "1                    0                    0                    0   \n",
       "2                    0                    0                    0   \n",
       "3                    0                    0                    0   \n",
       "4                    0                    0                    0   \n",
       "\n",
       "   user_activity_var_7  user_activity_var_8  user_activity_var_9  \\\n",
       "0                    1                    1                    0   \n",
       "1                    1                    0                    0   \n",
       "2                    0                    0                    0   \n",
       "3                    0                    0                    0   \n",
       "4                    1                    0                    0   \n",
       "\n",
       "   user_activity_var_10  user_activity_var_11  user_activity_var_12  buy  \n",
       "0                     0                     0                     0    0  \n",
       "1                     0                     0                     0    0  \n",
       "2                     0                     0                     0    0  \n",
       "3                     0                     0                     0    0  \n",
       "4                     0                     1                     0    0  "
      ]
     },
     "execution_count": 353,
     "metadata": {},
     "output_type": "execute_result"
    }
   ],
   "source": [
    "train.head()"
   ]
  },
  {
   "cell_type": "code",
   "execution_count": 354,
   "id": "26824faf",
   "metadata": {},
   "outputs": [
    {
     "name": "stdout",
     "output_type": "stream",
     "text": [
      "<class 'pandas.core.frame.DataFrame'>\n",
      "Int64Index: 35292 entries, 0 to 39160\n",
      "Data columns (total 19 columns):\n",
      " #   Column                Non-Null Count  Dtype  \n",
      "---  ------                --------------  -----  \n",
      " 0   id                    35292 non-null  int64  \n",
      " 1   created_at            35292 non-null  object \n",
      " 2   campaign_var_1        35292 non-null  int64  \n",
      " 3   campaign_var_2        35292 non-null  int64  \n",
      " 4   products_purchased    14398 non-null  float64\n",
      " 5   signup_date           24048 non-null  object \n",
      " 6   user_activity_var_1   35292 non-null  int64  \n",
      " 7   user_activity_var_2   35292 non-null  int64  \n",
      " 8   user_activity_var_3   35292 non-null  int64  \n",
      " 9   user_activity_var_4   35292 non-null  int64  \n",
      " 10  user_activity_var_5   35292 non-null  int64  \n",
      " 11  user_activity_var_6   35292 non-null  int64  \n",
      " 12  user_activity_var_7   35292 non-null  int64  \n",
      " 13  user_activity_var_8   35292 non-null  int64  \n",
      " 14  user_activity_var_9   35292 non-null  int64  \n",
      " 15  user_activity_var_10  35292 non-null  int64  \n",
      " 16  user_activity_var_11  35292 non-null  int64  \n",
      " 17  user_activity_var_12  35292 non-null  int64  \n",
      " 18  buy                   35292 non-null  int64  \n",
      "dtypes: float64(1), int64(16), object(2)\n",
      "memory usage: 6.4+ MB\n"
     ]
    }
   ],
   "source": [
    "train.info()"
   ]
  },
  {
   "cell_type": "code",
   "execution_count": 355,
   "id": "b599ebe5",
   "metadata": {},
   "outputs": [
    {
     "data": {
      "text/html": [
       "<div>\n",
       "<style scoped>\n",
       "    .dataframe tbody tr th:only-of-type {\n",
       "        vertical-align: middle;\n",
       "    }\n",
       "\n",
       "    .dataframe tbody tr th {\n",
       "        vertical-align: top;\n",
       "    }\n",
       "\n",
       "    .dataframe thead th {\n",
       "        text-align: right;\n",
       "    }\n",
       "</style>\n",
       "<table border=\"1\" class=\"dataframe\">\n",
       "  <thead>\n",
       "    <tr style=\"text-align: right;\">\n",
       "      <th></th>\n",
       "      <th>id</th>\n",
       "      <th>campaign_var_1</th>\n",
       "      <th>campaign_var_2</th>\n",
       "      <th>products_purchased</th>\n",
       "      <th>user_activity_var_1</th>\n",
       "      <th>user_activity_var_2</th>\n",
       "      <th>user_activity_var_3</th>\n",
       "      <th>user_activity_var_4</th>\n",
       "      <th>user_activity_var_5</th>\n",
       "      <th>user_activity_var_6</th>\n",
       "      <th>user_activity_var_7</th>\n",
       "      <th>user_activity_var_8</th>\n",
       "      <th>user_activity_var_9</th>\n",
       "      <th>user_activity_var_10</th>\n",
       "      <th>user_activity_var_11</th>\n",
       "      <th>user_activity_var_12</th>\n",
       "      <th>buy</th>\n",
       "    </tr>\n",
       "  </thead>\n",
       "  <tbody>\n",
       "    <tr>\n",
       "      <th>count</th>\n",
       "      <td>35292.000000</td>\n",
       "      <td>35292.000000</td>\n",
       "      <td>35292.000000</td>\n",
       "      <td>14398.000000</td>\n",
       "      <td>35292.000000</td>\n",
       "      <td>35292.000000</td>\n",
       "      <td>35292.000000</td>\n",
       "      <td>35292.000000</td>\n",
       "      <td>35292.000000</td>\n",
       "      <td>35292.00000</td>\n",
       "      <td>35292.000000</td>\n",
       "      <td>35292.000000</td>\n",
       "      <td>35292.000000</td>\n",
       "      <td>35292.000000</td>\n",
       "      <td>35292.000000</td>\n",
       "      <td>35292.000000</td>\n",
       "      <td>35292.000000</td>\n",
       "    </tr>\n",
       "    <tr>\n",
       "      <th>mean</th>\n",
       "      <td>19495.893432</td>\n",
       "      <td>6.504987</td>\n",
       "      <td>6.407344</td>\n",
       "      <td>2.152452</td>\n",
       "      <td>0.400346</td>\n",
       "      <td>0.007282</td>\n",
       "      <td>0.102686</td>\n",
       "      <td>0.012524</td>\n",
       "      <td>0.152697</td>\n",
       "      <td>0.50527</td>\n",
       "      <td>0.287856</td>\n",
       "      <td>0.169103</td>\n",
       "      <td>0.012552</td>\n",
       "      <td>0.000425</td>\n",
       "      <td>0.221353</td>\n",
       "      <td>0.000595</td>\n",
       "      <td>0.055905</td>\n",
       "    </tr>\n",
       "    <tr>\n",
       "      <th>std</th>\n",
       "      <td>11323.567304</td>\n",
       "      <td>3.474108</td>\n",
       "      <td>2.608676</td>\n",
       "      <td>0.782189</td>\n",
       "      <td>0.509981</td>\n",
       "      <td>0.085025</td>\n",
       "      <td>0.303553</td>\n",
       "      <td>0.111210</td>\n",
       "      <td>0.360959</td>\n",
       "      <td>0.56007</td>\n",
       "      <td>0.456447</td>\n",
       "      <td>0.375000</td>\n",
       "      <td>0.111334</td>\n",
       "      <td>0.020612</td>\n",
       "      <td>0.434963</td>\n",
       "      <td>0.024386</td>\n",
       "      <td>0.229741</td>\n",
       "    </tr>\n",
       "    <tr>\n",
       "      <th>min</th>\n",
       "      <td>1.000000</td>\n",
       "      <td>1.000000</td>\n",
       "      <td>1.000000</td>\n",
       "      <td>1.000000</td>\n",
       "      <td>0.000000</td>\n",
       "      <td>0.000000</td>\n",
       "      <td>0.000000</td>\n",
       "      <td>0.000000</td>\n",
       "      <td>0.000000</td>\n",
       "      <td>0.00000</td>\n",
       "      <td>0.000000</td>\n",
       "      <td>0.000000</td>\n",
       "      <td>0.000000</td>\n",
       "      <td>0.000000</td>\n",
       "      <td>0.000000</td>\n",
       "      <td>0.000000</td>\n",
       "      <td>0.000000</td>\n",
       "    </tr>\n",
       "    <tr>\n",
       "      <th>25%</th>\n",
       "      <td>9670.750000</td>\n",
       "      <td>4.000000</td>\n",
       "      <td>5.000000</td>\n",
       "      <td>2.000000</td>\n",
       "      <td>0.000000</td>\n",
       "      <td>0.000000</td>\n",
       "      <td>0.000000</td>\n",
       "      <td>0.000000</td>\n",
       "      <td>0.000000</td>\n",
       "      <td>0.00000</td>\n",
       "      <td>0.000000</td>\n",
       "      <td>0.000000</td>\n",
       "      <td>0.000000</td>\n",
       "      <td>0.000000</td>\n",
       "      <td>0.000000</td>\n",
       "      <td>0.000000</td>\n",
       "      <td>0.000000</td>\n",
       "    </tr>\n",
       "    <tr>\n",
       "      <th>50%</th>\n",
       "      <td>19449.500000</td>\n",
       "      <td>6.000000</td>\n",
       "      <td>6.000000</td>\n",
       "      <td>2.000000</td>\n",
       "      <td>0.000000</td>\n",
       "      <td>0.000000</td>\n",
       "      <td>0.000000</td>\n",
       "      <td>0.000000</td>\n",
       "      <td>0.000000</td>\n",
       "      <td>0.00000</td>\n",
       "      <td>0.000000</td>\n",
       "      <td>0.000000</td>\n",
       "      <td>0.000000</td>\n",
       "      <td>0.000000</td>\n",
       "      <td>0.000000</td>\n",
       "      <td>0.000000</td>\n",
       "      <td>0.000000</td>\n",
       "    </tr>\n",
       "    <tr>\n",
       "      <th>75%</th>\n",
       "      <td>29286.250000</td>\n",
       "      <td>9.000000</td>\n",
       "      <td>8.000000</td>\n",
       "      <td>3.000000</td>\n",
       "      <td>1.000000</td>\n",
       "      <td>0.000000</td>\n",
       "      <td>0.000000</td>\n",
       "      <td>0.000000</td>\n",
       "      <td>0.000000</td>\n",
       "      <td>1.00000</td>\n",
       "      <td>1.000000</td>\n",
       "      <td>0.000000</td>\n",
       "      <td>0.000000</td>\n",
       "      <td>0.000000</td>\n",
       "      <td>0.000000</td>\n",
       "      <td>0.000000</td>\n",
       "      <td>0.000000</td>\n",
       "    </tr>\n",
       "    <tr>\n",
       "      <th>max</th>\n",
       "      <td>39161.000000</td>\n",
       "      <td>16.000000</td>\n",
       "      <td>15.000000</td>\n",
       "      <td>4.000000</td>\n",
       "      <td>3.000000</td>\n",
       "      <td>1.000000</td>\n",
       "      <td>1.000000</td>\n",
       "      <td>1.000000</td>\n",
       "      <td>2.000000</td>\n",
       "      <td>3.00000</td>\n",
       "      <td>2.000000</td>\n",
       "      <td>2.000000</td>\n",
       "      <td>1.000000</td>\n",
       "      <td>1.000000</td>\n",
       "      <td>4.000000</td>\n",
       "      <td>1.000000</td>\n",
       "      <td>1.000000</td>\n",
       "    </tr>\n",
       "  </tbody>\n",
       "</table>\n",
       "</div>"
      ],
      "text/plain": [
       "                 id  campaign_var_1  campaign_var_2  products_purchased  \\\n",
       "count  35292.000000    35292.000000    35292.000000        14398.000000   \n",
       "mean   19495.893432        6.504987        6.407344            2.152452   \n",
       "std    11323.567304        3.474108        2.608676            0.782189   \n",
       "min        1.000000        1.000000        1.000000            1.000000   \n",
       "25%     9670.750000        4.000000        5.000000            2.000000   \n",
       "50%    19449.500000        6.000000        6.000000            2.000000   \n",
       "75%    29286.250000        9.000000        8.000000            3.000000   \n",
       "max    39161.000000       16.000000       15.000000            4.000000   \n",
       "\n",
       "       user_activity_var_1  user_activity_var_2  user_activity_var_3  \\\n",
       "count         35292.000000         35292.000000         35292.000000   \n",
       "mean              0.400346             0.007282             0.102686   \n",
       "std               0.509981             0.085025             0.303553   \n",
       "min               0.000000             0.000000             0.000000   \n",
       "25%               0.000000             0.000000             0.000000   \n",
       "50%               0.000000             0.000000             0.000000   \n",
       "75%               1.000000             0.000000             0.000000   \n",
       "max               3.000000             1.000000             1.000000   \n",
       "\n",
       "       user_activity_var_4  user_activity_var_5  user_activity_var_6  \\\n",
       "count         35292.000000         35292.000000          35292.00000   \n",
       "mean              0.012524             0.152697              0.50527   \n",
       "std               0.111210             0.360959              0.56007   \n",
       "min               0.000000             0.000000              0.00000   \n",
       "25%               0.000000             0.000000              0.00000   \n",
       "50%               0.000000             0.000000              0.00000   \n",
       "75%               0.000000             0.000000              1.00000   \n",
       "max               1.000000             2.000000              3.00000   \n",
       "\n",
       "       user_activity_var_7  user_activity_var_8  user_activity_var_9  \\\n",
       "count         35292.000000         35292.000000         35292.000000   \n",
       "mean              0.287856             0.169103             0.012552   \n",
       "std               0.456447             0.375000             0.111334   \n",
       "min               0.000000             0.000000             0.000000   \n",
       "25%               0.000000             0.000000             0.000000   \n",
       "50%               0.000000             0.000000             0.000000   \n",
       "75%               1.000000             0.000000             0.000000   \n",
       "max               2.000000             2.000000             1.000000   \n",
       "\n",
       "       user_activity_var_10  user_activity_var_11  user_activity_var_12  \\\n",
       "count          35292.000000          35292.000000          35292.000000   \n",
       "mean               0.000425              0.221353              0.000595   \n",
       "std                0.020612              0.434963              0.024386   \n",
       "min                0.000000              0.000000              0.000000   \n",
       "25%                0.000000              0.000000              0.000000   \n",
       "50%                0.000000              0.000000              0.000000   \n",
       "75%                0.000000              0.000000              0.000000   \n",
       "max                1.000000              4.000000              1.000000   \n",
       "\n",
       "                buy  \n",
       "count  35292.000000  \n",
       "mean       0.055905  \n",
       "std        0.229741  \n",
       "min        0.000000  \n",
       "25%        0.000000  \n",
       "50%        0.000000  \n",
       "75%        0.000000  \n",
       "max        1.000000  "
      ]
     },
     "execution_count": 355,
     "metadata": {},
     "output_type": "execute_result"
    }
   ],
   "source": [
    "train.describe()"
   ]
  },
  {
   "cell_type": "code",
   "execution_count": 356,
   "id": "0b6f22a3",
   "metadata": {},
   "outputs": [
    {
     "data": {
      "text/plain": [
       "id                          0\n",
       "created_at                  0\n",
       "campaign_var_1              0\n",
       "campaign_var_2              0\n",
       "products_purchased      20894\n",
       "signup_date             11244\n",
       "user_activity_var_1         0\n",
       "user_activity_var_2         0\n",
       "user_activity_var_3         0\n",
       "user_activity_var_4         0\n",
       "user_activity_var_5         0\n",
       "user_activity_var_6         0\n",
       "user_activity_var_7         0\n",
       "user_activity_var_8         0\n",
       "user_activity_var_9         0\n",
       "user_activity_var_10        0\n",
       "user_activity_var_11        0\n",
       "user_activity_var_12        0\n",
       "buy                         0\n",
       "dtype: int64"
      ]
     },
     "execution_count": 356,
     "metadata": {},
     "output_type": "execute_result"
    }
   ],
   "source": [
    "train.isna().sum()"
   ]
  },
  {
   "cell_type": "code",
   "execution_count": 358,
   "id": "eed505c9",
   "metadata": {},
   "outputs": [
    {
     "data": {
      "text/plain": [
       "id                          0\n",
       "created_at                  0\n",
       "campaign_var_1              0\n",
       "campaign_var_2              0\n",
       "products_purchased      20911\n",
       "signup_date             15113\n",
       "user_activity_var_1         0\n",
       "user_activity_var_2         0\n",
       "user_activity_var_3         0\n",
       "user_activity_var_4         0\n",
       "user_activity_var_5         0\n",
       "user_activity_var_6         0\n",
       "user_activity_var_7         0\n",
       "user_activity_var_8         0\n",
       "user_activity_var_9         0\n",
       "user_activity_var_10        0\n",
       "user_activity_var_11        0\n",
       "user_activity_var_12        0\n",
       "buy                         0\n",
       "dtype: int64"
      ]
     },
     "execution_count": 358,
     "metadata": {},
     "output_type": "execute_result"
    }
   ],
   "source": [
    "train_df.isna().sum()"
   ]
  },
  {
   "cell_type": "code",
   "execution_count": 608,
   "id": "863e1c0e",
   "metadata": {},
   "outputs": [],
   "source": [
    "train_set = train_df.copy()"
   ]
  },
  {
   "cell_type": "code",
   "execution_count": 609,
   "id": "473e3782",
   "metadata": {},
   "outputs": [],
   "source": [
    "train_set.fillna(0, inplace = True)"
   ]
  },
  {
   "cell_type": "code",
   "execution_count": 610,
   "id": "d4d94764",
   "metadata": {},
   "outputs": [],
   "source": [
    "if train_set['products_purchased'].any==0 and train_set['buy'].any==1:\n",
    "    train_set['products_purchased'].any = train_set['products_purchased'].median()"
   ]
  },
  {
   "cell_type": "code",
   "execution_count": 611,
   "id": "205abbbb",
   "metadata": {},
   "outputs": [],
   "source": [
    "y = train_set['buy']\n",
    "X  = train_set.drop(['created_at', 'id','signup_date','buy'], axis=1)"
   ]
  },
  {
   "cell_type": "code",
   "execution_count": 612,
   "id": "603d209c",
   "metadata": {},
   "outputs": [
    {
     "data": {
      "text/plain": [
       "(39161, 15)"
      ]
     },
     "execution_count": 612,
     "metadata": {},
     "output_type": "execute_result"
    }
   ],
   "source": [
    "X.shape"
   ]
  },
  {
   "cell_type": "code",
   "execution_count": 365,
   "id": "df1e1005",
   "metadata": {},
   "outputs": [],
   "source": [
    "X_train, X_val, y_train, y_val = tst(X,y, test_size=0.2, stratify=y)"
   ]
  },
  {
   "cell_type": "code",
   "execution_count": 371,
   "id": "2ab9de7d",
   "metadata": {},
   "outputs": [
    {
     "name": "stdout",
     "output_type": "stream",
     "text": [
      "[13:04:07] WARNING: C:/Users/Administrator/workspace/xgboost-win64_release_1.5.0/src/learner.cc:1115: Starting in XGBoost 1.3.0, the default evaluation metric used with the objective 'binary:logistic' was changed from 'error' to 'logloss'. Explicitly set eval_metric if you'd like to restore the old behavior.\n"
     ]
    }
   ],
   "source": [
    "xgb = xgb.XGBClassifier().fit(X_train, y_train)"
   ]
  },
  {
   "cell_type": "code",
   "execution_count": 372,
   "id": "e71b32d1",
   "metadata": {},
   "outputs": [],
   "source": [
    "y_prd = xgb.predict(X_val)"
   ]
  },
  {
   "cell_type": "code",
   "execution_count": 373,
   "id": "33488e9f",
   "metadata": {},
   "outputs": [
    {
     "name": "stdout",
     "output_type": "stream",
     "text": [
      "              precision    recall  f1-score   support\n",
      "\n",
      "           0       0.97      1.00      0.99      7433\n",
      "           1       0.95      0.52      0.67       400\n",
      "\n",
      "    accuracy                           0.97      7833\n",
      "   macro avg       0.96      0.76      0.83      7833\n",
      "weighted avg       0.97      0.97      0.97      7833\n",
      "\n"
     ]
    }
   ],
   "source": [
    "print(classification_report(y_val, y_prd))"
   ]
  },
  {
   "cell_type": "code",
   "execution_count": 374,
   "id": "52e6e705",
   "metadata": {},
   "outputs": [],
   "source": [
    "X_test = test.copy()"
   ]
  },
  {
   "cell_type": "code",
   "execution_count": 375,
   "id": "c69e555f",
   "metadata": {},
   "outputs": [],
   "source": [
    "X_test.fillna(0, inplace = True)"
   ]
  },
  {
   "cell_type": "code",
   "execution_count": 376,
   "id": "9bd7092e",
   "metadata": {},
   "outputs": [],
   "source": [
    "if X_test['products_purchased'].any==0:\n",
    "    X_test['products_purchased'].any = X_test['products_purchased'].median()\n",
    "    "
   ]
  },
  {
   "cell_type": "code",
   "execution_count": 378,
   "id": "583fdf69",
   "metadata": {},
   "outputs": [],
   "source": [
    "X_test.drop(['id','created_at','signup_date'], axis=1, inplace= True)"
   ]
  },
  {
   "cell_type": "code",
   "execution_count": 379,
   "id": "7ecdd6d8",
   "metadata": {},
   "outputs": [],
   "source": [
    "test_pred = xgb.predict(X_test)"
   ]
  },
  {
   "cell_type": "code",
   "execution_count": 380,
   "id": "3ba8db52",
   "metadata": {},
   "outputs": [],
   "source": [
    "result = pd.DataFrame()\n",
    "result['id'] = test['id']\n",
    "result['buy'] = test_pred"
   ]
  },
  {
   "cell_type": "code",
   "execution_count": 381,
   "id": "6dde72b2",
   "metadata": {},
   "outputs": [],
   "source": [
    "result.to_csv('resilts.csv', index = False)"
   ]
  },
  {
   "cell_type": "markdown",
   "id": "a4e306e4",
   "metadata": {},
   "source": [
    "## oversampling"
   ]
  },
  {
   "cell_type": "code",
   "execution_count": 393,
   "id": "3958a050",
   "metadata": {},
   "outputs": [],
   "source": [
    "y = train_set['buy']"
   ]
  },
  {
   "cell_type": "code",
   "execution_count": 567,
   "id": "c6dd0d53",
   "metadata": {},
   "outputs": [],
   "source": [
    "# oversampling = SMOTE(0.5)\n",
    "# define pipeline\n",
    "over = SMOTE(sampling_strategy=0.25)\n",
    "under = RandomUnderSampler(sampling_strategy=0.5)\n",
    "steps = [('o', over), ('u', under)]\n",
    "pipeline = Pipeline(steps=steps)\n",
    "# transform the dataset\n",
    "# X, y = pipeline.fit_resample(X, y)\n",
    "X_oversamples,y_oversampled = pipeline.fit_resample(X,y)"
   ]
  },
  {
   "cell_type": "code",
   "execution_count": 568,
   "id": "b1c14440",
   "metadata": {},
   "outputs": [
    {
     "data": {
      "text/plain": [
       "0    18580\n",
       "1     9290\n",
       "Name: buy, dtype: int64"
      ]
     },
     "execution_count": 568,
     "metadata": {},
     "output_type": "execute_result"
    }
   ],
   "source": [
    "y_oversampled.value_counts()"
   ]
  },
  {
   "cell_type": "code",
   "execution_count": 569,
   "id": "b44cf5ba",
   "metadata": {},
   "outputs": [],
   "source": [
    "X_train, X_val, y_train, y_val = tst(X_oversamples,y_oversampled, test_size=0.2,stratify=y_oversampled)"
   ]
  },
  {
   "cell_type": "code",
   "execution_count": 570,
   "id": "ce942c1e",
   "metadata": {},
   "outputs": [
    {
     "name": "stdout",
     "output_type": "stream",
     "text": [
      "[13:43:59] WARNING: C:/Users/Administrator/workspace/xgboost-win64_release_1.5.0/src/learner.cc:1115: Starting in XGBoost 1.3.0, the default evaluation metric used with the objective 'binary:logistic' was changed from 'error' to 'logloss'. Explicitly set eval_metric if you'd like to restore the old behavior.\n"
     ]
    },
    {
     "data": {
      "text/plain": [
       "XGBClassifier(base_score=0.5, booster='gbtree', colsample_bylevel=1,\n",
       "              colsample_bynode=1, colsample_bytree=1, enable_categorical=False,\n",
       "              gamma=0, gpu_id=-1, importance_type=None,\n",
       "              interaction_constraints='', learning_rate=0.300000012,\n",
       "              max_delta_step=0, max_depth=6, min_child_weight=1, missing=nan,\n",
       "              monotone_constraints='()', n_estimators=100, n_jobs=4,\n",
       "              num_parallel_tree=1, predictor='auto', random_state=0,\n",
       "              reg_alpha=0, reg_lambda=1, scale_pos_weight=1, subsample=1,\n",
       "              tree_method='exact', validate_parameters=1, verbosity=None)"
      ]
     },
     "execution_count": 570,
     "metadata": {},
     "output_type": "execute_result"
    }
   ],
   "source": [
    "xgb.fit(X_train, y_train)"
   ]
  },
  {
   "cell_type": "code",
   "execution_count": 571,
   "id": "912762f2",
   "metadata": {},
   "outputs": [],
   "source": [
    "y_pred = xgb.predict(X_val)"
   ]
  },
  {
   "cell_type": "code",
   "execution_count": 572,
   "id": "3b311e67",
   "metadata": {},
   "outputs": [
    {
     "name": "stdout",
     "output_type": "stream",
     "text": [
      "              precision    recall  f1-score   support\n",
      "\n",
      "           0       0.87      0.93      0.90      3716\n",
      "           1       0.84      0.71      0.77      1858\n",
      "\n",
      "    accuracy                           0.86      5574\n",
      "   macro avg       0.85      0.82      0.83      5574\n",
      "weighted avg       0.86      0.86      0.85      5574\n",
      "\n"
     ]
    }
   ],
   "source": [
    "print(classification_report(y_val, y_pred))"
   ]
  },
  {
   "cell_type": "code",
   "execution_count": null,
   "id": "3b655aee",
   "metadata": {},
   "outputs": [],
   "source": []
  },
  {
   "cell_type": "code",
   "execution_count": null,
   "id": "e835e0ad",
   "metadata": {},
   "outputs": [],
   "source": []
  },
  {
   "cell_type": "code",
   "execution_count": 457,
   "id": "d0a5ee96",
   "metadata": {},
   "outputs": [],
   "source": [
    "pred_test = xgb.predict(X_test)"
   ]
  },
  {
   "cell_type": "code",
   "execution_count": 388,
   "id": "55f3768c",
   "metadata": {},
   "outputs": [],
   "source": [
    "predictions = pd.DataFrame()\n",
    "predictions['id'] = test['id']\n",
    "predictions['buy'] = pred_test"
   ]
  },
  {
   "cell_type": "code",
   "execution_count": 389,
   "id": "a2343aa4",
   "metadata": {},
   "outputs": [],
   "source": [
    "predictions.to_csv('predictions.csv', index = False)"
   ]
  },
  {
   "cell_type": "code",
   "execution_count": 575,
   "id": "561ad947",
   "metadata": {},
   "outputs": [
    {
     "data": {
      "text/plain": [
       "<AxesSubplot:xlabel='campaign_var_1', ylabel='products_purchased'>"
      ]
     },
     "execution_count": 575,
     "metadata": {},
     "output_type": "execute_result"
    },
    {
     "data": {
      "image/png": "[encoded data removed]",
      "text/plain": [
       "<Figure size 432x288 with 1 Axes>"
      ]
     },
     "metadata": {
      "needs_background": "light"
     },
     "output_type": "display_data"
    }
   ],
   "source": [
    "sns.boxplot(train_set['campaign_var_1'], train_set['products_purchased'], hue = train_set['buy'])"
   ]
  },
  {
   "cell_type": "code",
   "execution_count": 581,
   "id": "f95305dc",
   "metadata": {},
   "outputs": [
    {
     "data": {
      "text/plain": [
       "716"
      ]
     },
     "execution_count": 581,
     "metadata": {},
     "output_type": "execute_result"
    }
   ],
   "source": [
    "len(train_set[train_set['products_purchased']>3.0])"
   ]
  },
  {
   "cell_type": "code",
   "execution_count": 582,
   "id": "5e5437d5",
   "metadata": {},
   "outputs": [
    {
     "data": {
      "text/plain": [
       "20911"
      ]
     },
     "execution_count": 582,
     "metadata": {},
     "output_type": "execute_result"
    }
   ],
   "source": [
    "len(train_set[train_set['products_purchased']==0])"
   ]
  },
  {
   "cell_type": "code",
   "execution_count": 583,
   "id": "e132274c",
   "metadata": {},
   "outputs": [
    {
     "data": {
      "text/plain": [
       "0    19866\n",
       "1     1045\n",
       "Name: buy, dtype: int64"
      ]
     },
     "execution_count": 583,
     "metadata": {},
     "output_type": "execute_result"
    }
   ],
   "source": [
    "train_set['buy'][train_set['products_purchased']==0].value_counts()"
   ]
  },
  {
   "cell_type": "code",
   "execution_count": 613,
   "id": "0a627219",
   "metadata": {},
   "outputs": [],
   "source": [
    "for i in range(len(train_set['products_purchased'])):\n",
    "    if train_set['products_purchased'][i]==0 and train_set['buy'][i]==1:\n",
    "        train_set['products_purchased'][i]=train_set['products_purchased'].median()"
   ]
  },
  {
   "cell_type": "code",
   "execution_count": 614,
   "id": "6c06c106",
   "metadata": {},
   "outputs": [],
   "source": [
    "y = train_set['buy']\n",
    "X  = train_set.drop(['created_at', 'id','signup_date','buy'], axis=1)"
   ]
  },
  {
   "cell_type": "code",
   "execution_count": 587,
   "id": "a14599fd",
   "metadata": {},
   "outputs": [
    {
     "name": "stdout",
     "output_type": "stream",
     "text": [
      "[14:02:59] WARNING: C:/Users/Administrator/workspace/xgboost-win64_release_1.5.0/src/learner.cc:1115: Starting in XGBoost 1.3.0, the default evaluation metric used with the objective 'binary:logistic' was changed from 'error' to 'logloss'. Explicitly set eval_metric if you'd like to restore the old behavior.\n",
      "              precision    recall  f1-score   support\n",
      "\n",
      "           0       0.98      1.00      0.99      7433\n",
      "           1       0.92      0.58      0.71       400\n",
      "\n",
      "    accuracy                           0.98      7833\n",
      "   macro avg       0.95      0.79      0.85      7833\n",
      "weighted avg       0.97      0.98      0.97      7833\n",
      "\n"
     ]
    }
   ],
   "source": [
    "X.shape\n",
    "\n",
    "X_train, X_val, y_train, y_val = tst(X,y, test_size=0.2, stratify=y)\n",
    "\n",
    "xgb.fit(X_train, y_train)\n",
    "\n",
    "y_prd = xgb.predict(X_val)\n",
    "\n",
    "print(classification_report(y_val, y_prd))"
   ]
  },
  {
   "cell_type": "markdown",
   "id": "7e34a56e",
   "metadata": {},
   "source": [
    "### Try increasing Recall"
   ]
  },
  {
   "cell_type": "code",
   "execution_count": 592,
   "id": "e77d55a7",
   "metadata": {},
   "outputs": [],
   "source": [
    "from xgboost import cv\n",
    "# import XGBoost\n",
    "import xgboost as xgb\n",
    "\n",
    "\n",
    "# define data_dmatrix\n",
    "data_dmatrix = xgb.DMatrix(data=X,label=y)\n",
    "\n",
    "params = {\"objective\":\"binary:logistic\",'colsample_bytree': 0.3,'learning_rate': 0.1,\n",
    "                'max_depth': 5, 'alpha': 10}\n",
    "\n",
    "xgb_cv = cv(dtrain=data_dmatrix, params=params, nfold=3,\n",
    "                    num_boost_round=50, early_stopping_rounds=10, metrics=\"auc\", as_pandas=True, seed=123)"
   ]
  },
  {
   "cell_type": "code",
   "execution_count": 593,
   "id": "5174284c",
   "metadata": {},
   "outputs": [
    {
     "data": {
      "text/html": [
       "<div>\n",
       "<style scoped>\n",
       "    .dataframe tbody tr th:only-of-type {\n",
       "        vertical-align: middle;\n",
       "    }\n",
       "\n",
       "    .dataframe tbody tr th {\n",
       "        vertical-align: top;\n",
       "    }\n",
       "\n",
       "    .dataframe thead th {\n",
       "        text-align: right;\n",
       "    }\n",
       "</style>\n",
       "<table border=\"1\" class=\"dataframe\">\n",
       "  <thead>\n",
       "    <tr style=\"text-align: right;\">\n",
       "      <th></th>\n",
       "      <th>train-auc-mean</th>\n",
       "      <th>train-auc-std</th>\n",
       "      <th>test-auc-mean</th>\n",
       "      <th>test-auc-std</th>\n",
       "    </tr>\n",
       "  </thead>\n",
       "  <tbody>\n",
       "    <tr>\n",
       "      <th>0</th>\n",
       "      <td>0.823839</td>\n",
       "      <td>0.002948</td>\n",
       "      <td>0.823859</td>\n",
       "      <td>0.005916</td>\n",
       "    </tr>\n",
       "    <tr>\n",
       "      <th>1</th>\n",
       "      <td>0.847362</td>\n",
       "      <td>0.014272</td>\n",
       "      <td>0.852293</td>\n",
       "      <td>0.025486</td>\n",
       "    </tr>\n",
       "    <tr>\n",
       "      <th>2</th>\n",
       "      <td>0.865146</td>\n",
       "      <td>0.004169</td>\n",
       "      <td>0.867326</td>\n",
       "      <td>0.018359</td>\n",
       "    </tr>\n",
       "    <tr>\n",
       "      <th>3</th>\n",
       "      <td>0.866618</td>\n",
       "      <td>0.002039</td>\n",
       "      <td>0.868776</td>\n",
       "      <td>0.016155</td>\n",
       "    </tr>\n",
       "    <tr>\n",
       "      <th>4</th>\n",
       "      <td>0.870410</td>\n",
       "      <td>0.008680</td>\n",
       "      <td>0.872254</td>\n",
       "      <td>0.008486</td>\n",
       "    </tr>\n",
       "  </tbody>\n",
       "</table>\n",
       "</div>"
      ],
      "text/plain": [
       "   train-auc-mean  train-auc-std  test-auc-mean  test-auc-std\n",
       "0        0.823839       0.002948       0.823859      0.005916\n",
       "1        0.847362       0.014272       0.852293      0.025486\n",
       "2        0.865146       0.004169       0.867326      0.018359\n",
       "3        0.866618       0.002039       0.868776      0.016155\n",
       "4        0.870410       0.008680       0.872254      0.008486"
      ]
     },
     "execution_count": 593,
     "metadata": {},
     "output_type": "execute_result"
    }
   ],
   "source": [
    "xgb_cv.head()"
   ]
  },
  {
   "cell_type": "code",
   "execution_count": null,
   "id": "a5fa90ce",
   "metadata": {},
   "outputs": [],
   "source": []
  },
  {
   "cell_type": "code",
   "execution_count": 588,
   "id": "e6505eca",
   "metadata": {},
   "outputs": [],
   "source": [
    "y_test = xgb.predict(X_test)"
   ]
  },
  {
   "cell_type": "code",
   "execution_count": 589,
   "id": "5de7560c",
   "metadata": {},
   "outputs": [],
   "source": [
    "result = pd.DataFrame()\n",
    "result['id']= test['id']\n",
    "result['buy']= y_test"
   ]
  },
  {
   "cell_type": "code",
   "execution_count": 590,
   "id": "fb3b125a",
   "metadata": {},
   "outputs": [],
   "source": [
    "result.to_csv('result.csv', index= False)"
   ]
  },
  {
   "cell_type": "code",
   "execution_count": 594,
   "id": "3899cd4a",
   "metadata": {},
   "outputs": [
    {
     "data": {
      "text/plain": [
       "6     4061\n",
       "5     4060\n",
       "4     4018\n",
       "3     3784\n",
       "7     3756\n",
       "2     3486\n",
       "8     3407\n",
       "9     2866\n",
       "10    2392\n",
       "11    1873\n",
       "1     1593\n",
       "12    1455\n",
       "13    1059\n",
       "14     714\n",
       "15     456\n",
       "16     181\n",
       "Name: campaign_var_1, dtype: int64"
      ]
     },
     "execution_count": 594,
     "metadata": {},
     "output_type": "execute_result"
    }
   ],
   "source": [
    "train_set['campaign_var_1'].value_counts()"
   ]
  },
  {
   "cell_type": "code",
   "execution_count": 599,
   "id": "62fc7988",
   "metadata": {},
   "outputs": [],
   "source": [
    "cats = ['campaign_var_1', 'campaign_var_2', 'user_activity_var_1', 'user_activity_var_2', 'user_activity_var_3',\n",
    "       'user_activity_var_4', 'user_activity_var_5', 'user_activity_var_6',\n",
    "       'user_activity_var_7', 'user_activity_var_8', 'user_activity_var_9',\n",
    "       'user_activity_var_10', 'user_activity_var_11', 'user_activity_var_12']"
   ]
  },
  {
   "cell_type": "code",
   "execution_count": 643,
   "id": "6962ad94",
   "metadata": {},
   "outputs": [],
   "source": [
    "# from sklearn.preprocessing import OneHotEncoder\n",
    "# enc = OneHotEncoder(handle_unknown='ignore')\n",
    "# for cat in cats:\n",
    "#     X[cat]=enc.fit_transform(X[cat])"
   ]
  },
  {
   "cell_type": "code",
   "execution_count": 604,
   "id": "ecd88983",
   "metadata": {},
   "outputs": [
    {
     "data": {
      "text/html": [
       "<div>\n",
       "<style scoped>\n",
       "    .dataframe tbody tr th:only-of-type {\n",
       "        vertical-align: middle;\n",
       "    }\n",
       "\n",
       "    .dataframe tbody tr th {\n",
       "        vertical-align: top;\n",
       "    }\n",
       "\n",
       "    .dataframe thead th {\n",
       "        text-align: right;\n",
       "    }\n",
       "</style>\n",
       "<table border=\"1\" class=\"dataframe\">\n",
       "  <thead>\n",
       "    <tr style=\"text-align: right;\">\n",
       "      <th></th>\n",
       "      <th>campaign_var_1</th>\n",
       "      <th>campaign_var_2</th>\n",
       "      <th>products_purchased</th>\n",
       "      <th>user_activity_var_1</th>\n",
       "      <th>user_activity_var_2</th>\n",
       "      <th>user_activity_var_3</th>\n",
       "      <th>user_activity_var_4</th>\n",
       "      <th>user_activity_var_5</th>\n",
       "      <th>user_activity_var_6</th>\n",
       "      <th>user_activity_var_7</th>\n",
       "      <th>user_activity_var_8</th>\n",
       "      <th>user_activity_var_9</th>\n",
       "      <th>user_activity_var_10</th>\n",
       "      <th>user_activity_var_11</th>\n",
       "      <th>user_activity_var_12</th>\n",
       "    </tr>\n",
       "  </thead>\n",
       "  <tbody>\n",
       "    <tr>\n",
       "      <th>0</th>\n",
       "      <td>0</td>\n",
       "      <td>1</td>\n",
       "      <td>2.0</td>\n",
       "      <td>0</td>\n",
       "      <td>0</td>\n",
       "      <td>0</td>\n",
       "      <td>0</td>\n",
       "      <td>0</td>\n",
       "      <td>0</td>\n",
       "      <td>1</td>\n",
       "      <td>1</td>\n",
       "      <td>0</td>\n",
       "      <td>0</td>\n",
       "      <td>0</td>\n",
       "      <td>0</td>\n",
       "    </tr>\n",
       "    <tr>\n",
       "      <th>1</th>\n",
       "      <td>1</td>\n",
       "      <td>0</td>\n",
       "      <td>2.0</td>\n",
       "      <td>1</td>\n",
       "      <td>0</td>\n",
       "      <td>1</td>\n",
       "      <td>0</td>\n",
       "      <td>0</td>\n",
       "      <td>0</td>\n",
       "      <td>1</td>\n",
       "      <td>0</td>\n",
       "      <td>0</td>\n",
       "      <td>0</td>\n",
       "      <td>0</td>\n",
       "      <td>0</td>\n",
       "    </tr>\n",
       "    <tr>\n",
       "      <th>2</th>\n",
       "      <td>1</td>\n",
       "      <td>1</td>\n",
       "      <td>3.0</td>\n",
       "      <td>1</td>\n",
       "      <td>0</td>\n",
       "      <td>0</td>\n",
       "      <td>0</td>\n",
       "      <td>0</td>\n",
       "      <td>0</td>\n",
       "      <td>0</td>\n",
       "      <td>0</td>\n",
       "      <td>0</td>\n",
       "      <td>0</td>\n",
       "      <td>0</td>\n",
       "      <td>0</td>\n",
       "    </tr>\n",
       "    <tr>\n",
       "      <th>3</th>\n",
       "      <td>1</td>\n",
       "      <td>1</td>\n",
       "      <td>2.0</td>\n",
       "      <td>0</td>\n",
       "      <td>0</td>\n",
       "      <td>0</td>\n",
       "      <td>0</td>\n",
       "      <td>0</td>\n",
       "      <td>0</td>\n",
       "      <td>0</td>\n",
       "      <td>0</td>\n",
       "      <td>0</td>\n",
       "      <td>0</td>\n",
       "      <td>0</td>\n",
       "      <td>0</td>\n",
       "    </tr>\n",
       "    <tr>\n",
       "      <th>4</th>\n",
       "      <td>1</td>\n",
       "      <td>1</td>\n",
       "      <td>0.0</td>\n",
       "      <td>0</td>\n",
       "      <td>0</td>\n",
       "      <td>0</td>\n",
       "      <td>0</td>\n",
       "      <td>0</td>\n",
       "      <td>0</td>\n",
       "      <td>1</td>\n",
       "      <td>0</td>\n",
       "      <td>0</td>\n",
       "      <td>0</td>\n",
       "      <td>1</td>\n",
       "      <td>0</td>\n",
       "    </tr>\n",
       "  </tbody>\n",
       "</table>\n",
       "</div>"
      ],
      "text/plain": [
       "   campaign_var_1  campaign_var_2  products_purchased  user_activity_var_1  \\\n",
       "0               0               1                 2.0                    0   \n",
       "1               1               0                 2.0                    1   \n",
       "2               1               1                 3.0                    1   \n",
       "3               1               1                 2.0                    0   \n",
       "4               1               1                 0.0                    0   \n",
       "\n",
       "   user_activity_var_2  user_activity_var_3  user_activity_var_4  \\\n",
       "0                    0                    0                    0   \n",
       "1                    0                    1                    0   \n",
       "2                    0                    0                    0   \n",
       "3                    0                    0                    0   \n",
       "4                    0                    0                    0   \n",
       "\n",
       "   user_activity_var_5  user_activity_var_6  user_activity_var_7  \\\n",
       "0                    0                    0                    1   \n",
       "1                    0                    0                    1   \n",
       "2                    0                    0                    0   \n",
       "3                    0                    0                    0   \n",
       "4                    0                    0                    1   \n",
       "\n",
       "   user_activity_var_8  user_activity_var_9  user_activity_var_10  \\\n",
       "0                    1                    0                     0   \n",
       "1                    0                    0                     0   \n",
       "2                    0                    0                     0   \n",
       "3                    0                    0                     0   \n",
       "4                    0                    0                     0   \n",
       "\n",
       "   user_activity_var_11  user_activity_var_12  \n",
       "0                     0                     0  \n",
       "1                     0                     0  \n",
       "2                     0                     0  \n",
       "3                     0                     0  \n",
       "4                     1                     0  "
      ]
     },
     "execution_count": 604,
     "metadata": {},
     "output_type": "execute_result"
    }
   ],
   "source": [
    "X.head()"
   ]
  },
  {
   "cell_type": "code",
   "execution_count": 605,
   "id": "1e938972",
   "metadata": {},
   "outputs": [
    {
     "data": {
      "text/plain": [
       "1    37568\n",
       "0     1593\n",
       "Name: campaign_var_1, dtype: int64"
      ]
     },
     "execution_count": 605,
     "metadata": {},
     "output_type": "execute_result"
    }
   ],
   "source": [
    "X['campaign_var_1'].value_counts()"
   ]
  },
  {
   "cell_type": "code",
   "execution_count": 607,
   "id": "3aa201b0",
   "metadata": {},
   "outputs": [
    {
     "name": "stdout",
     "output_type": "stream",
     "text": [
      "[14:38:51] WARNING: C:/Users/Administrator/workspace/xgboost-win64_release_1.5.0/src/learner.cc:1115: Starting in XGBoost 1.3.0, the default evaluation metric used with the objective 'binary:logistic' was changed from 'error' to 'logloss'. Explicitly set eval_metric if you'd like to restore the old behavior.\n",
      "              precision    recall  f1-score   support\n",
      "\n",
      "           0       0.97      1.00      0.98      7433\n",
      "           1       0.94      0.44      0.60       400\n",
      "\n",
      "    accuracy                           0.97      7833\n",
      "   macro avg       0.95      0.72      0.79      7833\n",
      "weighted avg       0.97      0.97      0.96      7833\n",
      "\n"
     ]
    }
   ],
   "source": [
    "X.shape\n",
    "\n",
    "X_train, X_val, y_train, y_val = tst(X,y, test_size=0.2, stratify=y)\n",
    "xgb = xgb.XGBClassifier()\n",
    "xgb.fit(X_train, y_train)\n",
    "\n",
    "y_prd = xgb.predict(X_val)\n",
    "\n",
    "print(classification_report(y_val, y_prd))"
   ]
  },
  {
   "cell_type": "code",
   "execution_count": 618,
   "id": "e4ec576f",
   "metadata": {},
   "outputs": [
    {
     "name": "stdout",
     "output_type": "stream",
     "text": [
      "[[7421   12]\n",
      " [ 224  176]]\n"
     ]
    }
   ],
   "source": [
    "print(confusion_matrix(y_val, y_prd))"
   ]
  },
  {
   "cell_type": "code",
   "execution_count": 619,
   "id": "c6ba4d9f",
   "metadata": {},
   "outputs": [],
   "source": [
    "recall = pd.DataFrame()\n",
    "recall['y_val'] = y_val\n",
    "recall['y_prd'] = y_prd"
   ]
  },
  {
   "cell_type": "code",
   "execution_count": 620,
   "id": "596586e9",
   "metadata": {},
   "outputs": [
    {
     "data": {
      "text/html": [
       "<div>\n",
       "<style scoped>\n",
       "    .dataframe tbody tr th:only-of-type {\n",
       "        vertical-align: middle;\n",
       "    }\n",
       "\n",
       "    .dataframe tbody tr th {\n",
       "        vertical-align: top;\n",
       "    }\n",
       "\n",
       "    .dataframe thead th {\n",
       "        text-align: right;\n",
       "    }\n",
       "</style>\n",
       "<table border=\"1\" class=\"dataframe\">\n",
       "  <thead>\n",
       "    <tr style=\"text-align: right;\">\n",
       "      <th></th>\n",
       "      <th>y_val</th>\n",
       "      <th>y_prd</th>\n",
       "    </tr>\n",
       "  </thead>\n",
       "  <tbody>\n",
       "    <tr>\n",
       "      <th>12892</th>\n",
       "      <td>0</td>\n",
       "      <td>0</td>\n",
       "    </tr>\n",
       "    <tr>\n",
       "      <th>105</th>\n",
       "      <td>0</td>\n",
       "      <td>0</td>\n",
       "    </tr>\n",
       "    <tr>\n",
       "      <th>37027</th>\n",
       "      <td>0</td>\n",
       "      <td>0</td>\n",
       "    </tr>\n",
       "    <tr>\n",
       "      <th>22884</th>\n",
       "      <td>0</td>\n",
       "      <td>0</td>\n",
       "    </tr>\n",
       "    <tr>\n",
       "      <th>11472</th>\n",
       "      <td>0</td>\n",
       "      <td>0</td>\n",
       "    </tr>\n",
       "    <tr>\n",
       "      <th>...</th>\n",
       "      <td>...</td>\n",
       "      <td>...</td>\n",
       "    </tr>\n",
       "    <tr>\n",
       "      <th>16452</th>\n",
       "      <td>0</td>\n",
       "      <td>0</td>\n",
       "    </tr>\n",
       "    <tr>\n",
       "      <th>28265</th>\n",
       "      <td>0</td>\n",
       "      <td>0</td>\n",
       "    </tr>\n",
       "    <tr>\n",
       "      <th>21879</th>\n",
       "      <td>0</td>\n",
       "      <td>0</td>\n",
       "    </tr>\n",
       "    <tr>\n",
       "      <th>34866</th>\n",
       "      <td>0</td>\n",
       "      <td>0</td>\n",
       "    </tr>\n",
       "    <tr>\n",
       "      <th>6484</th>\n",
       "      <td>1</td>\n",
       "      <td>1</td>\n",
       "    </tr>\n",
       "  </tbody>\n",
       "</table>\n",
       "<p>7833 rows × 2 columns</p>\n",
       "</div>"
      ],
      "text/plain": [
       "       y_val  y_prd\n",
       "12892      0      0\n",
       "105        0      0\n",
       "37027      0      0\n",
       "22884      0      0\n",
       "11472      0      0\n",
       "...      ...    ...\n",
       "16452      0      0\n",
       "28265      0      0\n",
       "21879      0      0\n",
       "34866      0      0\n",
       "6484       1      1\n",
       "\n",
       "[7833 rows x 2 columns]"
      ]
     },
     "execution_count": 620,
     "metadata": {},
     "output_type": "execute_result"
    }
   ],
   "source": [
    "recall"
   ]
  },
  {
   "cell_type": "code",
   "execution_count": 633,
   "id": "050e2a65",
   "metadata": {},
   "outputs": [],
   "source": [
    "one = recall[recall['y_val']==1]"
   ]
  },
  {
   "cell_type": "code",
   "execution_count": 635,
   "id": "5207156a",
   "metadata": {},
   "outputs": [],
   "source": [
    "one_zero = one[one['y_prd']==0]"
   ]
  },
  {
   "cell_type": "code",
   "execution_count": 636,
   "id": "935b77c2",
   "metadata": {},
   "outputs": [
    {
     "data": {
      "text/html": [
       "<div>\n",
       "<style scoped>\n",
       "    .dataframe tbody tr th:only-of-type {\n",
       "        vertical-align: middle;\n",
       "    }\n",
       "\n",
       "    .dataframe tbody tr th {\n",
       "        vertical-align: top;\n",
       "    }\n",
       "\n",
       "    .dataframe thead th {\n",
       "        text-align: right;\n",
       "    }\n",
       "</style>\n",
       "<table border=\"1\" class=\"dataframe\">\n",
       "  <thead>\n",
       "    <tr style=\"text-align: right;\">\n",
       "      <th></th>\n",
       "      <th>campaign_var_1</th>\n",
       "      <th>campaign_var_2</th>\n",
       "      <th>products_purchased</th>\n",
       "      <th>user_activity_var_1</th>\n",
       "      <th>user_activity_var_2</th>\n",
       "      <th>user_activity_var_3</th>\n",
       "      <th>user_activity_var_4</th>\n",
       "      <th>user_activity_var_5</th>\n",
       "      <th>user_activity_var_6</th>\n",
       "      <th>user_activity_var_7</th>\n",
       "      <th>user_activity_var_8</th>\n",
       "      <th>user_activity_var_9</th>\n",
       "      <th>user_activity_var_10</th>\n",
       "      <th>user_activity_var_11</th>\n",
       "      <th>user_activity_var_12</th>\n",
       "    </tr>\n",
       "  </thead>\n",
       "  <tbody>\n",
       "    <tr>\n",
       "      <th>15946</th>\n",
       "      <td>6</td>\n",
       "      <td>5</td>\n",
       "      <td>1.0</td>\n",
       "      <td>0</td>\n",
       "      <td>0</td>\n",
       "      <td>1</td>\n",
       "      <td>0</td>\n",
       "      <td>1</td>\n",
       "      <td>1</td>\n",
       "      <td>1</td>\n",
       "      <td>0</td>\n",
       "      <td>0</td>\n",
       "      <td>0</td>\n",
       "      <td>0</td>\n",
       "      <td>0</td>\n",
       "    </tr>\n",
       "    <tr>\n",
       "      <th>33083</th>\n",
       "      <td>4</td>\n",
       "      <td>5</td>\n",
       "      <td>1.0</td>\n",
       "      <td>1</td>\n",
       "      <td>0</td>\n",
       "      <td>0</td>\n",
       "      <td>0</td>\n",
       "      <td>1</td>\n",
       "      <td>1</td>\n",
       "      <td>1</td>\n",
       "      <td>0</td>\n",
       "      <td>0</td>\n",
       "      <td>0</td>\n",
       "      <td>0</td>\n",
       "      <td>0</td>\n",
       "    </tr>\n",
       "    <tr>\n",
       "      <th>27169</th>\n",
       "      <td>8</td>\n",
       "      <td>7</td>\n",
       "      <td>3.0</td>\n",
       "      <td>2</td>\n",
       "      <td>0</td>\n",
       "      <td>0</td>\n",
       "      <td>0</td>\n",
       "      <td>1</td>\n",
       "      <td>0</td>\n",
       "      <td>0</td>\n",
       "      <td>0</td>\n",
       "      <td>0</td>\n",
       "      <td>0</td>\n",
       "      <td>3</td>\n",
       "      <td>0</td>\n",
       "    </tr>\n",
       "    <tr>\n",
       "      <th>28669</th>\n",
       "      <td>4</td>\n",
       "      <td>4</td>\n",
       "      <td>3.0</td>\n",
       "      <td>1</td>\n",
       "      <td>0</td>\n",
       "      <td>0</td>\n",
       "      <td>0</td>\n",
       "      <td>1</td>\n",
       "      <td>0</td>\n",
       "      <td>0</td>\n",
       "      <td>0</td>\n",
       "      <td>0</td>\n",
       "      <td>0</td>\n",
       "      <td>1</td>\n",
       "      <td>0</td>\n",
       "    </tr>\n",
       "    <tr>\n",
       "      <th>27336</th>\n",
       "      <td>7</td>\n",
       "      <td>4</td>\n",
       "      <td>0.0</td>\n",
       "      <td>0</td>\n",
       "      <td>0</td>\n",
       "      <td>0</td>\n",
       "      <td>0</td>\n",
       "      <td>0</td>\n",
       "      <td>0</td>\n",
       "      <td>0</td>\n",
       "      <td>0</td>\n",
       "      <td>0</td>\n",
       "      <td>0</td>\n",
       "      <td>1</td>\n",
       "      <td>0</td>\n",
       "    </tr>\n",
       "    <tr>\n",
       "      <th>...</th>\n",
       "      <td>...</td>\n",
       "      <td>...</td>\n",
       "      <td>...</td>\n",
       "      <td>...</td>\n",
       "      <td>...</td>\n",
       "      <td>...</td>\n",
       "      <td>...</td>\n",
       "      <td>...</td>\n",
       "      <td>...</td>\n",
       "      <td>...</td>\n",
       "      <td>...</td>\n",
       "      <td>...</td>\n",
       "      <td>...</td>\n",
       "      <td>...</td>\n",
       "      <td>...</td>\n",
       "    </tr>\n",
       "    <tr>\n",
       "      <th>7796</th>\n",
       "      <td>4</td>\n",
       "      <td>8</td>\n",
       "      <td>0.0</td>\n",
       "      <td>1</td>\n",
       "      <td>0</td>\n",
       "      <td>0</td>\n",
       "      <td>0</td>\n",
       "      <td>0</td>\n",
       "      <td>0</td>\n",
       "      <td>0</td>\n",
       "      <td>0</td>\n",
       "      <td>0</td>\n",
       "      <td>0</td>\n",
       "      <td>0</td>\n",
       "      <td>0</td>\n",
       "    </tr>\n",
       "    <tr>\n",
       "      <th>23982</th>\n",
       "      <td>9</td>\n",
       "      <td>9</td>\n",
       "      <td>0.0</td>\n",
       "      <td>1</td>\n",
       "      <td>0</td>\n",
       "      <td>0</td>\n",
       "      <td>0</td>\n",
       "      <td>0</td>\n",
       "      <td>1</td>\n",
       "      <td>1</td>\n",
       "      <td>0</td>\n",
       "      <td>0</td>\n",
       "      <td>0</td>\n",
       "      <td>0</td>\n",
       "      <td>0</td>\n",
       "    </tr>\n",
       "    <tr>\n",
       "      <th>3050</th>\n",
       "      <td>6</td>\n",
       "      <td>7</td>\n",
       "      <td>0.0</td>\n",
       "      <td>0</td>\n",
       "      <td>0</td>\n",
       "      <td>0</td>\n",
       "      <td>0</td>\n",
       "      <td>1</td>\n",
       "      <td>0</td>\n",
       "      <td>1</td>\n",
       "      <td>0</td>\n",
       "      <td>0</td>\n",
       "      <td>0</td>\n",
       "      <td>1</td>\n",
       "      <td>0</td>\n",
       "    </tr>\n",
       "    <tr>\n",
       "      <th>26227</th>\n",
       "      <td>6</td>\n",
       "      <td>7</td>\n",
       "      <td>1.0</td>\n",
       "      <td>2</td>\n",
       "      <td>0</td>\n",
       "      <td>0</td>\n",
       "      <td>0</td>\n",
       "      <td>1</td>\n",
       "      <td>0</td>\n",
       "      <td>0</td>\n",
       "      <td>0</td>\n",
       "      <td>0</td>\n",
       "      <td>0</td>\n",
       "      <td>1</td>\n",
       "      <td>0</td>\n",
       "    </tr>\n",
       "    <tr>\n",
       "      <th>17355</th>\n",
       "      <td>3</td>\n",
       "      <td>4</td>\n",
       "      <td>0.0</td>\n",
       "      <td>0</td>\n",
       "      <td>0</td>\n",
       "      <td>1</td>\n",
       "      <td>0</td>\n",
       "      <td>1</td>\n",
       "      <td>1</td>\n",
       "      <td>0</td>\n",
       "      <td>0</td>\n",
       "      <td>0</td>\n",
       "      <td>0</td>\n",
       "      <td>2</td>\n",
       "      <td>0</td>\n",
       "    </tr>\n",
       "  </tbody>\n",
       "</table>\n",
       "<p>224 rows × 15 columns</p>\n",
       "</div>"
      ],
      "text/plain": [
       "       campaign_var_1  campaign_var_2  products_purchased  \\\n",
       "15946               6               5                 1.0   \n",
       "33083               4               5                 1.0   \n",
       "27169               8               7                 3.0   \n",
       "28669               4               4                 3.0   \n",
       "27336               7               4                 0.0   \n",
       "...               ...             ...                 ...   \n",
       "7796                4               8                 0.0   \n",
       "23982               9               9                 0.0   \n",
       "3050                6               7                 0.0   \n",
       "26227               6               7                 1.0   \n",
       "17355               3               4                 0.0   \n",
       "\n",
       "       user_activity_var_1  user_activity_var_2  user_activity_var_3  \\\n",
       "15946                    0                    0                    1   \n",
       "33083                    1                    0                    0   \n",
       "27169                    2                    0                    0   \n",
       "28669                    1                    0                    0   \n",
       "27336                    0                    0                    0   \n",
       "...                    ...                  ...                  ...   \n",
       "7796                     1                    0                    0   \n",
       "23982                    1                    0                    0   \n",
       "3050                     0                    0                    0   \n",
       "26227                    2                    0                    0   \n",
       "17355                    0                    0                    1   \n",
       "\n",
       "       user_activity_var_4  user_activity_var_5  user_activity_var_6  \\\n",
       "15946                    0                    1                    1   \n",
       "33083                    0                    1                    1   \n",
       "27169                    0                    1                    0   \n",
       "28669                    0                    1                    0   \n",
       "27336                    0                    0                    0   \n",
       "...                    ...                  ...                  ...   \n",
       "7796                     0                    0                    0   \n",
       "23982                    0                    0                    1   \n",
       "3050                     0                    1                    0   \n",
       "26227                    0                    1                    0   \n",
       "17355                    0                    1                    1   \n",
       "\n",
       "       user_activity_var_7  user_activity_var_8  user_activity_var_9  \\\n",
       "15946                    1                    0                    0   \n",
       "33083                    1                    0                    0   \n",
       "27169                    0                    0                    0   \n",
       "28669                    0                    0                    0   \n",
       "27336                    0                    0                    0   \n",
       "...                    ...                  ...                  ...   \n",
       "7796                     0                    0                    0   \n",
       "23982                    1                    0                    0   \n",
       "3050                     1                    0                    0   \n",
       "26227                    0                    0                    0   \n",
       "17355                    0                    0                    0   \n",
       "\n",
       "       user_activity_var_10  user_activity_var_11  user_activity_var_12  \n",
       "15946                     0                     0                     0  \n",
       "33083                     0                     0                     0  \n",
       "27169                     0                     3                     0  \n",
       "28669                     0                     1                     0  \n",
       "27336                     0                     1                     0  \n",
       "...                     ...                   ...                   ...  \n",
       "7796                      0                     0                     0  \n",
       "23982                     0                     0                     0  \n",
       "3050                      0                     1                     0  \n",
       "26227                     0                     1                     0  \n",
       "17355                     0                     2                     0  \n",
       "\n",
       "[224 rows x 15 columns]"
      ]
     },
     "execution_count": 636,
     "metadata": {},
     "output_type": "execute_result"
    }
   ],
   "source": [
    "X.iloc[one_zero.index]"
   ]
  },
  {
   "cell_type": "code",
   "execution_count": 639,
   "id": "7bebb73b",
   "metadata": {},
   "outputs": [
    {
     "data": {
      "text/html": [
       "<div>\n",
       "<style scoped>\n",
       "    .dataframe tbody tr th:only-of-type {\n",
       "        vertical-align: middle;\n",
       "    }\n",
       "\n",
       "    .dataframe tbody tr th {\n",
       "        vertical-align: top;\n",
       "    }\n",
       "\n",
       "    .dataframe thead th {\n",
       "        text-align: right;\n",
       "    }\n",
       "</style>\n",
       "<table border=\"1\" class=\"dataframe\">\n",
       "  <thead>\n",
       "    <tr style=\"text-align: right;\">\n",
       "      <th></th>\n",
       "      <th>id</th>\n",
       "      <th>created_at</th>\n",
       "      <th>campaign_var_1</th>\n",
       "      <th>campaign_var_2</th>\n",
       "      <th>products_purchased</th>\n",
       "      <th>signup_date</th>\n",
       "      <th>user_activity_var_1</th>\n",
       "      <th>user_activity_var_2</th>\n",
       "      <th>user_activity_var_3</th>\n",
       "      <th>user_activity_var_4</th>\n",
       "      <th>user_activity_var_5</th>\n",
       "      <th>user_activity_var_6</th>\n",
       "      <th>user_activity_var_7</th>\n",
       "      <th>user_activity_var_8</th>\n",
       "      <th>user_activity_var_9</th>\n",
       "      <th>user_activity_var_10</th>\n",
       "      <th>user_activity_var_11</th>\n",
       "      <th>user_activity_var_12</th>\n",
       "      <th>buy</th>\n",
       "    </tr>\n",
       "  </thead>\n",
       "  <tbody>\n",
       "    <tr>\n",
       "      <th>15946</th>\n",
       "      <td>15947</td>\n",
       "      <td>2021-07-25</td>\n",
       "      <td>6</td>\n",
       "      <td>5</td>\n",
       "      <td>1.0</td>\n",
       "      <td>2020-03-12</td>\n",
       "      <td>0</td>\n",
       "      <td>0</td>\n",
       "      <td>1</td>\n",
       "      <td>0</td>\n",
       "      <td>1</td>\n",
       "      <td>1</td>\n",
       "      <td>1</td>\n",
       "      <td>0</td>\n",
       "      <td>0</td>\n",
       "      <td>0</td>\n",
       "      <td>0</td>\n",
       "      <td>0</td>\n",
       "      <td>1</td>\n",
       "    </tr>\n",
       "    <tr>\n",
       "      <th>33083</th>\n",
       "      <td>33084</td>\n",
       "      <td>2021-11-23</td>\n",
       "      <td>4</td>\n",
       "      <td>5</td>\n",
       "      <td>1.0</td>\n",
       "      <td>2019-04-02</td>\n",
       "      <td>1</td>\n",
       "      <td>0</td>\n",
       "      <td>0</td>\n",
       "      <td>0</td>\n",
       "      <td>1</td>\n",
       "      <td>1</td>\n",
       "      <td>1</td>\n",
       "      <td>0</td>\n",
       "      <td>0</td>\n",
       "      <td>0</td>\n",
       "      <td>0</td>\n",
       "      <td>0</td>\n",
       "      <td>1</td>\n",
       "    </tr>\n",
       "    <tr>\n",
       "      <th>27169</th>\n",
       "      <td>27170</td>\n",
       "      <td>2021-10-16</td>\n",
       "      <td>8</td>\n",
       "      <td>7</td>\n",
       "      <td>3.0</td>\n",
       "      <td>2019-05-25</td>\n",
       "      <td>2</td>\n",
       "      <td>0</td>\n",
       "      <td>0</td>\n",
       "      <td>0</td>\n",
       "      <td>1</td>\n",
       "      <td>0</td>\n",
       "      <td>0</td>\n",
       "      <td>0</td>\n",
       "      <td>0</td>\n",
       "      <td>0</td>\n",
       "      <td>3</td>\n",
       "      <td>0</td>\n",
       "      <td>1</td>\n",
       "    </tr>\n",
       "    <tr>\n",
       "      <th>28669</th>\n",
       "      <td>28670</td>\n",
       "      <td>2021-10-25</td>\n",
       "      <td>4</td>\n",
       "      <td>4</td>\n",
       "      <td>3.0</td>\n",
       "      <td>2020-03-16</td>\n",
       "      <td>1</td>\n",
       "      <td>0</td>\n",
       "      <td>0</td>\n",
       "      <td>0</td>\n",
       "      <td>1</td>\n",
       "      <td>0</td>\n",
       "      <td>0</td>\n",
       "      <td>0</td>\n",
       "      <td>0</td>\n",
       "      <td>0</td>\n",
       "      <td>1</td>\n",
       "      <td>0</td>\n",
       "      <td>1</td>\n",
       "    </tr>\n",
       "    <tr>\n",
       "      <th>27336</th>\n",
       "      <td>27337</td>\n",
       "      <td>2021-10-17</td>\n",
       "      <td>7</td>\n",
       "      <td>4</td>\n",
       "      <td>0.0</td>\n",
       "      <td>2021-07-30</td>\n",
       "      <td>0</td>\n",
       "      <td>0</td>\n",
       "      <td>0</td>\n",
       "      <td>0</td>\n",
       "      <td>0</td>\n",
       "      <td>0</td>\n",
       "      <td>0</td>\n",
       "      <td>0</td>\n",
       "      <td>0</td>\n",
       "      <td>0</td>\n",
       "      <td>1</td>\n",
       "      <td>0</td>\n",
       "      <td>1</td>\n",
       "    </tr>\n",
       "  </tbody>\n",
       "</table>\n",
       "</div>"
      ],
      "text/plain": [
       "          id  created_at  campaign_var_1  campaign_var_2  products_purchased  \\\n",
       "15946  15947  2021-07-25               6               5                 1.0   \n",
       "33083  33084  2021-11-23               4               5                 1.0   \n",
       "27169  27170  2021-10-16               8               7                 3.0   \n",
       "28669  28670  2021-10-25               4               4                 3.0   \n",
       "27336  27337  2021-10-17               7               4                 0.0   \n",
       "\n",
       "      signup_date  user_activity_var_1  user_activity_var_2  \\\n",
       "15946  2020-03-12                    0                    0   \n",
       "33083  2019-04-02                    1                    0   \n",
       "27169  2019-05-25                    2                    0   \n",
       "28669  2020-03-16                    1                    0   \n",
       "27336  2021-07-30                    0                    0   \n",
       "\n",
       "       user_activity_var_3  user_activity_var_4  user_activity_var_5  \\\n",
       "15946                    1                    0                    1   \n",
       "33083                    0                    0                    1   \n",
       "27169                    0                    0                    1   \n",
       "28669                    0                    0                    1   \n",
       "27336                    0                    0                    0   \n",
       "\n",
       "       user_activity_var_6  user_activity_var_7  user_activity_var_8  \\\n",
       "15946                    1                    1                    0   \n",
       "33083                    1                    1                    0   \n",
       "27169                    0                    0                    0   \n",
       "28669                    0                    0                    0   \n",
       "27336                    0                    0                    0   \n",
       "\n",
       "       user_activity_var_9  user_activity_var_10  user_activity_var_11  \\\n",
       "15946                    0                     0                     0   \n",
       "33083                    0                     0                     0   \n",
       "27169                    0                     0                     3   \n",
       "28669                    0                     0                     1   \n",
       "27336                    0                     0                     1   \n",
       "\n",
       "       user_activity_var_12  buy  \n",
       "15946                     0    1  \n",
       "33083                     0    1  \n",
       "27169                     0    1  \n",
       "28669                     0    1  \n",
       "27336                     0    1  "
      ]
     },
     "execution_count": 639,
     "metadata": {},
     "output_type": "execute_result"
    }
   ],
   "source": [
    "train_set.iloc[one_zero.index].head()"
   ]
  },
  {
   "cell_type": "code",
   "execution_count": 640,
   "id": "aafbecac",
   "metadata": {},
   "outputs": [],
   "source": [
    "one_one = one[one['y_prd']==1]"
   ]
  },
  {
   "cell_type": "code",
   "execution_count": 642,
   "id": "5e704f3d",
   "metadata": {},
   "outputs": [
    {
     "data": {
      "text/html": [
       "<div>\n",
       "<style scoped>\n",
       "    .dataframe tbody tr th:only-of-type {\n",
       "        vertical-align: middle;\n",
       "    }\n",
       "\n",
       "    .dataframe tbody tr th {\n",
       "        vertical-align: top;\n",
       "    }\n",
       "\n",
       "    .dataframe thead th {\n",
       "        text-align: right;\n",
       "    }\n",
       "</style>\n",
       "<table border=\"1\" class=\"dataframe\">\n",
       "  <thead>\n",
       "    <tr style=\"text-align: right;\">\n",
       "      <th></th>\n",
       "      <th>id</th>\n",
       "      <th>created_at</th>\n",
       "      <th>campaign_var_1</th>\n",
       "      <th>campaign_var_2</th>\n",
       "      <th>products_purchased</th>\n",
       "      <th>signup_date</th>\n",
       "      <th>user_activity_var_1</th>\n",
       "      <th>user_activity_var_2</th>\n",
       "      <th>user_activity_var_3</th>\n",
       "      <th>user_activity_var_4</th>\n",
       "      <th>user_activity_var_5</th>\n",
       "      <th>user_activity_var_6</th>\n",
       "      <th>user_activity_var_7</th>\n",
       "      <th>user_activity_var_8</th>\n",
       "      <th>user_activity_var_9</th>\n",
       "      <th>user_activity_var_10</th>\n",
       "      <th>user_activity_var_11</th>\n",
       "      <th>user_activity_var_12</th>\n",
       "      <th>buy</th>\n",
       "    </tr>\n",
       "  </thead>\n",
       "  <tbody>\n",
       "    <tr>\n",
       "      <th>17239</th>\n",
       "      <td>17240</td>\n",
       "      <td>2021-08-05</td>\n",
       "      <td>5</td>\n",
       "      <td>4</td>\n",
       "      <td>0.0</td>\n",
       "      <td>2018-11-25</td>\n",
       "      <td>0</td>\n",
       "      <td>0</td>\n",
       "      <td>0</td>\n",
       "      <td>1</td>\n",
       "      <td>0</td>\n",
       "      <td>0</td>\n",
       "      <td>0</td>\n",
       "      <td>0</td>\n",
       "      <td>0</td>\n",
       "      <td>0</td>\n",
       "      <td>0</td>\n",
       "      <td>0</td>\n",
       "      <td>1</td>\n",
       "    </tr>\n",
       "    <tr>\n",
       "      <th>5982</th>\n",
       "      <td>5983</td>\n",
       "      <td>2021-04-17</td>\n",
       "      <td>3</td>\n",
       "      <td>5</td>\n",
       "      <td>4.0</td>\n",
       "      <td>2018-11-15</td>\n",
       "      <td>0</td>\n",
       "      <td>0</td>\n",
       "      <td>0</td>\n",
       "      <td>0</td>\n",
       "      <td>1</td>\n",
       "      <td>0</td>\n",
       "      <td>0</td>\n",
       "      <td>0</td>\n",
       "      <td>1</td>\n",
       "      <td>0</td>\n",
       "      <td>2</td>\n",
       "      <td>0</td>\n",
       "      <td>1</td>\n",
       "    </tr>\n",
       "    <tr>\n",
       "      <th>32059</th>\n",
       "      <td>32060</td>\n",
       "      <td>2021-11-17</td>\n",
       "      <td>4</td>\n",
       "      <td>5</td>\n",
       "      <td>3.0</td>\n",
       "      <td>2021-07-20</td>\n",
       "      <td>1</td>\n",
       "      <td>0</td>\n",
       "      <td>0</td>\n",
       "      <td>1</td>\n",
       "      <td>0</td>\n",
       "      <td>0</td>\n",
       "      <td>1</td>\n",
       "      <td>0</td>\n",
       "      <td>1</td>\n",
       "      <td>0</td>\n",
       "      <td>0</td>\n",
       "      <td>0</td>\n",
       "      <td>1</td>\n",
       "    </tr>\n",
       "    <tr>\n",
       "      <th>13439</th>\n",
       "      <td>13440</td>\n",
       "      <td>2021-07-03</td>\n",
       "      <td>7</td>\n",
       "      <td>7</td>\n",
       "      <td>0.0</td>\n",
       "      <td>2019-11-17</td>\n",
       "      <td>0</td>\n",
       "      <td>0</td>\n",
       "      <td>0</td>\n",
       "      <td>1</td>\n",
       "      <td>0</td>\n",
       "      <td>0</td>\n",
       "      <td>0</td>\n",
       "      <td>0</td>\n",
       "      <td>0</td>\n",
       "      <td>0</td>\n",
       "      <td>1</td>\n",
       "      <td>0</td>\n",
       "      <td>1</td>\n",
       "    </tr>\n",
       "    <tr>\n",
       "      <th>21084</th>\n",
       "      <td>21085</td>\n",
       "      <td>2021-09-03</td>\n",
       "      <td>8</td>\n",
       "      <td>4</td>\n",
       "      <td>0.0</td>\n",
       "      <td>2021-06-23</td>\n",
       "      <td>0</td>\n",
       "      <td>0</td>\n",
       "      <td>0</td>\n",
       "      <td>1</td>\n",
       "      <td>1</td>\n",
       "      <td>1</td>\n",
       "      <td>0</td>\n",
       "      <td>0</td>\n",
       "      <td>1</td>\n",
       "      <td>0</td>\n",
       "      <td>0</td>\n",
       "      <td>0</td>\n",
       "      <td>1</td>\n",
       "    </tr>\n",
       "  </tbody>\n",
       "</table>\n",
       "</div>"
      ],
      "text/plain": [
       "          id  created_at  campaign_var_1  campaign_var_2  products_purchased  \\\n",
       "17239  17240  2021-08-05               5               4                 0.0   \n",
       "5982    5983  2021-04-17               3               5                 4.0   \n",
       "32059  32060  2021-11-17               4               5                 3.0   \n",
       "13439  13440  2021-07-03               7               7                 0.0   \n",
       "21084  21085  2021-09-03               8               4                 0.0   \n",
       "\n",
       "      signup_date  user_activity_var_1  user_activity_var_2  \\\n",
       "17239  2018-11-25                    0                    0   \n",
       "5982   2018-11-15                    0                    0   \n",
       "32059  2021-07-20                    1                    0   \n",
       "13439  2019-11-17                    0                    0   \n",
       "21084  2021-06-23                    0                    0   \n",
       "\n",
       "       user_activity_var_3  user_activity_var_4  user_activity_var_5  \\\n",
       "17239                    0                    1                    0   \n",
       "5982                     0                    0                    1   \n",
       "32059                    0                    1                    0   \n",
       "13439                    0                    1                    0   \n",
       "21084                    0                    1                    1   \n",
       "\n",
       "       user_activity_var_6  user_activity_var_7  user_activity_var_8  \\\n",
       "17239                    0                    0                    0   \n",
       "5982                     0                    0                    0   \n",
       "32059                    0                    1                    0   \n",
       "13439                    0                    0                    0   \n",
       "21084                    1                    0                    0   \n",
       "\n",
       "       user_activity_var_9  user_activity_var_10  user_activity_var_11  \\\n",
       "17239                    0                     0                     0   \n",
       "5982                     1                     0                     2   \n",
       "32059                    1                     0                     0   \n",
       "13439                    0                     0                     1   \n",
       "21084                    1                     0                     0   \n",
       "\n",
       "       user_activity_var_12  buy  \n",
       "17239                     0    1  \n",
       "5982                      0    1  \n",
       "32059                     0    1  \n",
       "13439                     0    1  \n",
       "21084                     0    1  "
      ]
     },
     "execution_count": 642,
     "metadata": {},
     "output_type": "execute_result"
    }
   ],
   "source": [
    "train_set.iloc[one_one.index].head()"
   ]
  },
  {
   "cell_type": "code",
   "execution_count": 644,
   "id": "02cc6541",
   "metadata": {},
   "outputs": [],
   "source": [
    "probs = xgb.predict_proba(X_val)"
   ]
  },
  {
   "cell_type": "code",
   "execution_count": 648,
   "id": "ba795b73",
   "metadata": {},
   "outputs": [
    {
     "data": {
      "text/plain": [
       "<AxesSubplot:ylabel='Density'>"
      ]
     },
     "execution_count": 648,
     "metadata": {},
     "output_type": "execute_result"
    },
    {
     "data": {
      "image/png": "[encoded data removed]",
      "text/plain": [
       "<Figure size 432x288 with 1 Axes>"
      ]
     },
     "metadata": {
      "needs_background": "light"
     },
     "output_type": "display_data"
    }
   ],
   "source": [
    "sns.distplot(probs)"
   ]
  },
  {
   "cell_type": "code",
   "execution_count": 649,
   "id": "862a6ee8",
   "metadata": {},
   "outputs": [
    {
     "data": {
      "text/plain": [
       "0    37163\n",
       "1     1998\n",
       "Name: buy, dtype: int64"
      ]
     },
     "execution_count": 649,
     "metadata": {},
     "output_type": "execute_result"
    }
   ],
   "source": [
    "y.value_counts()"
   ]
  },
  {
   "cell_type": "code",
   "execution_count": 715,
   "id": "79dd88c7",
   "metadata": {},
   "outputs": [],
   "source": [
    "model = XGBClassifier(scale_pos_weight=1.14)"
   ]
  },
  {
   "cell_type": "code",
   "execution_count": 716,
   "id": "17d24e18",
   "metadata": {},
   "outputs": [
    {
     "name": "stdout",
     "output_type": "stream",
     "text": [
      "[22:18:11] WARNING: C:/Users/Administrator/workspace/xgboost-win64_release_1.5.0/src/learner.cc:1115: Starting in XGBoost 1.3.0, the default evaluation metric used with the objective 'binary:logistic' was changed from 'error' to 'logloss'. Explicitly set eval_metric if you'd like to restore the old behavior.\n"
     ]
    },
    {
     "data": {
      "text/plain": [
       "XGBClassifier(base_score=0.5, booster='gbtree', colsample_bylevel=1,\n",
       "              colsample_bynode=1, colsample_bytree=1, enable_categorical=False,\n",
       "              gamma=0, gpu_id=-1, importance_type=None,\n",
       "              interaction_constraints='', learning_rate=0.300000012,\n",
       "              max_delta_step=0, max_depth=6, min_child_weight=1, missing=nan,\n",
       "              monotone_constraints='()', n_estimators=100, n_jobs=4,\n",
       "              num_parallel_tree=1, predictor='auto', random_state=0,\n",
       "              reg_alpha=0, reg_lambda=1, scale_pos_weight=1.14, subsample=1,\n",
       "              tree_method='exact', validate_parameters=1, verbosity=None)"
      ]
     },
     "execution_count": 716,
     "metadata": {},
     "output_type": "execute_result"
    }
   ],
   "source": [
    "model.fit(X_train, y_train)"
   ]
  },
  {
   "cell_type": "code",
   "execution_count": 717,
   "id": "1d269d96",
   "metadata": {},
   "outputs": [],
   "source": [
    "weigh_pred = model.predict(X_val)"
   ]
  },
  {
   "cell_type": "code",
   "execution_count": 718,
   "id": "386c6ba8",
   "metadata": {},
   "outputs": [
    {
     "name": "stdout",
     "output_type": "stream",
     "text": [
      "              precision    recall  f1-score   support\n",
      "\n",
      "           0       0.97      1.00      0.98      7433\n",
      "           1       0.93      0.44      0.60       400\n",
      "\n",
      "    accuracy                           0.97      7833\n",
      "   macro avg       0.95      0.72      0.79      7833\n",
      "weighted avg       0.97      0.97      0.96      7833\n",
      "\n"
     ]
    }
   ],
   "source": [
    "print(classification_report(y_val, weigh_pred))"
   ]
  },
  {
   "cell_type": "code",
   "execution_count": 702,
   "id": "adaec359",
   "metadata": {},
   "outputs": [
    {
     "name": "stdout",
     "output_type": "stream",
     "text": [
      "[22:16:33] WARNING: C:/Users/Administrator/workspace/xgboost-win64_release_1.5.0/src/learner.cc:1115: Starting in XGBoost 1.3.0, the default evaluation metric used with the objective 'binary:logistic' was changed from 'error' to 'logloss'. Explicitly set eval_metric if you'd like to restore the old behavior.\n",
      "Best: 0.912197 using {'scale_pos_weight': 1.15}\n",
      "0.911406 (0.009591) with: {'scale_pos_weight': 1}\n",
      "0.911823 (0.009368) with: {'scale_pos_weight': 1.1}\n",
      "0.912197 (0.009980) with: {'scale_pos_weight': 1.15}\n",
      "0.911493 (0.009373) with: {'scale_pos_weight': 1.2}\n",
      "0.911681 (0.010056) with: {'scale_pos_weight': 1.25}\n",
      "0.912124 (0.009962) with: {'scale_pos_weight': 1.3}\n",
      "0.911930 (0.009437) with: {'scale_pos_weight': 1.35}\n",
      "0.911215 (0.009499) with: {'scale_pos_weight': 1.4}\n",
      "0.910962 (0.009164) with: {'scale_pos_weight': 1.41}\n",
      "0.911019 (0.009800) with: {'scale_pos_weight': 1.42}\n",
      "0.911381 (0.009120) with: {'scale_pos_weight': 1.43}\n",
      "0.911844 (0.009622) with: {'scale_pos_weight': 1.44}\n",
      "0.911586 (0.009745) with: {'scale_pos_weight': 1.45}\n",
      "0.910934 (0.010020) with: {'scale_pos_weight': 1.46}\n",
      "0.911054 (0.010298) with: {'scale_pos_weight': 1.47}\n",
      "0.911430 (0.009309) with: {'scale_pos_weight': 1.48}\n",
      "0.910610 (0.009482) with: {'scale_pos_weight': 1.49}\n",
      "0.911561 (0.010023) with: {'scale_pos_weight': 1.5}\n"
     ]
    }
   ],
   "source": [
    "# define grid\n",
    "weights = [1,1.1,1.15,1.2,1.25,1.3,1.35,1.4, 1.41, 1.42, 1.43, 1.44,1.45,1.46,1.47,1.48,1.49,1.5]\n",
    "param_grid = dict(scale_pos_weight=weights)\n",
    "# define evaluation procedure\n",
    "# define model\n",
    "model = XGBClassifier()\n",
    "cv = RepeatedStratifiedKFold(n_splits=10, n_repeats=3, random_state=1)\n",
    "# define grid search\n",
    "grid = GridSearchCV(estimator=model, param_grid=param_grid, n_jobs=-1, cv=cv, scoring='roc_auc')\n",
    "# execute the grid search\n",
    "grid_result = grid.fit(X, y)\n",
    "# report the best configuration\n",
    "print(\"Best: %f using %s\" % (grid_result.best_score_, grid_result.best_params_))\n",
    "# report all configurations\n",
    "means = grid_result.cv_results_['mean_test_score']\n",
    "stds = grid_result.cv_results_['std_test_score']\n",
    "params = grid_result.cv_results_['params']\n",
    "for mean, stdev, param in zip(means, stds, params):\n",
    "    print(\"%f (%f) with: %r\" % (mean, stdev, param))"
   ]
  },
  {
   "cell_type": "code",
   "execution_count": 719,
   "id": "4e244b85",
   "metadata": {},
   "outputs": [],
   "source": [
    "recall_study = pd.DataFrame()\n",
    "recall_study['y_val'] = y_val\n",
    "recall_study['y_pred'] = weigh_pred"
   ]
  },
  {
   "cell_type": "code",
   "execution_count": 720,
   "id": "e909fd07",
   "metadata": {},
   "outputs": [],
   "source": [
    "one = recall_study[recall_study['y_val']==1]"
   ]
  },
  {
   "cell_type": "code",
   "execution_count": 721,
   "id": "2aa697d8",
   "metadata": {},
   "outputs": [],
   "source": [
    "one_zero = one[one['y_pred']==0]"
   ]
  },
  {
   "cell_type": "code",
   "execution_count": 722,
   "id": "31889db1",
   "metadata": {},
   "outputs": [],
   "source": [
    "one_one = one[one['y_pred']==1]"
   ]
  },
  {
   "cell_type": "code",
   "execution_count": 725,
   "id": "e56a19e1",
   "metadata": {},
   "outputs": [
    {
     "data": {
      "text/html": [
       "<div>\n",
       "<style scoped>\n",
       "    .dataframe tbody tr th:only-of-type {\n",
       "        vertical-align: middle;\n",
       "    }\n",
       "\n",
       "    .dataframe tbody tr th {\n",
       "        vertical-align: top;\n",
       "    }\n",
       "\n",
       "    .dataframe thead th {\n",
       "        text-align: right;\n",
       "    }\n",
       "</style>\n",
       "<table border=\"1\" class=\"dataframe\">\n",
       "  <thead>\n",
       "    <tr style=\"text-align: right;\">\n",
       "      <th></th>\n",
       "      <th>campaign_var_1</th>\n",
       "      <th>campaign_var_2</th>\n",
       "      <th>products_purchased</th>\n",
       "      <th>user_activity_var_1</th>\n",
       "      <th>user_activity_var_2</th>\n",
       "      <th>user_activity_var_3</th>\n",
       "      <th>user_activity_var_4</th>\n",
       "      <th>user_activity_var_5</th>\n",
       "      <th>user_activity_var_6</th>\n",
       "      <th>user_activity_var_7</th>\n",
       "      <th>user_activity_var_8</th>\n",
       "      <th>user_activity_var_9</th>\n",
       "      <th>user_activity_var_10</th>\n",
       "      <th>user_activity_var_11</th>\n",
       "      <th>user_activity_var_12</th>\n",
       "    </tr>\n",
       "  </thead>\n",
       "  <tbody>\n",
       "    <tr>\n",
       "      <th>15946</th>\n",
       "      <td>6</td>\n",
       "      <td>5</td>\n",
       "      <td>1.0</td>\n",
       "      <td>0</td>\n",
       "      <td>0</td>\n",
       "      <td>1</td>\n",
       "      <td>0</td>\n",
       "      <td>1</td>\n",
       "      <td>1</td>\n",
       "      <td>1</td>\n",
       "      <td>0</td>\n",
       "      <td>0</td>\n",
       "      <td>0</td>\n",
       "      <td>0</td>\n",
       "      <td>0</td>\n",
       "    </tr>\n",
       "    <tr>\n",
       "      <th>33083</th>\n",
       "      <td>4</td>\n",
       "      <td>5</td>\n",
       "      <td>1.0</td>\n",
       "      <td>1</td>\n",
       "      <td>0</td>\n",
       "      <td>0</td>\n",
       "      <td>0</td>\n",
       "      <td>1</td>\n",
       "      <td>1</td>\n",
       "      <td>1</td>\n",
       "      <td>0</td>\n",
       "      <td>0</td>\n",
       "      <td>0</td>\n",
       "      <td>0</td>\n",
       "      <td>0</td>\n",
       "    </tr>\n",
       "    <tr>\n",
       "      <th>27169</th>\n",
       "      <td>8</td>\n",
       "      <td>7</td>\n",
       "      <td>3.0</td>\n",
       "      <td>2</td>\n",
       "      <td>0</td>\n",
       "      <td>0</td>\n",
       "      <td>0</td>\n",
       "      <td>1</td>\n",
       "      <td>0</td>\n",
       "      <td>0</td>\n",
       "      <td>0</td>\n",
       "      <td>0</td>\n",
       "      <td>0</td>\n",
       "      <td>3</td>\n",
       "      <td>0</td>\n",
       "    </tr>\n",
       "    <tr>\n",
       "      <th>28669</th>\n",
       "      <td>4</td>\n",
       "      <td>4</td>\n",
       "      <td>3.0</td>\n",
       "      <td>1</td>\n",
       "      <td>0</td>\n",
       "      <td>0</td>\n",
       "      <td>0</td>\n",
       "      <td>1</td>\n",
       "      <td>0</td>\n",
       "      <td>0</td>\n",
       "      <td>0</td>\n",
       "      <td>0</td>\n",
       "      <td>0</td>\n",
       "      <td>1</td>\n",
       "      <td>0</td>\n",
       "    </tr>\n",
       "    <tr>\n",
       "      <th>27336</th>\n",
       "      <td>7</td>\n",
       "      <td>4</td>\n",
       "      <td>0.0</td>\n",
       "      <td>0</td>\n",
       "      <td>0</td>\n",
       "      <td>0</td>\n",
       "      <td>0</td>\n",
       "      <td>0</td>\n",
       "      <td>0</td>\n",
       "      <td>0</td>\n",
       "      <td>0</td>\n",
       "      <td>0</td>\n",
       "      <td>0</td>\n",
       "      <td>1</td>\n",
       "      <td>0</td>\n",
       "    </tr>\n",
       "  </tbody>\n",
       "</table>\n",
       "</div>"
      ],
      "text/plain": [
       "       campaign_var_1  campaign_var_2  products_purchased  \\\n",
       "15946               6               5                 1.0   \n",
       "33083               4               5                 1.0   \n",
       "27169               8               7                 3.0   \n",
       "28669               4               4                 3.0   \n",
       "27336               7               4                 0.0   \n",
       "\n",
       "       user_activity_var_1  user_activity_var_2  user_activity_var_3  \\\n",
       "15946                    0                    0                    1   \n",
       "33083                    1                    0                    0   \n",
       "27169                    2                    0                    0   \n",
       "28669                    1                    0                    0   \n",
       "27336                    0                    0                    0   \n",
       "\n",
       "       user_activity_var_4  user_activity_var_5  user_activity_var_6  \\\n",
       "15946                    0                    1                    1   \n",
       "33083                    0                    1                    1   \n",
       "27169                    0                    1                    0   \n",
       "28669                    0                    1                    0   \n",
       "27336                    0                    0                    0   \n",
       "\n",
       "       user_activity_var_7  user_activity_var_8  user_activity_var_9  \\\n",
       "15946                    1                    0                    0   \n",
       "33083                    1                    0                    0   \n",
       "27169                    0                    0                    0   \n",
       "28669                    0                    0                    0   \n",
       "27336                    0                    0                    0   \n",
       "\n",
       "       user_activity_var_10  user_activity_var_11  user_activity_var_12  \n",
       "15946                     0                     0                     0  \n",
       "33083                     0                     0                     0  \n",
       "27169                     0                     3                     0  \n",
       "28669                     0                     1                     0  \n",
       "27336                     0                     1                     0  "
      ]
     },
     "execution_count": 725,
     "metadata": {},
     "output_type": "execute_result"
    }
   ],
   "source": [
    "X.iloc[one_zero.index].head()"
   ]
  },
  {
   "cell_type": "code",
   "execution_count": 726,
   "id": "5708d8cb",
   "metadata": {},
   "outputs": [
    {
     "data": {
      "text/html": [
       "<div>\n",
       "<style scoped>\n",
       "    .dataframe tbody tr th:only-of-type {\n",
       "        vertical-align: middle;\n",
       "    }\n",
       "\n",
       "    .dataframe tbody tr th {\n",
       "        vertical-align: top;\n",
       "    }\n",
       "\n",
       "    .dataframe thead th {\n",
       "        text-align: right;\n",
       "    }\n",
       "</style>\n",
       "<table border=\"1\" class=\"dataframe\">\n",
       "  <thead>\n",
       "    <tr style=\"text-align: right;\">\n",
       "      <th></th>\n",
       "      <th>campaign_var_1</th>\n",
       "      <th>campaign_var_2</th>\n",
       "      <th>products_purchased</th>\n",
       "      <th>user_activity_var_1</th>\n",
       "      <th>user_activity_var_2</th>\n",
       "      <th>user_activity_var_3</th>\n",
       "      <th>user_activity_var_4</th>\n",
       "      <th>user_activity_var_5</th>\n",
       "      <th>user_activity_var_6</th>\n",
       "      <th>user_activity_var_7</th>\n",
       "      <th>user_activity_var_8</th>\n",
       "      <th>user_activity_var_9</th>\n",
       "      <th>user_activity_var_10</th>\n",
       "      <th>user_activity_var_11</th>\n",
       "      <th>user_activity_var_12</th>\n",
       "    </tr>\n",
       "  </thead>\n",
       "  <tbody>\n",
       "    <tr>\n",
       "      <th>17239</th>\n",
       "      <td>5</td>\n",
       "      <td>4</td>\n",
       "      <td>0.0</td>\n",
       "      <td>0</td>\n",
       "      <td>0</td>\n",
       "      <td>0</td>\n",
       "      <td>1</td>\n",
       "      <td>0</td>\n",
       "      <td>0</td>\n",
       "      <td>0</td>\n",
       "      <td>0</td>\n",
       "      <td>0</td>\n",
       "      <td>0</td>\n",
       "      <td>0</td>\n",
       "      <td>0</td>\n",
       "    </tr>\n",
       "    <tr>\n",
       "      <th>5982</th>\n",
       "      <td>3</td>\n",
       "      <td>5</td>\n",
       "      <td>4.0</td>\n",
       "      <td>0</td>\n",
       "      <td>0</td>\n",
       "      <td>0</td>\n",
       "      <td>0</td>\n",
       "      <td>1</td>\n",
       "      <td>0</td>\n",
       "      <td>0</td>\n",
       "      <td>0</td>\n",
       "      <td>1</td>\n",
       "      <td>0</td>\n",
       "      <td>2</td>\n",
       "      <td>0</td>\n",
       "    </tr>\n",
       "    <tr>\n",
       "      <th>32059</th>\n",
       "      <td>4</td>\n",
       "      <td>5</td>\n",
       "      <td>3.0</td>\n",
       "      <td>1</td>\n",
       "      <td>0</td>\n",
       "      <td>0</td>\n",
       "      <td>1</td>\n",
       "      <td>0</td>\n",
       "      <td>0</td>\n",
       "      <td>1</td>\n",
       "      <td>0</td>\n",
       "      <td>1</td>\n",
       "      <td>0</td>\n",
       "      <td>0</td>\n",
       "      <td>0</td>\n",
       "    </tr>\n",
       "    <tr>\n",
       "      <th>13439</th>\n",
       "      <td>7</td>\n",
       "      <td>7</td>\n",
       "      <td>0.0</td>\n",
       "      <td>0</td>\n",
       "      <td>0</td>\n",
       "      <td>0</td>\n",
       "      <td>1</td>\n",
       "      <td>0</td>\n",
       "      <td>0</td>\n",
       "      <td>0</td>\n",
       "      <td>0</td>\n",
       "      <td>0</td>\n",
       "      <td>0</td>\n",
       "      <td>1</td>\n",
       "      <td>0</td>\n",
       "    </tr>\n",
       "    <tr>\n",
       "      <th>21084</th>\n",
       "      <td>8</td>\n",
       "      <td>4</td>\n",
       "      <td>0.0</td>\n",
       "      <td>0</td>\n",
       "      <td>0</td>\n",
       "      <td>0</td>\n",
       "      <td>1</td>\n",
       "      <td>1</td>\n",
       "      <td>1</td>\n",
       "      <td>0</td>\n",
       "      <td>0</td>\n",
       "      <td>1</td>\n",
       "      <td>0</td>\n",
       "      <td>0</td>\n",
       "      <td>0</td>\n",
       "    </tr>\n",
       "  </tbody>\n",
       "</table>\n",
       "</div>"
      ],
      "text/plain": [
       "       campaign_var_1  campaign_var_2  products_purchased  \\\n",
       "17239               5               4                 0.0   \n",
       "5982                3               5                 4.0   \n",
       "32059               4               5                 3.0   \n",
       "13439               7               7                 0.0   \n",
       "21084               8               4                 0.0   \n",
       "\n",
       "       user_activity_var_1  user_activity_var_2  user_activity_var_3  \\\n",
       "17239                    0                    0                    0   \n",
       "5982                     0                    0                    0   \n",
       "32059                    1                    0                    0   \n",
       "13439                    0                    0                    0   \n",
       "21084                    0                    0                    0   \n",
       "\n",
       "       user_activity_var_4  user_activity_var_5  user_activity_var_6  \\\n",
       "17239                    1                    0                    0   \n",
       "5982                     0                    1                    0   \n",
       "32059                    1                    0                    0   \n",
       "13439                    1                    0                    0   \n",
       "21084                    1                    1                    1   \n",
       "\n",
       "       user_activity_var_7  user_activity_var_8  user_activity_var_9  \\\n",
       "17239                    0                    0                    0   \n",
       "5982                     0                    0                    1   \n",
       "32059                    1                    0                    1   \n",
       "13439                    0                    0                    0   \n",
       "21084                    0                    0                    1   \n",
       "\n",
       "       user_activity_var_10  user_activity_var_11  user_activity_var_12  \n",
       "17239                     0                     0                     0  \n",
       "5982                      0                     2                     0  \n",
       "32059                     0                     0                     0  \n",
       "13439                     0                     1                     0  \n",
       "21084                     0                     0                     0  "
      ]
     },
     "execution_count": 726,
     "metadata": {},
     "output_type": "execute_result"
    }
   ],
   "source": [
    "X.iloc[one_one.index].head()"
   ]
  },
  {
   "cell_type": "code",
   "execution_count": 757,
   "id": "9fe81166",
   "metadata": {},
   "outputs": [
    {
     "data": {
      "text/plain": [
       "0    39139\n",
       "1       22\n",
       "Name: user_activity_var_12, dtype: int64"
      ]
     },
     "execution_count": 757,
     "metadata": {},
     "output_type": "execute_result"
    }
   ],
   "source": [
    "X['user_activity_var_12'].value_counts()"
   ]
  },
  {
   "cell_type": "code",
   "execution_count": 823,
   "id": "62f7f7f7",
   "metadata": {},
   "outputs": [],
   "source": [
    "X_new =  X[['user_activity_var_2', 'user_activity_var_3', 'user_activity_var_4','user_activity_var_9','user_activity_var_10','user_activity_var_12','products_purchased','campaign_var_1','campaign_var_2']]\n"
   ]
  },
  {
   "cell_type": "code",
   "execution_count": 824,
   "id": "462d3048",
   "metadata": {},
   "outputs": [],
   "source": [
    "X_trn, X_tst, y_trn, y_tst = tst(X_new, y, test_size=0.25,)"
   ]
  },
  {
   "cell_type": "code",
   "execution_count": 825,
   "id": "61486b19",
   "metadata": {},
   "outputs": [
    {
     "name": "stdout",
     "output_type": "stream",
     "text": [
      "[23:13:46] WARNING: C:/Users/Administrator/workspace/xgboost-win64_release_1.5.0/src/learner.cc:1115: Starting in XGBoost 1.3.0, the default evaluation metric used with the objective 'binary:logistic' was changed from 'error' to 'logloss'. Explicitly set eval_metric if you'd like to restore the old behavior.\n"
     ]
    },
    {
     "data": {
      "text/plain": [
       "XGBClassifier(base_score=0.5, booster='gbtree', colsample_bylevel=1,\n",
       "              colsample_bynode=1, colsample_bytree=1, enable_categorical=False,\n",
       "              gamma=0, gpu_id=-1, importance_type=None,\n",
       "              interaction_constraints='', learning_rate=0.300000012,\n",
       "              max_delta_step=0, max_depth=6, min_child_weight=1, missing=nan,\n",
       "              monotone_constraints='()', n_estimators=100, n_jobs=4,\n",
       "              num_parallel_tree=1, predictor='auto', random_state=0,\n",
       "              reg_alpha=0, reg_lambda=1, scale_pos_weight=1.14, subsample=1,\n",
       "              tree_method='exact', validate_parameters=1, verbosity=None)"
      ]
     },
     "execution_count": 825,
     "metadata": {},
     "output_type": "execute_result"
    }
   ],
   "source": [
    "model.fit(X_trn, y_trn)"
   ]
  },
  {
   "cell_type": "code",
   "execution_count": 826,
   "id": "d34a4001",
   "metadata": {},
   "outputs": [],
   "source": [
    "pred= model.predict(X_tst)"
   ]
  },
  {
   "cell_type": "code",
   "execution_count": 827,
   "id": "7a8d7a24",
   "metadata": {},
   "outputs": [
    {
     "name": "stdout",
     "output_type": "stream",
     "text": [
      "              precision    recall  f1-score   support\n",
      "\n",
      "           0       0.97      1.00      0.99      9292\n",
      "           1       0.95      0.46      0.62       499\n",
      "\n",
      "    accuracy                           0.97      9791\n",
      "   macro avg       0.96      0.73      0.80      9791\n",
      "weighted avg       0.97      0.97      0.97      9791\n",
      "\n"
     ]
    }
   ],
   "source": [
    "print(classification_report(y_tst, pred))"
   ]
  },
  {
   "cell_type": "code",
   "execution_count": 839,
   "id": "59c95c91",
   "metadata": {},
   "outputs": [],
   "source": [
    "test_new =  X_test[['user_activity_var_2', 'user_activity_var_3', 'user_activity_var_4','user_activity_var_9','user_activity_var_10','user_activity_var_12','products_purchased','campaign_var_1','campaign_var_2' ]]"
   ]
  },
  {
   "cell_type": "code",
   "execution_count": 840,
   "id": "1995f2fd",
   "metadata": {},
   "outputs": [],
   "source": [
    "predictions = model.predict(test_new)"
   ]
  },
  {
   "cell_type": "code",
   "execution_count": 841,
   "id": "7346d01a",
   "metadata": {},
   "outputs": [],
   "source": [
    "preds = pd.DataFrame()\n",
    "preds['id']= test['id']\n",
    "preds['buy'] = predictions"
   ]
  },
  {
   "cell_type": "code",
   "execution_count": 842,
   "id": "36728495",
   "metadata": {},
   "outputs": [],
   "source": [
    "preds.to_csv('preds_1.csv', index = False)"
   ]
  },
  {
   "cell_type": "code",
   "execution_count": 843,
   "id": "6613f4da",
   "metadata": {},
   "outputs": [
    {
     "ename": "AttributeError",
     "evalue": "'Series' object has no attribute 'memory'",
     "output_type": "error",
     "traceback": [
      "\u001b[1;31m---------------------------------------------------------------------------\u001b[0m",
      "\u001b[1;31mAttributeError\u001b[0m                            Traceback (most recent call last)",
      "\u001b[1;32m<ipython-input-843-3d351bcf3134>\u001b[0m in \u001b[0;36m<module>\u001b[1;34m\u001b[0m\n\u001b[1;32m----> 1\u001b[1;33m \u001b[0mtest_new\u001b[0m\u001b[1;33m[\u001b[0m\u001b[1;34m'campaign_var_1'\u001b[0m\u001b[1;33m]\u001b[0m\u001b[1;33m.\u001b[0m\u001b[0mmemory\u001b[0m\u001b[1;33m(\u001b[0m\u001b[1;33m)\u001b[0m\u001b[1;33m\u001b[0m\u001b[1;33m\u001b[0m\u001b[0m\n\u001b[0m",
      "\u001b[1;32m~\\anaconda3\\lib\\site-packages\\pandas\\core\\generic.py\u001b[0m in \u001b[0;36m__getattr__\u001b[1;34m(self, name)\u001b[0m\n\u001b[0;32m   5463\u001b[0m             \u001b[1;32mif\u001b[0m \u001b[0mself\u001b[0m\u001b[1;33m.\u001b[0m\u001b[0m_info_axis\u001b[0m\u001b[1;33m.\u001b[0m\u001b[0m_can_hold_identifiers_and_holds_name\u001b[0m\u001b[1;33m(\u001b[0m\u001b[0mname\u001b[0m\u001b[1;33m)\u001b[0m\u001b[1;33m:\u001b[0m\u001b[1;33m\u001b[0m\u001b[1;33m\u001b[0m\u001b[0m\n\u001b[0;32m   5464\u001b[0m                 \u001b[1;32mreturn\u001b[0m \u001b[0mself\u001b[0m\u001b[1;33m[\u001b[0m\u001b[0mname\u001b[0m\u001b[1;33m]\u001b[0m\u001b[1;33m\u001b[0m\u001b[1;33m\u001b[0m\u001b[0m\n\u001b[1;32m-> 5465\u001b[1;33m             \u001b[1;32mreturn\u001b[0m \u001b[0mobject\u001b[0m\u001b[1;33m.\u001b[0m\u001b[0m__getattribute__\u001b[0m\u001b[1;33m(\u001b[0m\u001b[0mself\u001b[0m\u001b[1;33m,\u001b[0m \u001b[0mname\u001b[0m\u001b[1;33m)\u001b[0m\u001b[1;33m\u001b[0m\u001b[1;33m\u001b[0m\u001b[0m\n\u001b[0m\u001b[0;32m   5466\u001b[0m \u001b[1;33m\u001b[0m\u001b[0m\n\u001b[0;32m   5467\u001b[0m     \u001b[1;32mdef\u001b[0m \u001b[0m__setattr__\u001b[0m\u001b[1;33m(\u001b[0m\u001b[0mself\u001b[0m\u001b[1;33m,\u001b[0m \u001b[0mname\u001b[0m\u001b[1;33m:\u001b[0m \u001b[0mstr\u001b[0m\u001b[1;33m,\u001b[0m \u001b[0mvalue\u001b[0m\u001b[1;33m)\u001b[0m \u001b[1;33m->\u001b[0m \u001b[1;32mNone\u001b[0m\u001b[1;33m:\u001b[0m\u001b[1;33m\u001b[0m\u001b[1;33m\u001b[0m\u001b[0m\n",
      "\u001b[1;31mAttributeError\u001b[0m: 'Series' object has no attribute 'memory'"
     ]
    }
   ],
   "source": [
    "test_new['campaign_var_1'].memory_usage()"
   ]
  },
  {
   "cell_type": "code",
   "execution_count": null,
   "id": "4599d23e",
   "metadata": {},
   "outputs": [],
   "source": []
  }
 ],
 "metadata": {
  "kernelspec": {
   "display_name": "Python 3",
   "language": "python",
   "name": "python3"
  },
  "language_info": {
   "codemirror_mode": {
    "name": "ipython",
    "version": 3
   },
   "file_extension": ".py",
   "mimetype": "text/x-python",
   "name": "python",
   "nbconvert_exporter": "python",
   "pygments_lexer": "ipython3",
   "version": "3.8.8"
  }
 },
 "nbformat": 4,
 "nbformat_minor": 5
}
